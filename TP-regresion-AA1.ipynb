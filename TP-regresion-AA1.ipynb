{
 "cells": [
  {
   "cell_type": "markdown",
   "metadata": {},
   "source": [
    "# Trabajo práctico: Predicción de precios de casas"
   ]
  },
  {
   "cell_type": "markdown",
   "metadata": {},
   "source": [
    "Alumnos: Noir Nicolas, González Ignacio\n",
    "\n",
    "Año: 2024\n",
    "\n",
    "Materia: Aprendizaje automático 1\n",
    "\n",
    "Carrera: TUIA"
   ]
  },
  {
   "cell_type": "markdown",
   "metadata": {},
   "source": [
    "## Descripcion de variables\n",
    "\n",
    "Características de entrada en orden:\n",
    "\n",
    "1) CRIM: tasa de criminalidad per cápita por ciudad\n",
    "2) ZN: proporción de terrenos residenciales zonificados para lotes de más de 25,000 pies cuadrados\n",
    "3) INDUS: proporción de acres de negocios no minoristas por ciudad\n",
    "4) CHAS: variable dummy del río Charles (1 si el tramo limita con el río; 0 de lo contrario)\n",
    "5) NOX: concentración de óxidos de nitrógeno (partes por 10 millones) [parts/10M]\n",
    "6) RM: número promedio de habitaciones por vivienda\n",
    "7) AGE: proporción de unidades ocupadas por sus propietarios construidas antes de 1940\n",
    "8) DIS: distancias ponderadas a cinco centros de empleo de Boston\n",
    "9) RAD: índice de accesibilidad a las autopistas radiales\n",
    "10) TAX: tasa de impuesto sobre la propiedad a valor completo por $10,000 [$/10k]\n",
    "11) PTRATIO: proporción alumno-maestro por ciudad\n",
    "12) B: El resultado de la ecuación B=1000(Bk - 0.63)^2 donde Bk es la proporción de negros por ciudad\n",
    "13) LSTAT: % de población de menor estatus socioeconómico\n",
    "\n",
    "Variable de salida (target):\n",
    "\n",
    "14) MEDV: Valor mediano de las viviendas ocupadas por sus propietarios en miles de dólares [k$]\n"
   ]
  },
  {
   "cell_type": "markdown",
   "metadata": {},
   "source": [
    "## Librerias"
   ]
  },
  {
   "cell_type": "markdown",
   "metadata": {},
   "source": [
    "Descarga e instalación de librerias"
   ]
  },
  {
   "cell_type": "code",
   "execution_count": 2,
   "metadata": {},
   "outputs": [],
   "source": [
    "# !pip install scikit-learn\n",
    "# !pip install pandas\n",
    "# !pip install matplotlib\n",
    "# !pip install seaborn\n",
    "# !pip install plotly\n",
    "# !pip install nbformat"
   ]
  },
  {
   "cell_type": "markdown",
   "metadata": {},
   "source": [
    "Importación de librerias"
   ]
  },
  {
   "cell_type": "code",
   "execution_count": 3,
   "metadata": {},
   "outputs": [],
   "source": [
    "import pandas as pd\n",
    "from sklearn.impute import KNNImputer\n",
    "import numpy as np\n",
    "import matplotlib.pyplot as plt \n",
    "import seaborn as sns\n",
    "from sklearn.model_selection import train_test_split\n",
    "import plotly.express as px\n",
    "from sklearn.preprocessing import MinMaxScaler\n",
    "from sklearn.pipeline import make_pipeline\n",
    "import plotly.figure_factory as ff\n",
    "from sklearn.metrics import mean_squared_error\n",
    "from sklearn.linear_model import LinearRegression\n",
    "from sklearn.linear_model import Ridge\n",
    "from sklearn.linear_model import Lasso\n",
    "from sklearn.linear_model import ElasticNet\n",
    "from sklearn.linear_model import SGDRegressor\n",
    "from sklearn.exceptions import DataConversionWarning\n",
    "from sklearn import metrics\n",
    "from sklearn.exceptions import ConvergenceWarning\n",
    "\n",
    "# Libreria necesaria para poder ocultar errores que empeoran la visualización del notebook\n",
    "import warnings\n",
    "warnings.simplefilter(action='ignore', category=FutureWarning)\n",
    "warnings.simplefilter(action='ignore', category=DataConversionWarning)\n",
    "warnings.simplefilter(action='ignore', category=ConvergenceWarning)"
   ]
  },
  {
   "cell_type": "markdown",
   "metadata": {},
   "source": [
    "## 3. Análisis descriptivo."
   ]
  },
  {
   "cell_type": "markdown",
   "metadata": {},
   "source": [
    "### Preprocesamiento de los datos"
   ]
  },
  {
   "cell_type": "code",
   "execution_count": 4,
   "metadata": {},
   "outputs": [],
   "source": [
    "# Carga del dataset desde github para una agilización de el cargado de archivos.\n",
    "# Descarte de los registros en donde la variable de salida es nula o vacía.\n",
    "dataset_completo = pd.read_csv(\"https://github.com/nacho-gonz/AA1-Archivos-2024/raw/master/house-prices-tp.csv\")\n",
    "dataset_completo.dropna(subset=['MEDV'],inplace=True)\n",
    "X_train, X_test, y_train, y_test = train_test_split(dataset_completo.drop('MEDV', axis=1), dataset_completo['MEDV'].values.reshape(-1,1), test_size=0.2,random_state=42)"
   ]
  },
  {
   "cell_type": "code",
   "execution_count": 5,
   "metadata": {},
   "outputs": [
    {
     "data": {
      "text/plain": [
       "((428, 13), (107, 13), (428, 1), (107, 1))"
      ]
     },
     "execution_count": 5,
     "metadata": {},
     "output_type": "execute_result"
    }
   ],
   "source": [
    "X_train.shape, X_test.shape, y_train.shape, y_test.shape"
   ]
  },
  {
   "cell_type": "code",
   "execution_count": 6,
   "metadata": {},
   "outputs": [
    {
     "name": "stdout",
     "output_type": "stream",
     "text": [
      "<class 'pandas.core.frame.DataFrame'>\n",
      "Index: 428 entries, 290 to 106\n",
      "Data columns (total 13 columns):\n",
      " #   Column   Non-Null Count  Dtype  \n",
      "---  ------   --------------  -----  \n",
      " 0   CRIM     420 non-null    float64\n",
      " 1   ZN       419 non-null    float64\n",
      " 2   INDUS    425 non-null    float64\n",
      " 3   CHAS     420 non-null    float64\n",
      " 4   NOX      419 non-null    float64\n",
      " 5   RM       421 non-null    float64\n",
      " 6   AGE      421 non-null    float64\n",
      " 7   DIS      425 non-null    float64\n",
      " 8   RAD      419 non-null    float64\n",
      " 9   TAX      421 non-null    float64\n",
      " 10  PTRATIO  423 non-null    float64\n",
      " 11  B        421 non-null    float64\n",
      " 12  LSTAT    421 non-null    float64\n",
      "dtypes: float64(13)\n",
      "memory usage: 46.8 KB\n"
     ]
    }
   ],
   "source": [
    "# Observación sobre los tipos de datos y la cantidad de datos faltantes.\n",
    "X_train.info()"
   ]
  },
  {
   "cell_type": "code",
   "execution_count": 8,
   "metadata": {},
   "outputs": [
    {
     "data": {
      "text/html": [
       "<div>\n",
       "<style scoped>\n",
       "    .dataframe tbody tr th:only-of-type {\n",
       "        vertical-align: middle;\n",
       "    }\n",
       "\n",
       "    .dataframe tbody tr th {\n",
       "        vertical-align: top;\n",
       "    }\n",
       "\n",
       "    .dataframe thead th {\n",
       "        text-align: right;\n",
       "    }\n",
       "</style>\n",
       "<table border=\"1\" class=\"dataframe\">\n",
       "  <thead>\n",
       "    <tr style=\"text-align: right;\">\n",
       "      <th></th>\n",
       "      <th>CRIM</th>\n",
       "      <th>ZN</th>\n",
       "      <th>INDUS</th>\n",
       "      <th>CHAS</th>\n",
       "      <th>NOX</th>\n",
       "      <th>RM</th>\n",
       "      <th>AGE</th>\n",
       "      <th>DIS</th>\n",
       "      <th>RAD</th>\n",
       "      <th>TAX</th>\n",
       "      <th>PTRATIO</th>\n",
       "      <th>B</th>\n",
       "      <th>LSTAT</th>\n",
       "    </tr>\n",
       "  </thead>\n",
       "  <tbody>\n",
       "    <tr>\n",
       "      <th>290</th>\n",
       "      <td>0.178990</td>\n",
       "      <td>0.000000</td>\n",
       "      <td>9.690000</td>\n",
       "      <td>0.0</td>\n",
       "      <td>0.585</td>\n",
       "      <td>5.670000</td>\n",
       "      <td>28.800000</td>\n",
       "      <td>2.798600</td>\n",
       "      <td>6.0</td>\n",
       "      <td>391.0</td>\n",
       "      <td>19.200000</td>\n",
       "      <td>393.290000</td>\n",
       "      <td>17.600000</td>\n",
       "    </tr>\n",
       "    <tr>\n",
       "      <th>357</th>\n",
       "      <td>0.047410</td>\n",
       "      <td>0.000000</td>\n",
       "      <td>11.930000</td>\n",
       "      <td>0.0</td>\n",
       "      <td>0.573</td>\n",
       "      <td>6.030000</td>\n",
       "      <td>80.800000</td>\n",
       "      <td>2.505000</td>\n",
       "      <td>1.0</td>\n",
       "      <td>273.0</td>\n",
       "      <td>21.000000</td>\n",
       "      <td>396.900000</td>\n",
       "      <td>7.880000</td>\n",
       "    </tr>\n",
       "    <tr>\n",
       "      <th>458</th>\n",
       "      <td>12.510504</td>\n",
       "      <td>11.610423</td>\n",
       "      <td>14.404205</td>\n",
       "      <td>0.0</td>\n",
       "      <td>NaN</td>\n",
       "      <td>7.949105</td>\n",
       "      <td>95.592034</td>\n",
       "      <td>1.263211</td>\n",
       "      <td>NaN</td>\n",
       "      <td>NaN</td>\n",
       "      <td>12.865192</td>\n",
       "      <td>284.787493</td>\n",
       "      <td>27.789443</td>\n",
       "    </tr>\n",
       "    <tr>\n",
       "      <th>438</th>\n",
       "      <td>0.110270</td>\n",
       "      <td>25.000000</td>\n",
       "      <td>5.130000</td>\n",
       "      <td>0.0</td>\n",
       "      <td>0.453</td>\n",
       "      <td>6.456000</td>\n",
       "      <td>67.800000</td>\n",
       "      <td>7.225500</td>\n",
       "      <td>8.0</td>\n",
       "      <td>284.0</td>\n",
       "      <td>19.700000</td>\n",
       "      <td>396.900000</td>\n",
       "      <td>6.730000</td>\n",
       "    </tr>\n",
       "    <tr>\n",
       "      <th>153</th>\n",
       "      <td>14.420800</td>\n",
       "      <td>0.000000</td>\n",
       "      <td>18.100000</td>\n",
       "      <td>0.0</td>\n",
       "      <td>0.740</td>\n",
       "      <td>6.461000</td>\n",
       "      <td>93.300000</td>\n",
       "      <td>2.002600</td>\n",
       "      <td>24.0</td>\n",
       "      <td>666.0</td>\n",
       "      <td>20.200000</td>\n",
       "      <td>27.490000</td>\n",
       "      <td>18.050000</td>\n",
       "    </tr>\n",
       "  </tbody>\n",
       "</table>\n",
       "</div>"
      ],
      "text/plain": [
       "          CRIM         ZN      INDUS  CHAS    NOX        RM        AGE  \\\n",
       "290   0.178990   0.000000   9.690000   0.0  0.585  5.670000  28.800000   \n",
       "357   0.047410   0.000000  11.930000   0.0  0.573  6.030000  80.800000   \n",
       "458  12.510504  11.610423  14.404205   0.0    NaN  7.949105  95.592034   \n",
       "438   0.110270  25.000000   5.130000   0.0  0.453  6.456000  67.800000   \n",
       "153  14.420800   0.000000  18.100000   0.0  0.740  6.461000  93.300000   \n",
       "\n",
       "          DIS   RAD    TAX    PTRATIO           B      LSTAT  \n",
       "290  2.798600   6.0  391.0  19.200000  393.290000  17.600000  \n",
       "357  2.505000   1.0  273.0  21.000000  396.900000   7.880000  \n",
       "458  1.263211   NaN    NaN  12.865192  284.787493  27.789443  \n",
       "438  7.225500   8.0  284.0  19.700000  396.900000   6.730000  \n",
       "153  2.002600  24.0  666.0  20.200000   27.490000  18.050000  "
      ]
     },
     "execution_count": 8,
     "metadata": {},
     "output_type": "execute_result"
    }
   ],
   "source": [
    "# Chequeo de que si en verdad todas las variables son de tipo float.\n",
    "X_train.head()"
   ]
  },
  {
   "cell_type": "code",
   "execution_count": 20,
   "metadata": {},
   "outputs": [
    {
     "name": "stdout",
     "output_type": "stream",
     "text": [
      "<class 'pandas.core.frame.DataFrame'>\n",
      "Index: 428 entries, 290 to 106\n",
      "Data columns (total 13 columns):\n",
      " #   Column   Non-Null Count  Dtype   \n",
      "---  ------   --------------  -----   \n",
      " 0   CRIM     428 non-null    float64 \n",
      " 1   ZN       428 non-null    float64 \n",
      " 2   INDUS    428 non-null    float64 \n",
      " 3   CHAS     428 non-null    category\n",
      " 4   NOX      428 non-null    float64 \n",
      " 5   RM       428 non-null    float64 \n",
      " 6   AGE      428 non-null    float64 \n",
      " 7   DIS      428 non-null    float64 \n",
      " 8   RAD      428 non-null    int64   \n",
      " 9   TAX      428 non-null    float64 \n",
      " 10  PTRATIO  428 non-null    float64 \n",
      " 11  B        428 non-null    float64 \n",
      " 12  LSTAT    428 non-null    float64 \n",
      "dtypes: category(1), float64(11), int64(1)\n",
      "memory usage: 44.0 KB\n"
     ]
    }
   ],
   "source": [
    "# Elijo imputar los valores con KNN, ya que estima de una manera más real el valor que podrían \n",
    "# tener esos registros. En el caso de 'CHAS' creo que aunque esta manera de imputar valores no funciona\n",
    "# que no son 0 o 1, al redondear va a seguir siendo más certero que cualquier metodo de imputación de valores.\n",
    "knn_imputer = KNNImputer(n_neighbors=5).set_output(transform='pandas')\n",
    "X_train_imputado_df = knn_imputer.fit_transform(X_train)\n",
    "X_train_imputado_df['RAD'] = X_train_imputado_df['RAD'].round().astype('int')\n",
    "X_train_imputado_df['CHAS'] = X_train_imputado_df['CHAS'].round().astype('category')\n",
    "X_train_imputado_df.info()\n",
    "y_train_df = pd.DataFrame(y_train,columns=['MEDV'])\n",
    "x_test_imputado = knn_imputer.transform(X_test)"
   ]
  },
  {
   "cell_type": "markdown",
   "metadata": {},
   "source": [
    "### Visualización de los datos"
   ]
  },
  {
   "cell_type": "code",
   "execution_count": 17,
   "metadata": {},
   "outputs": [
    {
     "data": {
      "application/vnd.plotly.v1+json": {
       "config": {
        "plotlyServerURL": "https://plot.ly"
       },
       "data": [
        {
         "hovertemplate": "Proporción de casas ocupadas por sus propietarios construidas antes de 1940=%{x}<br>Distancias ponderadas a cinco centros de empleo de Boston=%{y}<extra></extra>",
         "legendgroup": "",
         "marker": {
          "color": "#636efa",
          "symbol": "circle"
         },
         "mode": "markers",
         "name": "",
         "orientation": "v",
         "showlegend": false,
         "type": "scatter",
         "x": [
          28.8,
          80.8,
          95.59203435788464,
          67.8,
          93.3,
          17.8,
          80.3,
          44.4,
          58.8,
          100,
          67.6,
          74.3,
          94.1,
          100,
          28.4,
          83.2,
          97,
          79.9,
          70.78009822202202,
          26.19073369254249,
          48,
          38.4,
          73.9,
          65.2,
          82.9,
          45.8,
          94.5,
          69.5,
          31.1,
          21.4,
          96,
          69.7,
          36.8,
          15.7,
          35.7,
          52.8,
          100,
          98.8,
          6.8,
          76.7,
          42.3,
          95.3,
          88,
          40.5,
          80.8,
          43.7,
          94.6,
          91.7,
          98.4,
          48.2,
          96.9,
          100,
          21.9,
          36.6,
          56.4,
          93,
          47.2,
          54.4,
          19.5,
          14.7,
          70.2,
          94.8,
          6,
          35.9,
          53.6,
          95,
          2.9,
          22.542423537494603,
          37.2,
          59.7,
          38.5,
          69.1,
          96.7,
          91.4,
          92.1,
          98.1,
          43.4,
          92.4,
          72.9,
          45.7,
          93.9,
          100,
          86.5,
          70.6,
          92.6,
          97.5,
          94.1,
          35.54036672196615,
          17.7,
          87.3,
          6.6,
          53.7,
          95.4,
          96.8,
          32.9,
          34.2,
          86.3,
          73.5,
          92.6,
          44.2978648859331,
          45.6,
          54.2,
          62.8,
          86.5,
          95,
          83.5,
          98.8,
          84.4,
          93.6,
          59.7,
          68.7,
          31.3,
          91.9,
          42.62925557662629,
          9.9,
          27.7,
          77.54798698400344,
          100,
          87.9,
          76.5,
          76,
          94.9,
          98.2,
          33.3,
          89.8,
          91.9,
          21.5,
          96,
          96.1,
          98.2,
          71,
          74.4,
          100,
          30.8,
          58.1,
          100,
          100,
          67,
          100,
          88.4,
          17.5,
          34.5,
          89.4,
          56.7,
          94,
          79.2,
          83.7,
          60.93730582861713,
          100,
          94.3,
          61.4,
          72.5,
          89.2,
          52.3,
          74.9,
          92.4,
          61.5,
          100,
          36.1,
          95.4,
          100,
          100,
          13.122262345596411,
          96.4,
          88.6,
          96,
          95.2,
          100,
          22.3,
          72.48770574184505,
          6.5,
          96,
          73.3,
          89.5,
          7.8,
          37.09865050477092,
          68.1,
          36.6,
          41.9,
          92.9,
          27.9,
          88,
          61.5,
          96.2,
          45.1,
          20.1,
          90.3,
          95.7,
          94.6,
          97.3,
          82.6,
          100,
          77.7,
          88,
          37.8,
          47.6,
          91.2,
          82,
          100,
          75,
          82.5,
          97.4,
          82.6,
          98.9,
          29.2,
          87.9,
          13,
          33.2,
          70.3,
          97.4,
          91.1,
          51.8,
          98.3,
          85.5,
          32,
          18.8,
          88.8,
          53.8,
          69.6,
          79.9,
          42.6,
          71.25414607495,
          96.6,
          65.2,
          97.9,
          30.2,
          17,
          58.7,
          83.3,
          32.2,
          46.7,
          97,
          97.7,
          35.16243260617871,
          85.1,
          98.3,
          100,
          85.9,
          58.5,
          97.52136221484452,
          71.7,
          78.1,
          91.8,
          84.1,
          25.8,
          33.1,
          91,
          41.1,
          98.4,
          8.022743390746529,
          52.6,
          85.7,
          81.6,
          100,
          100,
          66.6,
          42.4,
          86.9,
          65.4,
          27.6,
          100,
          61.8,
          38.3,
          100,
          95.8,
          77,
          91.6,
          97.9,
          37.3,
          88.5,
          18.5,
          94.7,
          48.5,
          100,
          31.9,
          76.7,
          34.9,
          71.3,
          40.1,
          52.9,
          97.3,
          56,
          91,
          100,
          38.1,
          58.4,
          17.2,
          100,
          94.5,
          100,
          93.4,
          100,
          17.5,
          66.2,
          45.8,
          32.1,
          98.7,
          79.7,
          79.2,
          87.9,
          78.3,
          91.8,
          100,
          100,
          100,
          76.5,
          100,
          32.3,
          21.1,
          100,
          100,
          56.9642724429689,
          56.5,
          36.9,
          29.3,
          23.5934052130453,
          41.1,
          100,
          89,
          62.2,
          98.8,
          41.5,
          90,
          15.8,
          68.8,
          90.7,
          21.4,
          74.5,
          79.8,
          18.4,
          10,
          100,
          9.8,
          21.8,
          92.2,
          64.22221941934322,
          67.2,
          100,
          8.9,
          93.9,
          94.3,
          64.5,
          22.9,
          61.1,
          65.1,
          20.299500138052053,
          73.1,
          40.3,
          71.6,
          18.4,
          77.3,
          6.2,
          31.5,
          100,
          83,
          100,
          72.7,
          95.4,
          49.3,
          99.3,
          31.9,
          27.7,
          51,
          42.8,
          68.2,
          90.8,
          70.4,
          77.8,
          19.1,
          56.1,
          96.7,
          97.3,
          89.1,
          94.1,
          54.3,
          78.9,
          63,
          26.3,
          52.5,
          98.9,
          98.5,
          97,
          41.83973188964385,
          72.79678106324984,
          93.3,
          96.6,
          54.3,
          94.4,
          59.6,
          32,
          34.1,
          98.2,
          100,
          58.7,
          92.7,
          38.9,
          39,
          32.2,
          100,
          28.1,
          95.6,
          51.9,
          88.4,
          96.2,
          84.7,
          97.9,
          98.1,
          84.5,
          15.3,
          87.9,
          70.4,
          21.4,
          97.9,
          20.8,
          62,
          53.2,
          66.1,
          88.2,
          97.8,
          7.8,
          96.2,
          21.9,
          63.1,
          70.6,
          100,
          86.1,
          31.1,
          33.5
         ],
         "xaxis": "x",
         "y": [
          2.7986,
          2.505,
          1.2632106230190132,
          7.2255,
          2.0026,
          6.6115,
          2.7792,
          8.7921,
          4.0019,
          1.6582,
          2.5329,
          4.7211,
          2.4961,
          1.9142,
          6.6407,
          3.9986,
          1.77,
          2.7778,
          5.81628162246572,
          10.590040428036325,
          4.7794,
          6.27,
          3.0921,
          4.09,
          1.9047,
          4.0905,
          2.5403,
          3.7965,
          5.9604,
          6.498,
          1.6768,
          2.2577,
          6.498,
          6.27,
          9.1876,
          2.6403,
          1.3216,
          1.358,
          8.9067,
          2.2875,
          5.5027,
          1.8746,
          2.5182,
          8.3248,
          3.2721,
          5.4159,
          2.4259,
          3.9769,
          2.346,
          3.0665,
          3.7598,
          1.5916,
          10.5857,
          7.309,
          5.7321,
          2.2834,
          3.5549,
          2.7778,
          10.5857,
          5.4159,
          7.9549,
          1.9879,
          4.2515,
          10.7103,
          3.1992,
          3.7872,
          5.7209,
          5.73120758475725,
          5.2447,
          6.2669,
          6.4584,
          2.4786,
          2.1069,
          1.7523,
          3.8771,
          1.4261,
          7.9809,
          1.8662,
          2.7986,
          6.8147,
          1.8172,
          1.1781,
          2.4358,
          2.8927,
          2.3236,
          1.2024,
          4.233,
          1.967787424751465,
          5.4917,
          3.6023,
          5.2873,
          5.0141,
          2.4699,
          1.3567,
          4.0776,
          6.3361,
          3.4217,
          2.3999,
          1.7912,
          5.877938854839362,
          7.3172,
          6.0622,
          1.9865,
          3.2157,
          2.2222,
          2.1099,
          1.8125,
          2.7175,
          2.3053,
          1.9976,
          2.7019,
          7.3172,
          1.4165,
          11.109178921821504,
          6.2196,
          8.5353,
          10.34819529344318,
          1.5804,
          2.3158,
          1.794,
          3.4952,
          1.5257,
          2.3552,
          5.1004,
          2.9879,
          2.211,
          6.4798,
          1.7028,
          5.9505,
          2.0407,
          2.9084,
          2.9153,
          4.0952,
          6.4798,
          3.37,
          1.639,
          1.3325,
          2.4216,
          1.4896,
          2.5671,
          7.8265,
          5.9853,
          2.1398,
          2.8237,
          1.7364,
          8.0555,
          2.7831,
          5.243777164987254,
          1.7573,
          6.3467,
          3.3779,
          2.7301,
          4.0123,
          8.0136,
          3.3317,
          3.3633,
          3.6519,
          1.5895,
          12.1265,
          2.4298,
          1.5539,
          1.413,
          4.401141632005694,
          2.072,
          3.665,
          1.7883,
          2.2625,
          1.4254,
          3.9454,
          1.8957379667813807,
          5.7209,
          1.7494,
          3.8384,
          1.5184,
          7.0355,
          3.6982190215113375,
          3.6715,
          3.7965,
          3.724,
          2.3534,
          5.1167,
          1.6102,
          3.9175,
          2.1036,
          4.4272,
          7.8278,
          4.682,
          1.4608,
          2.1247,
          1.618,
          1.7455,
          1.8347,
          3.945,
          1.9512,
          2.5194,
          7.3197,
          1.4395,
          3.99,
          1.5741,
          2.8965,
          2.1678,
          2.206,
          2.7474,
          1.6334,
          7.8148,
          1.8206,
          7.3967,
          5.118,
          3.1827,
          1.8773,
          2.2955,
          4.3665,
          2.185,
          5.6894,
          5.6484,
          6.2196,
          4.4534,
          3.6526,
          3.4952,
          3.2157,
          2.3817,
          3.5887811832924386,
          1.8956,
          2.7592,
          1.6687,
          3.8473,
          3.3751,
          3.9175,
          2.741,
          4.1007,
          5.4007,
          1.9265,
          2.271,
          4.725895234990796,
          3.4211,
          1.7554,
          1.8946,
          6.5921,
          4.8122,
          2.9640766625636976,
          4.0317,
          1.9356,
          2.422,
          2.6463,
          5.2146,
          3.1323,
          2.1675,
          4.022,
          1.8498,
          5.16334850768584,
          2.872,
          4.4546,
          2.6775,
          1.137,
          3.875,
          5.5605,
          3.9454,
          1.801,
          2.9634,
          4.8628,
          1.5894,
          4.7075,
          7.309,
          1.3861,
          2.0063,
          3.4106,
          1.9301,
          1.4547,
          4.8122,
          2.5961,
          10.7103,
          1.7821,
          8.0136,
          1.5888,
          7.3073,
          3.1025,
          8.0555,
          2.8561,
          4.7211,
          7.0355,
          2.1007,
          3.1121,
          2.5052,
          1.5166,
          6.4584,
          2.829,
          5.2146,
          1.4655,
          2.0788,
          1.5331,
          6.8185,
          1.4394,
          5.2873,
          7.2254,
          6.0622,
          4.1403,
          2.2616,
          2.4982,
          2.4259,
          1.6132,
          2.8944,
          2.3682,
          1.5106,
          1.4118,
          1.4191,
          7.9549,
          1.5275,
          3.9454,
          6.8147,
          1.8026,
          4.175,
          5.112495332512739,
          4.4986,
          3.4952,
          4.4986,
          5.062472003475328,
          3.7886,
          1.7659,
          1.9047,
          2.5979,
          1.8681,
          3.9342,
          2.5975,
          5.4011,
          3.2797,
          3.0993,
          6.8147,
          4.0522,
          3.5459,
          5.4917,
          7.8278,
          1.1742,
          3.5875,
          5.4011,
          2.7006,
          4.658411026746792,
          3.5325,
          2.0107,
          7.3967,
          2.162,
          2.0882,
          4.6947,
          7.3172,
          4.9671,
          6.3361,
          2.9012478987981227,
          2.4775,
          4.0983,
          4.148,
          5.5027,
          3.615,
          5.2873,
          9.0892,
          1.9784,
          2.7344,
          1.8589,
          4.3549,
          1.9096,
          7.0379,
          2.4527,
          5.118,
          5.1167,
          5.9604,
          4.2673,
          3.3603,
          1.9709,
          3.6519,
          1.5004,
          9.2203,
          4.4377,
          2.1705,
          2.3887,
          1.6475,
          4.3996,
          4.5404,
          4.9671,
          6.8147,
          6.4798,
          4.3549,
          2.1185,
          1.6232,
          1.9444,
          6.348893730493283,
          7.636341980878592,
          1.3449,
          2.198,
          6.3361,
          4.4547,
          5.615,
          9.2203,
          7.309,
          1.6686,
          2.0048,
          6.0622,
          1.8209,
          4.5667,
          5.4509,
          5.4007,
          6.0821,
          6.4654,
          1.9682,
          3.9917,
          1.9929,
          2.0459,
          2.8715,
          1.3163,
          3.7979,
          4.4619,
          7.6534,
          2.5806,
          5.4007,
          3.3751,
          2.3274,
          7.3073,
          6.0877,
          3.1523,
          3.0923,
          2.4631,
          1.3459,
          5.2873,
          1.3861,
          8.6966,
          3.4145,
          2.0635,
          1.1691,
          2.0527,
          6.6115,
          5.4007
         ],
         "yaxis": "y"
        }
       ],
       "layout": {
        "legend": {
         "tracegroupgap": 0
        },
        "template": {
         "data": {
          "bar": [
           {
            "error_x": {
             "color": "#2a3f5f"
            },
            "error_y": {
             "color": "#2a3f5f"
            },
            "marker": {
             "line": {
              "color": "#E5ECF6",
              "width": 0.5
             },
             "pattern": {
              "fillmode": "overlay",
              "size": 10,
              "solidity": 0.2
             }
            },
            "type": "bar"
           }
          ],
          "barpolar": [
           {
            "marker": {
             "line": {
              "color": "#E5ECF6",
              "width": 0.5
             },
             "pattern": {
              "fillmode": "overlay",
              "size": 10,
              "solidity": 0.2
             }
            },
            "type": "barpolar"
           }
          ],
          "carpet": [
           {
            "aaxis": {
             "endlinecolor": "#2a3f5f",
             "gridcolor": "white",
             "linecolor": "white",
             "minorgridcolor": "white",
             "startlinecolor": "#2a3f5f"
            },
            "baxis": {
             "endlinecolor": "#2a3f5f",
             "gridcolor": "white",
             "linecolor": "white",
             "minorgridcolor": "white",
             "startlinecolor": "#2a3f5f"
            },
            "type": "carpet"
           }
          ],
          "choropleth": [
           {
            "colorbar": {
             "outlinewidth": 0,
             "ticks": ""
            },
            "type": "choropleth"
           }
          ],
          "contour": [
           {
            "colorbar": {
             "outlinewidth": 0,
             "ticks": ""
            },
            "colorscale": [
             [
              0,
              "#0d0887"
             ],
             [
              0.1111111111111111,
              "#46039f"
             ],
             [
              0.2222222222222222,
              "#7201a8"
             ],
             [
              0.3333333333333333,
              "#9c179e"
             ],
             [
              0.4444444444444444,
              "#bd3786"
             ],
             [
              0.5555555555555556,
              "#d8576b"
             ],
             [
              0.6666666666666666,
              "#ed7953"
             ],
             [
              0.7777777777777778,
              "#fb9f3a"
             ],
             [
              0.8888888888888888,
              "#fdca26"
             ],
             [
              1,
              "#f0f921"
             ]
            ],
            "type": "contour"
           }
          ],
          "contourcarpet": [
           {
            "colorbar": {
             "outlinewidth": 0,
             "ticks": ""
            },
            "type": "contourcarpet"
           }
          ],
          "heatmap": [
           {
            "colorbar": {
             "outlinewidth": 0,
             "ticks": ""
            },
            "colorscale": [
             [
              0,
              "#0d0887"
             ],
             [
              0.1111111111111111,
              "#46039f"
             ],
             [
              0.2222222222222222,
              "#7201a8"
             ],
             [
              0.3333333333333333,
              "#9c179e"
             ],
             [
              0.4444444444444444,
              "#bd3786"
             ],
             [
              0.5555555555555556,
              "#d8576b"
             ],
             [
              0.6666666666666666,
              "#ed7953"
             ],
             [
              0.7777777777777778,
              "#fb9f3a"
             ],
             [
              0.8888888888888888,
              "#fdca26"
             ],
             [
              1,
              "#f0f921"
             ]
            ],
            "type": "heatmap"
           }
          ],
          "heatmapgl": [
           {
            "colorbar": {
             "outlinewidth": 0,
             "ticks": ""
            },
            "colorscale": [
             [
              0,
              "#0d0887"
             ],
             [
              0.1111111111111111,
              "#46039f"
             ],
             [
              0.2222222222222222,
              "#7201a8"
             ],
             [
              0.3333333333333333,
              "#9c179e"
             ],
             [
              0.4444444444444444,
              "#bd3786"
             ],
             [
              0.5555555555555556,
              "#d8576b"
             ],
             [
              0.6666666666666666,
              "#ed7953"
             ],
             [
              0.7777777777777778,
              "#fb9f3a"
             ],
             [
              0.8888888888888888,
              "#fdca26"
             ],
             [
              1,
              "#f0f921"
             ]
            ],
            "type": "heatmapgl"
           }
          ],
          "histogram": [
           {
            "marker": {
             "pattern": {
              "fillmode": "overlay",
              "size": 10,
              "solidity": 0.2
             }
            },
            "type": "histogram"
           }
          ],
          "histogram2d": [
           {
            "colorbar": {
             "outlinewidth": 0,
             "ticks": ""
            },
            "colorscale": [
             [
              0,
              "#0d0887"
             ],
             [
              0.1111111111111111,
              "#46039f"
             ],
             [
              0.2222222222222222,
              "#7201a8"
             ],
             [
              0.3333333333333333,
              "#9c179e"
             ],
             [
              0.4444444444444444,
              "#bd3786"
             ],
             [
              0.5555555555555556,
              "#d8576b"
             ],
             [
              0.6666666666666666,
              "#ed7953"
             ],
             [
              0.7777777777777778,
              "#fb9f3a"
             ],
             [
              0.8888888888888888,
              "#fdca26"
             ],
             [
              1,
              "#f0f921"
             ]
            ],
            "type": "histogram2d"
           }
          ],
          "histogram2dcontour": [
           {
            "colorbar": {
             "outlinewidth": 0,
             "ticks": ""
            },
            "colorscale": [
             [
              0,
              "#0d0887"
             ],
             [
              0.1111111111111111,
              "#46039f"
             ],
             [
              0.2222222222222222,
              "#7201a8"
             ],
             [
              0.3333333333333333,
              "#9c179e"
             ],
             [
              0.4444444444444444,
              "#bd3786"
             ],
             [
              0.5555555555555556,
              "#d8576b"
             ],
             [
              0.6666666666666666,
              "#ed7953"
             ],
             [
              0.7777777777777778,
              "#fb9f3a"
             ],
             [
              0.8888888888888888,
              "#fdca26"
             ],
             [
              1,
              "#f0f921"
             ]
            ],
            "type": "histogram2dcontour"
           }
          ],
          "mesh3d": [
           {
            "colorbar": {
             "outlinewidth": 0,
             "ticks": ""
            },
            "type": "mesh3d"
           }
          ],
          "parcoords": [
           {
            "line": {
             "colorbar": {
              "outlinewidth": 0,
              "ticks": ""
             }
            },
            "type": "parcoords"
           }
          ],
          "pie": [
           {
            "automargin": true,
            "type": "pie"
           }
          ],
          "scatter": [
           {
            "fillpattern": {
             "fillmode": "overlay",
             "size": 10,
             "solidity": 0.2
            },
            "type": "scatter"
           }
          ],
          "scatter3d": [
           {
            "line": {
             "colorbar": {
              "outlinewidth": 0,
              "ticks": ""
             }
            },
            "marker": {
             "colorbar": {
              "outlinewidth": 0,
              "ticks": ""
             }
            },
            "type": "scatter3d"
           }
          ],
          "scattercarpet": [
           {
            "marker": {
             "colorbar": {
              "outlinewidth": 0,
              "ticks": ""
             }
            },
            "type": "scattercarpet"
           }
          ],
          "scattergeo": [
           {
            "marker": {
             "colorbar": {
              "outlinewidth": 0,
              "ticks": ""
             }
            },
            "type": "scattergeo"
           }
          ],
          "scattergl": [
           {
            "marker": {
             "colorbar": {
              "outlinewidth": 0,
              "ticks": ""
             }
            },
            "type": "scattergl"
           }
          ],
          "scattermapbox": [
           {
            "marker": {
             "colorbar": {
              "outlinewidth": 0,
              "ticks": ""
             }
            },
            "type": "scattermapbox"
           }
          ],
          "scatterpolar": [
           {
            "marker": {
             "colorbar": {
              "outlinewidth": 0,
              "ticks": ""
             }
            },
            "type": "scatterpolar"
           }
          ],
          "scatterpolargl": [
           {
            "marker": {
             "colorbar": {
              "outlinewidth": 0,
              "ticks": ""
             }
            },
            "type": "scatterpolargl"
           }
          ],
          "scatterternary": [
           {
            "marker": {
             "colorbar": {
              "outlinewidth": 0,
              "ticks": ""
             }
            },
            "type": "scatterternary"
           }
          ],
          "surface": [
           {
            "colorbar": {
             "outlinewidth": 0,
             "ticks": ""
            },
            "colorscale": [
             [
              0,
              "#0d0887"
             ],
             [
              0.1111111111111111,
              "#46039f"
             ],
             [
              0.2222222222222222,
              "#7201a8"
             ],
             [
              0.3333333333333333,
              "#9c179e"
             ],
             [
              0.4444444444444444,
              "#bd3786"
             ],
             [
              0.5555555555555556,
              "#d8576b"
             ],
             [
              0.6666666666666666,
              "#ed7953"
             ],
             [
              0.7777777777777778,
              "#fb9f3a"
             ],
             [
              0.8888888888888888,
              "#fdca26"
             ],
             [
              1,
              "#f0f921"
             ]
            ],
            "type": "surface"
           }
          ],
          "table": [
           {
            "cells": {
             "fill": {
              "color": "#EBF0F8"
             },
             "line": {
              "color": "white"
             }
            },
            "header": {
             "fill": {
              "color": "#C8D4E3"
             },
             "line": {
              "color": "white"
             }
            },
            "type": "table"
           }
          ]
         },
         "layout": {
          "annotationdefaults": {
           "arrowcolor": "#2a3f5f",
           "arrowhead": 0,
           "arrowwidth": 1
          },
          "autotypenumbers": "strict",
          "coloraxis": {
           "colorbar": {
            "outlinewidth": 0,
            "ticks": ""
           }
          },
          "colorscale": {
           "diverging": [
            [
             0,
             "#8e0152"
            ],
            [
             0.1,
             "#c51b7d"
            ],
            [
             0.2,
             "#de77ae"
            ],
            [
             0.3,
             "#f1b6da"
            ],
            [
             0.4,
             "#fde0ef"
            ],
            [
             0.5,
             "#f7f7f7"
            ],
            [
             0.6,
             "#e6f5d0"
            ],
            [
             0.7,
             "#b8e186"
            ],
            [
             0.8,
             "#7fbc41"
            ],
            [
             0.9,
             "#4d9221"
            ],
            [
             1,
             "#276419"
            ]
           ],
           "sequential": [
            [
             0,
             "#0d0887"
            ],
            [
             0.1111111111111111,
             "#46039f"
            ],
            [
             0.2222222222222222,
             "#7201a8"
            ],
            [
             0.3333333333333333,
             "#9c179e"
            ],
            [
             0.4444444444444444,
             "#bd3786"
            ],
            [
             0.5555555555555556,
             "#d8576b"
            ],
            [
             0.6666666666666666,
             "#ed7953"
            ],
            [
             0.7777777777777778,
             "#fb9f3a"
            ],
            [
             0.8888888888888888,
             "#fdca26"
            ],
            [
             1,
             "#f0f921"
            ]
           ],
           "sequentialminus": [
            [
             0,
             "#0d0887"
            ],
            [
             0.1111111111111111,
             "#46039f"
            ],
            [
             0.2222222222222222,
             "#7201a8"
            ],
            [
             0.3333333333333333,
             "#9c179e"
            ],
            [
             0.4444444444444444,
             "#bd3786"
            ],
            [
             0.5555555555555556,
             "#d8576b"
            ],
            [
             0.6666666666666666,
             "#ed7953"
            ],
            [
             0.7777777777777778,
             "#fb9f3a"
            ],
            [
             0.8888888888888888,
             "#fdca26"
            ],
            [
             1,
             "#f0f921"
            ]
           ]
          },
          "colorway": [
           "#636efa",
           "#EF553B",
           "#00cc96",
           "#ab63fa",
           "#FFA15A",
           "#19d3f3",
           "#FF6692",
           "#B6E880",
           "#FF97FF",
           "#FECB52"
          ],
          "font": {
           "color": "#2a3f5f"
          },
          "geo": {
           "bgcolor": "white",
           "lakecolor": "white",
           "landcolor": "#E5ECF6",
           "showlakes": true,
           "showland": true,
           "subunitcolor": "white"
          },
          "hoverlabel": {
           "align": "left"
          },
          "hovermode": "closest",
          "mapbox": {
           "style": "light"
          },
          "paper_bgcolor": "white",
          "plot_bgcolor": "#E5ECF6",
          "polar": {
           "angularaxis": {
            "gridcolor": "white",
            "linecolor": "white",
            "ticks": ""
           },
           "bgcolor": "#E5ECF6",
           "radialaxis": {
            "gridcolor": "white",
            "linecolor": "white",
            "ticks": ""
           }
          },
          "scene": {
           "xaxis": {
            "backgroundcolor": "#E5ECF6",
            "gridcolor": "white",
            "gridwidth": 2,
            "linecolor": "white",
            "showbackground": true,
            "ticks": "",
            "zerolinecolor": "white"
           },
           "yaxis": {
            "backgroundcolor": "#E5ECF6",
            "gridcolor": "white",
            "gridwidth": 2,
            "linecolor": "white",
            "showbackground": true,
            "ticks": "",
            "zerolinecolor": "white"
           },
           "zaxis": {
            "backgroundcolor": "#E5ECF6",
            "gridcolor": "white",
            "gridwidth": 2,
            "linecolor": "white",
            "showbackground": true,
            "ticks": "",
            "zerolinecolor": "white"
           }
          },
          "shapedefaults": {
           "line": {
            "color": "#2a3f5f"
           }
          },
          "ternary": {
           "aaxis": {
            "gridcolor": "white",
            "linecolor": "white",
            "ticks": ""
           },
           "baxis": {
            "gridcolor": "white",
            "linecolor": "white",
            "ticks": ""
           },
           "bgcolor": "#E5ECF6",
           "caxis": {
            "gridcolor": "white",
            "linecolor": "white",
            "ticks": ""
           }
          },
          "title": {
           "x": 0.05
          },
          "xaxis": {
           "automargin": true,
           "gridcolor": "white",
           "linecolor": "white",
           "ticks": "",
           "title": {
            "standoff": 15
           },
           "zerolinecolor": "white",
           "zerolinewidth": 2
          },
          "yaxis": {
           "automargin": true,
           "gridcolor": "white",
           "linecolor": "white",
           "ticks": "",
           "title": {
            "standoff": 15
           },
           "zerolinecolor": "white",
           "zerolinewidth": 2
          }
         }
        },
        "title": {
         "text": "Comparación entre la cercania a centros de empleo y la proporción de casas antiguas"
        },
        "xaxis": {
         "anchor": "y",
         "domain": [
          0,
          1
         ],
         "title": {
          "text": "Proporción de casas ocupadas por sus propietarios construidas antes de 1940"
         }
        },
        "yaxis": {
         "anchor": "x",
         "domain": [
          0,
          1
         ],
         "title": {
          "text": "Distancias ponderadas a cinco centros de empleo de Boston"
         }
        }
       }
      }
     },
     "metadata": {},
     "output_type": "display_data"
    }
   ],
   "source": [
    "fig = px.scatter(x=X_train_imputado_df['AGE'], y=X_train_imputado_df['DIS'], \n",
    "                title='Comparación entre la cercania a centros de empleo y la proporción de casas antiguas'\n",
    "                , labels={'x':'Proporción de casas ocupadas por sus propietarios construidas antes de 1940',\n",
    "                            'y':'Distancias ponderadas a cinco centros de empleo de Boston'})\n",
    "fig.show()"
   ]
  },
  {
   "cell_type": "markdown",
   "metadata": {},
   "source": [
    "Se observa una relación negativa media entre la proporción de casas construidas antes de 1940 que estan ocupadas y la distancia a los centros de empleo, es decir, entre más casas construidas antes de 1940 hay, más cercano a 5 centros de empleos de boston va a estar."
   ]
  },
  {
   "cell_type": "code",
   "execution_count": 10,
   "metadata": {},
   "outputs": [
    {
     "data": {
      "application/vnd.plotly.v1+json": {
       "config": {
        "plotlyServerURL": "https://plot.ly"
       },
       "data": [
        {
         "alignmentgroup": "True",
         "hovertemplate": "MEDV=%{x}<extra></extra>",
         "legendgroup": "",
         "marker": {
          "color": "#636efa"
         },
         "name": "",
         "notched": false,
         "offsetgroup": "",
         "orientation": "h",
         "showlegend": false,
         "type": "box",
         "x": [
          23.1,
          11.9,
          28.81242565447334,
          22.2,
          9.6,
          23.5,
          13.5,
          22.9,
          21,
          7,
          29.8,
          18.5,
          14.9,
          8.7,
          17.1,
          17.8,
          9.7,
          27.5,
          24.241711821460942,
          12.937564100385178,
          23.9,
          24.1,
          22,
          24,
          21.9,
          20.8,
          19.1,
          18.2,
          28.6,
          22,
          12.5,
          22,
          17.4,
          42.3,
          24.7,
          22.1,
          13.4,
          13.3,
          29.6,
          20.6,
          21.7,
          14.2,
          25,
          31.6,
          30.1,
          22.2,
          17.4,
          15.2,
          15.6,
          19.9,
          13.5,
          19.6,
          18.2,
          30.3,
          23.9,
          25,
          23.2,
          21.7,
          20.6,
          24.6,
          18.5,
          11.8,
          24.1,
          24.1,
          50,
          13.1,
          26.6,
          28.130115464822925,
          35.4,
          16.5,
          20.7,
          22.4,
          19.5,
          21.9,
          21.7,
          7.2,
          25,
          10.5,
          19.7,
          19.7,
          12.8,
          11.9,
          14.1,
          18.3,
          13.4,
          50,
          12.7,
          40.69470689014413,
          33.1,
          23.8,
          24.2,
          21.2,
          18.4,
          50,
          32.4,
          44,
          23.6,
          17.5,
          13.8,
          28.056450294333057,
          22.3,
          36.2,
          22.8,
          37.6,
          11.7,
          20.1,
          18,
          20,
          16.7,
          10.2,
          22.6,
          23.2,
          10.4,
          17.97579721746869,
          31.1,
          23.1,
          14.442315923562028,
          11.3,
          14.3,
          8.4,
          38.7,
          15.4,
          15.2,
          20,
          26.4,
          19.5,
          37,
          8.3,
          27.1,
          50,
          19.1,
          29.9,
          14.5,
          30.5,
          28.4,
          12.1,
          50,
          50,
          5,
          17.7,
          26.2,
          21.1,
          43.1,
          20.1,
          13.1,
          20.5,
          14.9,
          23.02879834519782,
          24.3,
          15,
          20,
          21.2,
          19.6,
          17.2,
          23.7,
          23,
          24,
          10.2,
          30.1,
          13.8,
          17.9,
          15,
          38.51670864300254,
          14.9,
          19.3,
          16.2,
          22.3,
          5,
          22.6,
          45.28275578218157,
          24.7,
          17,
          41.7,
          7.4,
          23.7,
          38.71552226953535,
          24.3,
          20.2,
          20.6,
          18.8,
          28.5,
          15.3,
          20.7,
          20.8,
          22.5,
          22.5,
          16.6,
          14.6,
          13.4,
          21.5,
          15.6,
          7.2,
          16.2,
          21.4,
          16.1,
          18.9,
          8.8,
          13.2,
          7.2,
          23.2,
          23.2,
          13.3,
          19.2,
          8.5,
          23.3,
          8.4,
          24.4,
          48.5,
          28.2,
          41.3,
          19.9,
          35.2,
          13,
          16.6,
          50,
          29.1,
          14.8,
          22.4,
          21.4,
          31.6,
          24.5,
          11.067792925892464,
          10.8,
          19.3,
          17.8,
          24.7,
          46.7,
          24.4,
          39.8,
          35.1,
          22.9,
          15.1,
          19.6,
          15.286347113088093,
          28.7,
          7,
          36,
          18.9,
          18.7,
          15.58274250544301,
          19.8,
          11,
          22.7,
          23.6,
          19.3,
          29.4,
          23.9,
          36.1,
          17.1,
          35.86500214314095,
          43.5,
          13.9,
          22.8,
          13.8,
          20,
          22.9,
          25,
          50,
          21.4,
          33.1,
          16.3,
          20.4,
          34.6,
          10.2,
          18.8,
          25,
          36.5,
          17.2,
          20.6,
          23.1,
          18.6,
          12.7,
          17.5,
          5.6,
          22,
          20.3,
          24.3,
          26.5,
          25,
          22.2,
          12,
          23.3,
          21.7,
          15.6,
          22.2,
          37.2,
          22.6,
          27.5,
          31,
          12.3,
          16,
          14.4,
          21.7,
          18.7,
          33.4,
          29.1,
          14.1,
          16.8,
          23.8,
          27.5,
          44.8,
          16.1,
          23.1,
          15.6,
          13.8,
          17.6,
          17.2,
          28.1,
          25,
          8.8,
          14.5,
          12.301630479747343,
          19.9,
          43.8,
          23.1,
          23.675363070419724,
          32,
          23.3,
          16.8,
          36.2,
          13.6,
          21,
          16.4,
          34.9,
          29.6,
          19.6,
          23.4,
          20,
          19.1,
          26.4,
          29,
          13.8,
          23.7,
          30.8,
          37.9,
          9.86668870434636,
          23.1,
          30.1,
          24.8,
          50,
          14.1,
          45.4,
          24.8,
          34.7,
          20.1,
          48.854538797587175,
          20.4,
          21.8,
          31.5,
          23.9,
          20.6,
          23.4,
          20.1,
          15.4,
          19.5,
          16.7,
          22.5,
          8.3,
          32.7,
          17.8,
          50,
          37.3,
          27.1,
          32,
          18.9,
          50,
          48.3,
          6.3,
          20.9,
          26.6,
          14.6,
          19.1,
          10.4,
          15.6,
          23.1,
          21.6,
          20.5,
          36.4,
          24.4,
          19.2,
          19.4,
          17.3,
          46.19176116009245,
          17.01764423324376,
          13.9,
          12.6,
          22,
          18.4,
          18.5,
          21.9,
          33.3,
          13.3,
          18.4,
          28.7,
          15.2,
          34.9,
          21.7,
          24.8,
          16.5,
          31.2,
          9.5,
          21.2,
          21.4,
          50,
          19,
          15,
          13.6,
          18.2,
          34.9,
          12.7,
          23.9,
          31.5,
          23,
          32.2,
          19.4,
          20.6,
          22.6,
          18.3,
          11.8,
          22.8,
          13.1,
          35.4,
          28.7,
          11.7,
          50,
          14.5,
          19.4,
          28
         ],
         "x0": " ",
         "xaxis": "x",
         "y0": " ",
         "yaxis": "y"
        }
       ],
       "layout": {
        "boxmode": "group",
        "legend": {
         "tracegroupgap": 0
        },
        "template": {
         "data": {
          "bar": [
           {
            "error_x": {
             "color": "#2a3f5f"
            },
            "error_y": {
             "color": "#2a3f5f"
            },
            "marker": {
             "line": {
              "color": "#E5ECF6",
              "width": 0.5
             },
             "pattern": {
              "fillmode": "overlay",
              "size": 10,
              "solidity": 0.2
             }
            },
            "type": "bar"
           }
          ],
          "barpolar": [
           {
            "marker": {
             "line": {
              "color": "#E5ECF6",
              "width": 0.5
             },
             "pattern": {
              "fillmode": "overlay",
              "size": 10,
              "solidity": 0.2
             }
            },
            "type": "barpolar"
           }
          ],
          "carpet": [
           {
            "aaxis": {
             "endlinecolor": "#2a3f5f",
             "gridcolor": "white",
             "linecolor": "white",
             "minorgridcolor": "white",
             "startlinecolor": "#2a3f5f"
            },
            "baxis": {
             "endlinecolor": "#2a3f5f",
             "gridcolor": "white",
             "linecolor": "white",
             "minorgridcolor": "white",
             "startlinecolor": "#2a3f5f"
            },
            "type": "carpet"
           }
          ],
          "choropleth": [
           {
            "colorbar": {
             "outlinewidth": 0,
             "ticks": ""
            },
            "type": "choropleth"
           }
          ],
          "contour": [
           {
            "colorbar": {
             "outlinewidth": 0,
             "ticks": ""
            },
            "colorscale": [
             [
              0,
              "#0d0887"
             ],
             [
              0.1111111111111111,
              "#46039f"
             ],
             [
              0.2222222222222222,
              "#7201a8"
             ],
             [
              0.3333333333333333,
              "#9c179e"
             ],
             [
              0.4444444444444444,
              "#bd3786"
             ],
             [
              0.5555555555555556,
              "#d8576b"
             ],
             [
              0.6666666666666666,
              "#ed7953"
             ],
             [
              0.7777777777777778,
              "#fb9f3a"
             ],
             [
              0.8888888888888888,
              "#fdca26"
             ],
             [
              1,
              "#f0f921"
             ]
            ],
            "type": "contour"
           }
          ],
          "contourcarpet": [
           {
            "colorbar": {
             "outlinewidth": 0,
             "ticks": ""
            },
            "type": "contourcarpet"
           }
          ],
          "heatmap": [
           {
            "colorbar": {
             "outlinewidth": 0,
             "ticks": ""
            },
            "colorscale": [
             [
              0,
              "#0d0887"
             ],
             [
              0.1111111111111111,
              "#46039f"
             ],
             [
              0.2222222222222222,
              "#7201a8"
             ],
             [
              0.3333333333333333,
              "#9c179e"
             ],
             [
              0.4444444444444444,
              "#bd3786"
             ],
             [
              0.5555555555555556,
              "#d8576b"
             ],
             [
              0.6666666666666666,
              "#ed7953"
             ],
             [
              0.7777777777777778,
              "#fb9f3a"
             ],
             [
              0.8888888888888888,
              "#fdca26"
             ],
             [
              1,
              "#f0f921"
             ]
            ],
            "type": "heatmap"
           }
          ],
          "heatmapgl": [
           {
            "colorbar": {
             "outlinewidth": 0,
             "ticks": ""
            },
            "colorscale": [
             [
              0,
              "#0d0887"
             ],
             [
              0.1111111111111111,
              "#46039f"
             ],
             [
              0.2222222222222222,
              "#7201a8"
             ],
             [
              0.3333333333333333,
              "#9c179e"
             ],
             [
              0.4444444444444444,
              "#bd3786"
             ],
             [
              0.5555555555555556,
              "#d8576b"
             ],
             [
              0.6666666666666666,
              "#ed7953"
             ],
             [
              0.7777777777777778,
              "#fb9f3a"
             ],
             [
              0.8888888888888888,
              "#fdca26"
             ],
             [
              1,
              "#f0f921"
             ]
            ],
            "type": "heatmapgl"
           }
          ],
          "histogram": [
           {
            "marker": {
             "pattern": {
              "fillmode": "overlay",
              "size": 10,
              "solidity": 0.2
             }
            },
            "type": "histogram"
           }
          ],
          "histogram2d": [
           {
            "colorbar": {
             "outlinewidth": 0,
             "ticks": ""
            },
            "colorscale": [
             [
              0,
              "#0d0887"
             ],
             [
              0.1111111111111111,
              "#46039f"
             ],
             [
              0.2222222222222222,
              "#7201a8"
             ],
             [
              0.3333333333333333,
              "#9c179e"
             ],
             [
              0.4444444444444444,
              "#bd3786"
             ],
             [
              0.5555555555555556,
              "#d8576b"
             ],
             [
              0.6666666666666666,
              "#ed7953"
             ],
             [
              0.7777777777777778,
              "#fb9f3a"
             ],
             [
              0.8888888888888888,
              "#fdca26"
             ],
             [
              1,
              "#f0f921"
             ]
            ],
            "type": "histogram2d"
           }
          ],
          "histogram2dcontour": [
           {
            "colorbar": {
             "outlinewidth": 0,
             "ticks": ""
            },
            "colorscale": [
             [
              0,
              "#0d0887"
             ],
             [
              0.1111111111111111,
              "#46039f"
             ],
             [
              0.2222222222222222,
              "#7201a8"
             ],
             [
              0.3333333333333333,
              "#9c179e"
             ],
             [
              0.4444444444444444,
              "#bd3786"
             ],
             [
              0.5555555555555556,
              "#d8576b"
             ],
             [
              0.6666666666666666,
              "#ed7953"
             ],
             [
              0.7777777777777778,
              "#fb9f3a"
             ],
             [
              0.8888888888888888,
              "#fdca26"
             ],
             [
              1,
              "#f0f921"
             ]
            ],
            "type": "histogram2dcontour"
           }
          ],
          "mesh3d": [
           {
            "colorbar": {
             "outlinewidth": 0,
             "ticks": ""
            },
            "type": "mesh3d"
           }
          ],
          "parcoords": [
           {
            "line": {
             "colorbar": {
              "outlinewidth": 0,
              "ticks": ""
             }
            },
            "type": "parcoords"
           }
          ],
          "pie": [
           {
            "automargin": true,
            "type": "pie"
           }
          ],
          "scatter": [
           {
            "fillpattern": {
             "fillmode": "overlay",
             "size": 10,
             "solidity": 0.2
            },
            "type": "scatter"
           }
          ],
          "scatter3d": [
           {
            "line": {
             "colorbar": {
              "outlinewidth": 0,
              "ticks": ""
             }
            },
            "marker": {
             "colorbar": {
              "outlinewidth": 0,
              "ticks": ""
             }
            },
            "type": "scatter3d"
           }
          ],
          "scattercarpet": [
           {
            "marker": {
             "colorbar": {
              "outlinewidth": 0,
              "ticks": ""
             }
            },
            "type": "scattercarpet"
           }
          ],
          "scattergeo": [
           {
            "marker": {
             "colorbar": {
              "outlinewidth": 0,
              "ticks": ""
             }
            },
            "type": "scattergeo"
           }
          ],
          "scattergl": [
           {
            "marker": {
             "colorbar": {
              "outlinewidth": 0,
              "ticks": ""
             }
            },
            "type": "scattergl"
           }
          ],
          "scattermapbox": [
           {
            "marker": {
             "colorbar": {
              "outlinewidth": 0,
              "ticks": ""
             }
            },
            "type": "scattermapbox"
           }
          ],
          "scatterpolar": [
           {
            "marker": {
             "colorbar": {
              "outlinewidth": 0,
              "ticks": ""
             }
            },
            "type": "scatterpolar"
           }
          ],
          "scatterpolargl": [
           {
            "marker": {
             "colorbar": {
              "outlinewidth": 0,
              "ticks": ""
             }
            },
            "type": "scatterpolargl"
           }
          ],
          "scatterternary": [
           {
            "marker": {
             "colorbar": {
              "outlinewidth": 0,
              "ticks": ""
             }
            },
            "type": "scatterternary"
           }
          ],
          "surface": [
           {
            "colorbar": {
             "outlinewidth": 0,
             "ticks": ""
            },
            "colorscale": [
             [
              0,
              "#0d0887"
             ],
             [
              0.1111111111111111,
              "#46039f"
             ],
             [
              0.2222222222222222,
              "#7201a8"
             ],
             [
              0.3333333333333333,
              "#9c179e"
             ],
             [
              0.4444444444444444,
              "#bd3786"
             ],
             [
              0.5555555555555556,
              "#d8576b"
             ],
             [
              0.6666666666666666,
              "#ed7953"
             ],
             [
              0.7777777777777778,
              "#fb9f3a"
             ],
             [
              0.8888888888888888,
              "#fdca26"
             ],
             [
              1,
              "#f0f921"
             ]
            ],
            "type": "surface"
           }
          ],
          "table": [
           {
            "cells": {
             "fill": {
              "color": "#EBF0F8"
             },
             "line": {
              "color": "white"
             }
            },
            "header": {
             "fill": {
              "color": "#C8D4E3"
             },
             "line": {
              "color": "white"
             }
            },
            "type": "table"
           }
          ]
         },
         "layout": {
          "annotationdefaults": {
           "arrowcolor": "#2a3f5f",
           "arrowhead": 0,
           "arrowwidth": 1
          },
          "autotypenumbers": "strict",
          "coloraxis": {
           "colorbar": {
            "outlinewidth": 0,
            "ticks": ""
           }
          },
          "colorscale": {
           "diverging": [
            [
             0,
             "#8e0152"
            ],
            [
             0.1,
             "#c51b7d"
            ],
            [
             0.2,
             "#de77ae"
            ],
            [
             0.3,
             "#f1b6da"
            ],
            [
             0.4,
             "#fde0ef"
            ],
            [
             0.5,
             "#f7f7f7"
            ],
            [
             0.6,
             "#e6f5d0"
            ],
            [
             0.7,
             "#b8e186"
            ],
            [
             0.8,
             "#7fbc41"
            ],
            [
             0.9,
             "#4d9221"
            ],
            [
             1,
             "#276419"
            ]
           ],
           "sequential": [
            [
             0,
             "#0d0887"
            ],
            [
             0.1111111111111111,
             "#46039f"
            ],
            [
             0.2222222222222222,
             "#7201a8"
            ],
            [
             0.3333333333333333,
             "#9c179e"
            ],
            [
             0.4444444444444444,
             "#bd3786"
            ],
            [
             0.5555555555555556,
             "#d8576b"
            ],
            [
             0.6666666666666666,
             "#ed7953"
            ],
            [
             0.7777777777777778,
             "#fb9f3a"
            ],
            [
             0.8888888888888888,
             "#fdca26"
            ],
            [
             1,
             "#f0f921"
            ]
           ],
           "sequentialminus": [
            [
             0,
             "#0d0887"
            ],
            [
             0.1111111111111111,
             "#46039f"
            ],
            [
             0.2222222222222222,
             "#7201a8"
            ],
            [
             0.3333333333333333,
             "#9c179e"
            ],
            [
             0.4444444444444444,
             "#bd3786"
            ],
            [
             0.5555555555555556,
             "#d8576b"
            ],
            [
             0.6666666666666666,
             "#ed7953"
            ],
            [
             0.7777777777777778,
             "#fb9f3a"
            ],
            [
             0.8888888888888888,
             "#fdca26"
            ],
            [
             1,
             "#f0f921"
            ]
           ]
          },
          "colorway": [
           "#636efa",
           "#EF553B",
           "#00cc96",
           "#ab63fa",
           "#FFA15A",
           "#19d3f3",
           "#FF6692",
           "#B6E880",
           "#FF97FF",
           "#FECB52"
          ],
          "font": {
           "color": "#2a3f5f"
          },
          "geo": {
           "bgcolor": "white",
           "lakecolor": "white",
           "landcolor": "#E5ECF6",
           "showlakes": true,
           "showland": true,
           "subunitcolor": "white"
          },
          "hoverlabel": {
           "align": "left"
          },
          "hovermode": "closest",
          "mapbox": {
           "style": "light"
          },
          "paper_bgcolor": "white",
          "plot_bgcolor": "#E5ECF6",
          "polar": {
           "angularaxis": {
            "gridcolor": "white",
            "linecolor": "white",
            "ticks": ""
           },
           "bgcolor": "#E5ECF6",
           "radialaxis": {
            "gridcolor": "white",
            "linecolor": "white",
            "ticks": ""
           }
          },
          "scene": {
           "xaxis": {
            "backgroundcolor": "#E5ECF6",
            "gridcolor": "white",
            "gridwidth": 2,
            "linecolor": "white",
            "showbackground": true,
            "ticks": "",
            "zerolinecolor": "white"
           },
           "yaxis": {
            "backgroundcolor": "#E5ECF6",
            "gridcolor": "white",
            "gridwidth": 2,
            "linecolor": "white",
            "showbackground": true,
            "ticks": "",
            "zerolinecolor": "white"
           },
           "zaxis": {
            "backgroundcolor": "#E5ECF6",
            "gridcolor": "white",
            "gridwidth": 2,
            "linecolor": "white",
            "showbackground": true,
            "ticks": "",
            "zerolinecolor": "white"
           }
          },
          "shapedefaults": {
           "line": {
            "color": "#2a3f5f"
           }
          },
          "ternary": {
           "aaxis": {
            "gridcolor": "white",
            "linecolor": "white",
            "ticks": ""
           },
           "baxis": {
            "gridcolor": "white",
            "linecolor": "white",
            "ticks": ""
           },
           "bgcolor": "#E5ECF6",
           "caxis": {
            "gridcolor": "white",
            "linecolor": "white",
            "ticks": ""
           }
          },
          "title": {
           "x": 0.05
          },
          "xaxis": {
           "automargin": true,
           "gridcolor": "white",
           "linecolor": "white",
           "ticks": "",
           "title": {
            "standoff": 15
           },
           "zerolinecolor": "white",
           "zerolinewidth": 2
          },
          "yaxis": {
           "automargin": true,
           "gridcolor": "white",
           "linecolor": "white",
           "ticks": "",
           "title": {
            "standoff": 15
           },
           "zerolinecolor": "white",
           "zerolinewidth": 2
          }
         }
        },
        "title": {
         "text": "Distribución del valor mediano del precio de casas en cientos de miles de dólares"
        },
        "xaxis": {
         "anchor": "y",
         "domain": [
          0,
          1
         ],
         "title": {
          "text": "MEDV"
         }
        },
        "yaxis": {
         "anchor": "x",
         "domain": [
          0,
          1
         ]
        }
       }
      }
     },
     "metadata": {},
     "output_type": "display_data"
    }
   ],
   "source": [
    "fig = px.box(y_train_df, x=\"MEDV\",\n",
    "            title='Distribución del valor mediano del precio de casas en cientos de miles de dólares')\n",
    "fig.show()  "
   ]
  },
  {
   "cell_type": "markdown",
   "metadata": {},
   "source": [
    "El 50% de las casas del dataset tienen hasta un precio de 21.2 cientos de miles de dolares. El 25% de las casas del dataset tienen hasta un precio de 16.15 cientos de miles de dolares. El 75% de las casas del dataset tienen hasta un precio de 25.6 cientos de miles de dolares."
   ]
  },
  {
   "cell_type": "code",
   "execution_count": 11,
   "metadata": {},
   "outputs": [
    {
     "data": {
      "application/vnd.plotly.v1+json": {
       "config": {
        "plotlyServerURL": "https://plot.ly"
       },
       "data": [
        {
         "hovertemplate": "Porcentaje de población de menor estatus socioeconómico=%{x}<br>Valor mediano de las casas en cientos de miles de dólares=%{y}<extra></extra>",
         "legendgroup": "",
         "marker": {
          "color": "#636efa",
          "symbol": "circle"
         },
         "mode": "markers",
         "name": "",
         "orientation": "v",
         "showlegend": false,
         "type": "scatter",
         "x": [
          17.6,
          7.88,
          27.789443492236657,
          6.73,
          18.05,
          4.67,
          16.94,
          5.98,
          12.73,
          36.98,
          11.66,
          11.74,
          18.71,
          26.45,
          12.43,
          18.33,
          25.68,
          9.42,
          9.332422338324214,
          17.570403500418706,
          9.62,
          7.43,
          8.2,
          4.98,
          5.29,
          10.27,
          21.32,
          11.28,
          6.27,
          8.1,
          19.37,
          14.37,
          13.09,
          3.11,
          5.77,
          5.98,
          26.82,
          21.24,
          3.53,
          9.08,
          10.4,
          15.7,
          7.79,
          3.95,
          7.6,
          12.79,
          14.43,
          18.72,
          17.31,
          14.13,
          20.34,
          13.28,
          8.05,
          8.61,
          7.18,
          9.81,
          10.11,
          13,
          5.57,
          5.08,
          18.46,
          23.98,
          6.78,
          5.49,
          4.45,
          18.35,
          4.84,
          20.011614973331902,
          4.59,
          8.65,
          6.75,
          9.67,
          16.47,
          14,
          17.27,
          30.81,
          9.5,
          22.11,
          21.14,
          13.45,
          22.88,
          23.34,
          18.13,
          14.1,
          17.44,
          2.96,
          22.6,
          18.96354448124236,
          4.86,
          9.28,
          6.72,
          12.34,
          15.03,
          3.73,
          3.53,
          3.11,
          5.5,
          15.1,
          15.17,
          27.38945255488868,
          7.6,
          5.33,
          10.45,
          3.13,
          15.17,
          13.35,
          15.39,
          14.7,
          18.68,
          15.69,
          9.64,
          7.14,
          17.21,
          10.377837688093798,
          5.03,
          6.36,
          29.73660396367157,
          23.6,
          16.22,
          22.74,
          4.21,
          21.45,
          17.73,
          14.15,
          13.98,
          18.66,
          5.1,
          19.77,
          19.15,
          1.92,
          18.13,
          6.92,
          19.88,
          4.69,
          8.93,
          20.31,
          3.26,
          7.44,
          30.59,
          14.65,
          6.56,
          8.01,
          7.26,
          14.76,
          16.14,
          10.15,
          16.23,
          7.033962434211352,
          6.43,
          20.45,
          11.41,
          12.04,
          13.83,
          12.67,
          7.74,
          10.5,
          10.88,
          30.62,
          4.5,
          18.14,
          34.37,
          10.11,
          34.48293983300342,
          17.79,
          23.98,
          17.19,
          11.32,
          22.98,
          10.87,
          36.22030051545128,
          7.44,
          15.12,
          2.47,
          31.99,
          5.19,
          9.797430586214276,
          11.65,
          11.69,
          13.34,
          16.21,
          3.33,
          12.12,
          13.65,
          10.19,
          12.86,
          4.97,
          14.81,
          29.53,
          23.27,
          14.1,
          15.02,
          29.05,
          11.5,
          13.11,
          12.64,
          14.8,
          30.63,
          27.71,
          20.32,
          14.36,
          18.76,
          24.1,
          10.3,
          19.92,
          6.86,
          34.02,
          5.9,
          3.81,
          7.53,
          4.59,
          14.19,
          6.58,
          19.31,
          18.8,
          2.97,
          4.38,
          17.28,
          16.03,
          11.34,
          6.36,
          13.59,
          16.739067613077225,
          23.79,
          13.61,
          18.46,
          10.13,
          3.92,
          7.73,
          7.56,
          4.85,
          7.51,
          17.11,
          12.26,
          36.59082284131298,
          9.69,
          23.97,
          7.79,
          17.1,
          9.29,
          23.089998260909248,
          15.94,
          21.52,
          11.64,
          9.04,
          9.97,
          5.33,
          5.64,
          6.93,
          14.59,
          15.366156924735407,
          3.16,
          16.51,
          10.16,
          37.97,
          23.09,
          12.43,
          9.47,
          5.12,
          13.22,
          4.16,
          20.08,
          8.26,
          6.62,
          21.78,
          17.58,
          7.01,
          8.1,
          26.4,
          8.51,
          14.69,
          7.79,
          16.35,
          10.53,
          26.77,
          8.23,
          9.97,
          9.16,
          7.67,
          6.12,
          11.22,
          24.91,
          13.51,
          13.27,
          16.65,
          5.68,
          5.04,
          7.34,
          19.78,
          11.25,
          24.56,
          14.44,
          34.41,
          9.88,
          13.15,
          2.94,
          7.19,
          18.13,
          14.33,
          12.14,
          7.12,
          4.14,
          17.27,
          13.33,
          26.42,
          27.8,
          12.5,
          21.22,
          9.38,
          5.28,
          20.62,
          13.04,
          12.286000000000001,
          8.47,
          3.57,
          6.58,
          30.494821714383157,
          6.68,
          7.39,
          14.64,
          9.45,
          18.07,
          8.77,
          16.42,
          1.98,
          13.15,
          12.87,
          8.43,
          11.97,
          14.98,
          8.67,
          4.74,
          34.77,
          29.55,
          4.32,
          4.82,
          24.417973802452707,
          10.36,
          6.9,
          3.59,
          3.32,
          19.69,
          3.76,
          9.51,
          4.03,
          12.4,
          3.3898709882209084,
          15.37,
          10.42,
          4.73,
          8.58,
          10.59,
          7.54,
          12.93,
          18.85,
          13.99,
          15.02,
          18.06,
          24.39,
          5.49,
          16.74,
          2.88,
          3.56,
          7.39,
          2.98,
          9.68,
          1.73,
          3.95,
          29.97,
          9.25,
          6.53,
          18.03,
          12.03,
          26.64,
          16.3,
          6.87,
          9.14,
          9.43,
          2.87,
          10.97,
          12.6,
          15.79,
          25.41,
          12.242017502093535,
          15.041693958846489,
          23.24,
          16.44,
          11.38,
          12.8,
          10.56,
          6.57,
          4.08,
          21.32,
          16.59,
          5.21,
          18.06,
          5.39,
          15.71,
          6.72,
          29.93,
          4.61,
          24.08,
          10.58,
          14.81,
          3.7,
          17.15,
          13.44,
          21.02,
          10.26,
          4.56,
          19.01,
          7.22,
          3.76,
          11.12,
          7.85,
          16.2,
          11.45,
          8.81,
          15.76,
          29.29,
          5.52,
          23.69,
          4.81,
          5.7,
          17.16,
          9.53,
          17.64,
          10.24,
          5.29
         ],
         "xaxis": "x",
         "y": [
          23.1,
          11.9,
          28.81242565447334,
          22.2,
          9.6,
          23.5,
          13.5,
          22.9,
          21,
          7,
          29.8,
          18.5,
          14.9,
          8.7,
          17.1,
          17.8,
          9.7,
          27.5,
          24.241711821460942,
          12.937564100385178,
          23.9,
          24.1,
          22,
          24,
          21.9,
          20.8,
          19.1,
          18.2,
          28.6,
          22,
          12.5,
          22,
          17.4,
          42.3,
          24.7,
          22.1,
          13.4,
          13.3,
          29.6,
          20.6,
          21.7,
          14.2,
          25,
          31.6,
          30.1,
          22.2,
          17.4,
          15.2,
          15.6,
          19.9,
          13.5,
          19.6,
          18.2,
          30.3,
          23.9,
          25,
          23.2,
          21.7,
          20.6,
          24.6,
          18.5,
          11.8,
          24.1,
          24.1,
          50,
          13.1,
          26.6,
          28.130115464822925,
          35.4,
          16.5,
          20.7,
          22.4,
          19.5,
          21.9,
          21.7,
          7.2,
          25,
          10.5,
          19.7,
          19.7,
          12.8,
          11.9,
          14.1,
          18.3,
          13.4,
          50,
          12.7,
          40.69470689014413,
          33.1,
          23.8,
          24.2,
          21.2,
          18.4,
          50,
          32.4,
          44,
          23.6,
          17.5,
          13.8,
          28.056450294333057,
          22.3,
          36.2,
          22.8,
          37.6,
          11.7,
          20.1,
          18,
          20,
          16.7,
          10.2,
          22.6,
          23.2,
          10.4,
          17.97579721746869,
          31.1,
          23.1,
          14.442315923562028,
          11.3,
          14.3,
          8.4,
          38.7,
          15.4,
          15.2,
          20,
          26.4,
          19.5,
          37,
          8.3,
          27.1,
          50,
          19.1,
          29.9,
          14.5,
          30.5,
          28.4,
          12.1,
          50,
          50,
          5,
          17.7,
          26.2,
          21.1,
          43.1,
          20.1,
          13.1,
          20.5,
          14.9,
          23.02879834519782,
          24.3,
          15,
          20,
          21.2,
          19.6,
          17.2,
          23.7,
          23,
          24,
          10.2,
          30.1,
          13.8,
          17.9,
          15,
          38.51670864300254,
          14.9,
          19.3,
          16.2,
          22.3,
          5,
          22.6,
          45.28275578218157,
          24.7,
          17,
          41.7,
          7.4,
          23.7,
          38.71552226953535,
          24.3,
          20.2,
          20.6,
          18.8,
          28.5,
          15.3,
          20.7,
          20.8,
          22.5,
          22.5,
          16.6,
          14.6,
          13.4,
          21.5,
          15.6,
          7.2,
          16.2,
          21.4,
          16.1,
          18.9,
          8.8,
          13.2,
          7.2,
          23.2,
          23.2,
          13.3,
          19.2,
          8.5,
          23.3,
          8.4,
          24.4,
          48.5,
          28.2,
          41.3,
          19.9,
          35.2,
          13,
          16.6,
          50,
          29.1,
          14.8,
          22.4,
          21.4,
          31.6,
          24.5,
          11.067792925892464,
          10.8,
          19.3,
          17.8,
          24.7,
          46.7,
          24.4,
          39.8,
          35.1,
          22.9,
          15.1,
          19.6,
          15.286347113088093,
          28.7,
          7,
          36,
          18.9,
          18.7,
          15.58274250544301,
          19.8,
          11,
          22.7,
          23.6,
          19.3,
          29.4,
          23.9,
          36.1,
          17.1,
          35.86500214314095,
          43.5,
          13.9,
          22.8,
          13.8,
          20,
          22.9,
          25,
          50,
          21.4,
          33.1,
          16.3,
          20.4,
          34.6,
          10.2,
          18.8,
          25,
          36.5,
          17.2,
          20.6,
          23.1,
          18.6,
          12.7,
          17.5,
          5.6,
          22,
          20.3,
          24.3,
          26.5,
          25,
          22.2,
          12,
          23.3,
          21.7,
          15.6,
          22.2,
          37.2,
          22.6,
          27.5,
          31,
          12.3,
          16,
          14.4,
          21.7,
          18.7,
          33.4,
          29.1,
          14.1,
          16.8,
          23.8,
          27.5,
          44.8,
          16.1,
          23.1,
          15.6,
          13.8,
          17.6,
          17.2,
          28.1,
          25,
          8.8,
          14.5,
          12.301630479747343,
          19.9,
          43.8,
          23.1,
          23.675363070419724,
          32,
          23.3,
          16.8,
          36.2,
          13.6,
          21,
          16.4,
          34.9,
          29.6,
          19.6,
          23.4,
          20,
          19.1,
          26.4,
          29,
          13.8,
          23.7,
          30.8,
          37.9,
          9.86668870434636,
          23.1,
          30.1,
          24.8,
          50,
          14.1,
          45.4,
          24.8,
          34.7,
          20.1,
          48.854538797587175,
          20.4,
          21.8,
          31.5,
          23.9,
          20.6,
          23.4,
          20.1,
          15.4,
          19.5,
          16.7,
          22.5,
          8.3,
          32.7,
          17.8,
          50,
          37.3,
          27.1,
          32,
          18.9,
          50,
          48.3,
          6.3,
          20.9,
          26.6,
          14.6,
          19.1,
          10.4,
          15.6,
          23.1,
          21.6,
          20.5,
          36.4,
          24.4,
          19.2,
          19.4,
          17.3,
          46.19176116009245,
          17.01764423324376,
          13.9,
          12.6,
          22,
          18.4,
          18.5,
          21.9,
          33.3,
          13.3,
          18.4,
          28.7,
          15.2,
          34.9,
          21.7,
          24.8,
          16.5,
          31.2,
          9.5,
          21.2,
          21.4,
          50,
          19,
          15,
          13.6,
          18.2,
          34.9,
          12.7,
          23.9,
          31.5,
          23,
          32.2,
          19.4,
          20.6,
          22.6,
          18.3,
          11.8,
          22.8,
          13.1,
          35.4,
          28.7,
          11.7,
          50,
          14.5,
          19.4,
          28
         ],
         "yaxis": "y"
        }
       ],
       "layout": {
        "legend": {
         "tracegroupgap": 0
        },
        "template": {
         "data": {
          "bar": [
           {
            "error_x": {
             "color": "#2a3f5f"
            },
            "error_y": {
             "color": "#2a3f5f"
            },
            "marker": {
             "line": {
              "color": "#E5ECF6",
              "width": 0.5
             },
             "pattern": {
              "fillmode": "overlay",
              "size": 10,
              "solidity": 0.2
             }
            },
            "type": "bar"
           }
          ],
          "barpolar": [
           {
            "marker": {
             "line": {
              "color": "#E5ECF6",
              "width": 0.5
             },
             "pattern": {
              "fillmode": "overlay",
              "size": 10,
              "solidity": 0.2
             }
            },
            "type": "barpolar"
           }
          ],
          "carpet": [
           {
            "aaxis": {
             "endlinecolor": "#2a3f5f",
             "gridcolor": "white",
             "linecolor": "white",
             "minorgridcolor": "white",
             "startlinecolor": "#2a3f5f"
            },
            "baxis": {
             "endlinecolor": "#2a3f5f",
             "gridcolor": "white",
             "linecolor": "white",
             "minorgridcolor": "white",
             "startlinecolor": "#2a3f5f"
            },
            "type": "carpet"
           }
          ],
          "choropleth": [
           {
            "colorbar": {
             "outlinewidth": 0,
             "ticks": ""
            },
            "type": "choropleth"
           }
          ],
          "contour": [
           {
            "colorbar": {
             "outlinewidth": 0,
             "ticks": ""
            },
            "colorscale": [
             [
              0,
              "#0d0887"
             ],
             [
              0.1111111111111111,
              "#46039f"
             ],
             [
              0.2222222222222222,
              "#7201a8"
             ],
             [
              0.3333333333333333,
              "#9c179e"
             ],
             [
              0.4444444444444444,
              "#bd3786"
             ],
             [
              0.5555555555555556,
              "#d8576b"
             ],
             [
              0.6666666666666666,
              "#ed7953"
             ],
             [
              0.7777777777777778,
              "#fb9f3a"
             ],
             [
              0.8888888888888888,
              "#fdca26"
             ],
             [
              1,
              "#f0f921"
             ]
            ],
            "type": "contour"
           }
          ],
          "contourcarpet": [
           {
            "colorbar": {
             "outlinewidth": 0,
             "ticks": ""
            },
            "type": "contourcarpet"
           }
          ],
          "heatmap": [
           {
            "colorbar": {
             "outlinewidth": 0,
             "ticks": ""
            },
            "colorscale": [
             [
              0,
              "#0d0887"
             ],
             [
              0.1111111111111111,
              "#46039f"
             ],
             [
              0.2222222222222222,
              "#7201a8"
             ],
             [
              0.3333333333333333,
              "#9c179e"
             ],
             [
              0.4444444444444444,
              "#bd3786"
             ],
             [
              0.5555555555555556,
              "#d8576b"
             ],
             [
              0.6666666666666666,
              "#ed7953"
             ],
             [
              0.7777777777777778,
              "#fb9f3a"
             ],
             [
              0.8888888888888888,
              "#fdca26"
             ],
             [
              1,
              "#f0f921"
             ]
            ],
            "type": "heatmap"
           }
          ],
          "heatmapgl": [
           {
            "colorbar": {
             "outlinewidth": 0,
             "ticks": ""
            },
            "colorscale": [
             [
              0,
              "#0d0887"
             ],
             [
              0.1111111111111111,
              "#46039f"
             ],
             [
              0.2222222222222222,
              "#7201a8"
             ],
             [
              0.3333333333333333,
              "#9c179e"
             ],
             [
              0.4444444444444444,
              "#bd3786"
             ],
             [
              0.5555555555555556,
              "#d8576b"
             ],
             [
              0.6666666666666666,
              "#ed7953"
             ],
             [
              0.7777777777777778,
              "#fb9f3a"
             ],
             [
              0.8888888888888888,
              "#fdca26"
             ],
             [
              1,
              "#f0f921"
             ]
            ],
            "type": "heatmapgl"
           }
          ],
          "histogram": [
           {
            "marker": {
             "pattern": {
              "fillmode": "overlay",
              "size": 10,
              "solidity": 0.2
             }
            },
            "type": "histogram"
           }
          ],
          "histogram2d": [
           {
            "colorbar": {
             "outlinewidth": 0,
             "ticks": ""
            },
            "colorscale": [
             [
              0,
              "#0d0887"
             ],
             [
              0.1111111111111111,
              "#46039f"
             ],
             [
              0.2222222222222222,
              "#7201a8"
             ],
             [
              0.3333333333333333,
              "#9c179e"
             ],
             [
              0.4444444444444444,
              "#bd3786"
             ],
             [
              0.5555555555555556,
              "#d8576b"
             ],
             [
              0.6666666666666666,
              "#ed7953"
             ],
             [
              0.7777777777777778,
              "#fb9f3a"
             ],
             [
              0.8888888888888888,
              "#fdca26"
             ],
             [
              1,
              "#f0f921"
             ]
            ],
            "type": "histogram2d"
           }
          ],
          "histogram2dcontour": [
           {
            "colorbar": {
             "outlinewidth": 0,
             "ticks": ""
            },
            "colorscale": [
             [
              0,
              "#0d0887"
             ],
             [
              0.1111111111111111,
              "#46039f"
             ],
             [
              0.2222222222222222,
              "#7201a8"
             ],
             [
              0.3333333333333333,
              "#9c179e"
             ],
             [
              0.4444444444444444,
              "#bd3786"
             ],
             [
              0.5555555555555556,
              "#d8576b"
             ],
             [
              0.6666666666666666,
              "#ed7953"
             ],
             [
              0.7777777777777778,
              "#fb9f3a"
             ],
             [
              0.8888888888888888,
              "#fdca26"
             ],
             [
              1,
              "#f0f921"
             ]
            ],
            "type": "histogram2dcontour"
           }
          ],
          "mesh3d": [
           {
            "colorbar": {
             "outlinewidth": 0,
             "ticks": ""
            },
            "type": "mesh3d"
           }
          ],
          "parcoords": [
           {
            "line": {
             "colorbar": {
              "outlinewidth": 0,
              "ticks": ""
             }
            },
            "type": "parcoords"
           }
          ],
          "pie": [
           {
            "automargin": true,
            "type": "pie"
           }
          ],
          "scatter": [
           {
            "fillpattern": {
             "fillmode": "overlay",
             "size": 10,
             "solidity": 0.2
            },
            "type": "scatter"
           }
          ],
          "scatter3d": [
           {
            "line": {
             "colorbar": {
              "outlinewidth": 0,
              "ticks": ""
             }
            },
            "marker": {
             "colorbar": {
              "outlinewidth": 0,
              "ticks": ""
             }
            },
            "type": "scatter3d"
           }
          ],
          "scattercarpet": [
           {
            "marker": {
             "colorbar": {
              "outlinewidth": 0,
              "ticks": ""
             }
            },
            "type": "scattercarpet"
           }
          ],
          "scattergeo": [
           {
            "marker": {
             "colorbar": {
              "outlinewidth": 0,
              "ticks": ""
             }
            },
            "type": "scattergeo"
           }
          ],
          "scattergl": [
           {
            "marker": {
             "colorbar": {
              "outlinewidth": 0,
              "ticks": ""
             }
            },
            "type": "scattergl"
           }
          ],
          "scattermapbox": [
           {
            "marker": {
             "colorbar": {
              "outlinewidth": 0,
              "ticks": ""
             }
            },
            "type": "scattermapbox"
           }
          ],
          "scatterpolar": [
           {
            "marker": {
             "colorbar": {
              "outlinewidth": 0,
              "ticks": ""
             }
            },
            "type": "scatterpolar"
           }
          ],
          "scatterpolargl": [
           {
            "marker": {
             "colorbar": {
              "outlinewidth": 0,
              "ticks": ""
             }
            },
            "type": "scatterpolargl"
           }
          ],
          "scatterternary": [
           {
            "marker": {
             "colorbar": {
              "outlinewidth": 0,
              "ticks": ""
             }
            },
            "type": "scatterternary"
           }
          ],
          "surface": [
           {
            "colorbar": {
             "outlinewidth": 0,
             "ticks": ""
            },
            "colorscale": [
             [
              0,
              "#0d0887"
             ],
             [
              0.1111111111111111,
              "#46039f"
             ],
             [
              0.2222222222222222,
              "#7201a8"
             ],
             [
              0.3333333333333333,
              "#9c179e"
             ],
             [
              0.4444444444444444,
              "#bd3786"
             ],
             [
              0.5555555555555556,
              "#d8576b"
             ],
             [
              0.6666666666666666,
              "#ed7953"
             ],
             [
              0.7777777777777778,
              "#fb9f3a"
             ],
             [
              0.8888888888888888,
              "#fdca26"
             ],
             [
              1,
              "#f0f921"
             ]
            ],
            "type": "surface"
           }
          ],
          "table": [
           {
            "cells": {
             "fill": {
              "color": "#EBF0F8"
             },
             "line": {
              "color": "white"
             }
            },
            "header": {
             "fill": {
              "color": "#C8D4E3"
             },
             "line": {
              "color": "white"
             }
            },
            "type": "table"
           }
          ]
         },
         "layout": {
          "annotationdefaults": {
           "arrowcolor": "#2a3f5f",
           "arrowhead": 0,
           "arrowwidth": 1
          },
          "autotypenumbers": "strict",
          "coloraxis": {
           "colorbar": {
            "outlinewidth": 0,
            "ticks": ""
           }
          },
          "colorscale": {
           "diverging": [
            [
             0,
             "#8e0152"
            ],
            [
             0.1,
             "#c51b7d"
            ],
            [
             0.2,
             "#de77ae"
            ],
            [
             0.3,
             "#f1b6da"
            ],
            [
             0.4,
             "#fde0ef"
            ],
            [
             0.5,
             "#f7f7f7"
            ],
            [
             0.6,
             "#e6f5d0"
            ],
            [
             0.7,
             "#b8e186"
            ],
            [
             0.8,
             "#7fbc41"
            ],
            [
             0.9,
             "#4d9221"
            ],
            [
             1,
             "#276419"
            ]
           ],
           "sequential": [
            [
             0,
             "#0d0887"
            ],
            [
             0.1111111111111111,
             "#46039f"
            ],
            [
             0.2222222222222222,
             "#7201a8"
            ],
            [
             0.3333333333333333,
             "#9c179e"
            ],
            [
             0.4444444444444444,
             "#bd3786"
            ],
            [
             0.5555555555555556,
             "#d8576b"
            ],
            [
             0.6666666666666666,
             "#ed7953"
            ],
            [
             0.7777777777777778,
             "#fb9f3a"
            ],
            [
             0.8888888888888888,
             "#fdca26"
            ],
            [
             1,
             "#f0f921"
            ]
           ],
           "sequentialminus": [
            [
             0,
             "#0d0887"
            ],
            [
             0.1111111111111111,
             "#46039f"
            ],
            [
             0.2222222222222222,
             "#7201a8"
            ],
            [
             0.3333333333333333,
             "#9c179e"
            ],
            [
             0.4444444444444444,
             "#bd3786"
            ],
            [
             0.5555555555555556,
             "#d8576b"
            ],
            [
             0.6666666666666666,
             "#ed7953"
            ],
            [
             0.7777777777777778,
             "#fb9f3a"
            ],
            [
             0.8888888888888888,
             "#fdca26"
            ],
            [
             1,
             "#f0f921"
            ]
           ]
          },
          "colorway": [
           "#636efa",
           "#EF553B",
           "#00cc96",
           "#ab63fa",
           "#FFA15A",
           "#19d3f3",
           "#FF6692",
           "#B6E880",
           "#FF97FF",
           "#FECB52"
          ],
          "font": {
           "color": "#2a3f5f"
          },
          "geo": {
           "bgcolor": "white",
           "lakecolor": "white",
           "landcolor": "#E5ECF6",
           "showlakes": true,
           "showland": true,
           "subunitcolor": "white"
          },
          "hoverlabel": {
           "align": "left"
          },
          "hovermode": "closest",
          "mapbox": {
           "style": "light"
          },
          "paper_bgcolor": "white",
          "plot_bgcolor": "#E5ECF6",
          "polar": {
           "angularaxis": {
            "gridcolor": "white",
            "linecolor": "white",
            "ticks": ""
           },
           "bgcolor": "#E5ECF6",
           "radialaxis": {
            "gridcolor": "white",
            "linecolor": "white",
            "ticks": ""
           }
          },
          "scene": {
           "xaxis": {
            "backgroundcolor": "#E5ECF6",
            "gridcolor": "white",
            "gridwidth": 2,
            "linecolor": "white",
            "showbackground": true,
            "ticks": "",
            "zerolinecolor": "white"
           },
           "yaxis": {
            "backgroundcolor": "#E5ECF6",
            "gridcolor": "white",
            "gridwidth": 2,
            "linecolor": "white",
            "showbackground": true,
            "ticks": "",
            "zerolinecolor": "white"
           },
           "zaxis": {
            "backgroundcolor": "#E5ECF6",
            "gridcolor": "white",
            "gridwidth": 2,
            "linecolor": "white",
            "showbackground": true,
            "ticks": "",
            "zerolinecolor": "white"
           }
          },
          "shapedefaults": {
           "line": {
            "color": "#2a3f5f"
           }
          },
          "ternary": {
           "aaxis": {
            "gridcolor": "white",
            "linecolor": "white",
            "ticks": ""
           },
           "baxis": {
            "gridcolor": "white",
            "linecolor": "white",
            "ticks": ""
           },
           "bgcolor": "#E5ECF6",
           "caxis": {
            "gridcolor": "white",
            "linecolor": "white",
            "ticks": ""
           }
          },
          "title": {
           "x": 0.05
          },
          "xaxis": {
           "automargin": true,
           "gridcolor": "white",
           "linecolor": "white",
           "ticks": "",
           "title": {
            "standoff": 15
           },
           "zerolinecolor": "white",
           "zerolinewidth": 2
          },
          "yaxis": {
           "automargin": true,
           "gridcolor": "white",
           "linecolor": "white",
           "ticks": "",
           "title": {
            "standoff": 15
           },
           "zerolinecolor": "white",
           "zerolinewidth": 2
          }
         }
        },
        "title": {
         "text": "Comparación de los precios de casas con el % de población de menor estatus socioeconómico"
        },
        "xaxis": {
         "anchor": "y",
         "domain": [
          0,
          1
         ],
         "title": {
          "text": "Porcentaje de población de menor estatus socioeconómico"
         }
        },
        "yaxis": {
         "anchor": "x",
         "domain": [
          0,
          1
         ],
         "title": {
          "text": "Valor mediano de las casas en cientos de miles de dólares"
         }
        }
       }
      }
     },
     "metadata": {},
     "output_type": "display_data"
    }
   ],
   "source": [
    "fig = px.scatter(x=X_train_imputado_df['LSTAT'], y=y_train_df['MEDV'], \n",
    "                title='Comparación de los precios de casas con el % de población de menor estatus socioeconómico'\n",
    "                , labels={'x':'Porcentaje de población de menor estatus socioeconómico',\n",
    "                            'y':'Valor mediano de las casas en cientos de miles de dólares'})\n",
    "fig.show()"
   ]
  },
  {
   "cell_type": "markdown",
   "metadata": {},
   "source": [
    "Se observa una relación negativa debil-media entre el porcentaje de población de menor estatus socioeconómico y el Valor mediano de las casas en cientos de miles de dólares"
   ]
  },
  {
   "cell_type": "code",
   "execution_count": 12,
   "metadata": {},
   "outputs": [
    {
     "data": {
      "application/vnd.plotly.v1+json": {
       "config": {
        "plotlyServerURL": "https://plot.ly"
       },
       "data": [
        {
         "hovertemplate": "Número de habitaciones por vivienda=%{x}<br>Valor mediano de las casas en cientos de miles de dólares=%{y}<extra></extra>",
         "legendgroup": "",
         "marker": {
          "color": "#636efa",
          "symbol": "circle"
         },
         "mode": "markers",
         "name": "",
         "orientation": "v",
         "showlegend": false,
         "type": "scatter",
         "x": [
          5.67,
          6.03,
          7.9491045628047825,
          6.456,
          6.461,
          6.29,
          5.936,
          6.49,
          6.113,
          4.519,
          6.98,
          5.708,
          6.728,
          6.152,
          5.706,
          5.914,
          5.036,
          6.727,
          8.421050780621204,
          6.934418760883462,
          6.389,
          6.162,
          6.405,
          6.575,
          8.78,
          6.14,
          6.003,
          5.727,
          6.678,
          5.878,
          6.405,
          5.87,
          5.594,
          7.61,
          6.383,
          6.122,
          5.403,
          6.794,
          6.957,
          6.12,
          6.009,
          6.006,
          6.398,
          6.816,
          6.618,
          6.083,
          5.875,
          6.142,
          5.757,
          5.759,
          6.096,
          5.404,
          5.663,
          7.107,
          6.696,
          6.101,
          6.02,
          6.195,
          5.936,
          6.431,
          5.605,
          6.459,
          6.273,
          6.579,
          7.831,
          5.701,
          6.77,
          8.050075719911602,
          6.968,
          6.54,
          6.31,
          6.593,
          5.851,
          4.963,
          5.96,
          5.277,
          6.762,
          5.818,
          5.39,
          5.963,
          5.627,
          4.138,
          6.525,
          5.794,
          6.749,
          7.016,
          5.713,
          6.5925068641085875,
          6.982,
          6.567,
          6.417,
          6.232,
          5.822,
          6.683,
          6.758,
          7.454,
          7.007,
          5.569,
          6.193,
          5.619186496622914,
          6.315,
          7.147,
          5.56,
          8.04,
          6.208,
          5.983,
          6.431,
          6.081,
          6.484,
          5.837,
          5.859,
          6.209,
          6.968,
          8.0109400877063,
          6.8,
          6.516,
          5.703855844719998,
          5.536,
          6.436,
          6.824,
          8.069,
          5.597,
          6.655,
          5.786,
          5.604,
          5.836,
          6.951,
          5.349,
          6.172,
          7.802,
          5.926,
          6.86,
          5.813,
          6.739,
          6.616,
          6.404,
          4.97,
          8.297,
          5.453,
          6.376,
          6.718,
          6.037,
          7.52,
          5.713,
          5.272,
          6.226,
          6.301,
          4.016588379362258,
          6.066,
          6.377,
          5.841,
          6.176,
          5.965,
          5.898,
          6.75,
          6.373,
          6.086,
          4.88,
          6.728,
          5.427,
          4.628,
          5.757,
          4.67993569822559,
          6.341,
          5.404,
          5.693,
          6.402,
          5.683,
          5.891,
          7.285219086226458,
          6.211,
          6.129,
          8.337,
          5,
          6.393,
          4.590182012606288,
          5.981,
          5.456,
          5.871,
          5.913,
          6.861,
          5.012,
          5.92,
          5.362,
          6.015,
          6.345,
          5.813,
          4.926,
          6.629,
          6.122,
          6.152,
          6.434,
          5.705,
          6.229,
          4.973,
          5.888,
          4.368,
          5.95,
          6.343,
          6.437,
          6.051,
          6.162,
          6.021,
          5.747,
          6.145,
          5.935,
          6.487,
          7.853,
          6.849,
          6.943,
          6.251,
          7.691,
          6.417,
          6.03,
          7.875,
          6.604,
          6.047,
          5.807,
          6.163,
          7.163,
          5.926,
          6.302220912560957,
          5.854,
          5.731,
          6.151,
          5.966,
          7.686,
          6.538,
          7.765,
          6.812,
          6.167,
          5.713,
          6.326,
          8.070483466854554,
          6.642,
          5.414,
          7.333,
          6.004,
          5.968,
          5.71941944219874,
          5.782,
          6.193,
          5.854,
          6.416,
          5.868,
          6.546,
          6.976,
          7.236,
          6.454,
          5.617884412785513,
          7.47,
          5.599,
          6.715,
          4.138,
          5.344,
          6.012,
          6.182,
          8.704,
          6.209,
          6.826,
          5.155,
          5.949,
          7.274,
          6.223,
          5.879,
          7.061,
          7.206,
          5.617,
          6.059,
          5.572,
          5.884,
          5.887,
          6.014,
          5.987,
          6.453,
          5.972,
          6.108,
          6.781,
          6.415,
          6.358,
          5.304,
          5.888,
          6.395,
          5.628,
          6.316,
          6.98,
          6.333,
          6.852,
          7.327,
          5.52,
          5.966,
          5.019,
          5.961,
          5.741,
          6.998,
          6.482,
          6.185,
          6.027,
          5.877,
          3.561,
          8.266,
          6.297,
          3.863,
          5.468,
          6.13,
          5.593,
          6.657,
          6.375,
          6.511,
          5.957,
          6.072,
          6.004146980980856,
          5.834,
          7.82,
          5.935,
          6.54300642268079,
          6.782,
          6.51,
          5.803,
          6.144,
          5.983,
          5.85,
          6.701,
          7.024,
          6.153,
          6.229,
          5.998,
          6.279,
          6.114,
          6.495,
          7.041,
          4.906,
          5.412,
          6.595,
          7.155,
          6.977480170096916,
          6.382,
          6.842,
          6.438,
          8.375,
          6.833,
          7.82,
          6.565,
          7.185,
          6.095,
          3.839536135689139,
          5.872,
          5.762,
          7.358,
          6.127,
          6.249,
          6.245,
          6.23,
          6.485,
          6.317,
          6.411,
          5.783,
          5.896,
          7.241,
          7.393,
          8.034,
          7.148,
          6.549,
          6.854,
          5.933,
          7.489,
          8.247,
          5.852,
          5.876,
          6.63,
          6.185,
          5.88,
          5.304,
          5.924,
          6.376,
          6.421,
          6.115,
          7.178,
          6.326,
          6.458,
          5.709,
          5.856,
          7.552326358012205,
          5.792470059915926,
          6.649,
          6.251,
          6.897,
          6.495,
          5.895,
          6.108,
          7.287,
          5.857,
          6.219,
          6.43,
          5.454,
          7.185,
          5.889,
          6.302,
          5.631,
          6.874,
          6.38,
          6.312,
          5.986,
          7.929,
          5.952,
          7.313,
          5.57,
          6.096,
          6.975,
          5.976,
          6.619,
          6.552,
          6.372,
          7.088,
          5.602,
          5.905,
          6.417,
          5.928,
          4.903,
          6.065,
          6.38,
          7.249,
          7.079,
          5.565,
          6.216,
          6.348,
          5.787,
          6.727
         ],
         "xaxis": "x",
         "y": [
          23.1,
          11.9,
          28.81242565447334,
          22.2,
          9.6,
          23.5,
          13.5,
          22.9,
          21,
          7,
          29.8,
          18.5,
          14.9,
          8.7,
          17.1,
          17.8,
          9.7,
          27.5,
          24.241711821460942,
          12.937564100385178,
          23.9,
          24.1,
          22,
          24,
          21.9,
          20.8,
          19.1,
          18.2,
          28.6,
          22,
          12.5,
          22,
          17.4,
          42.3,
          24.7,
          22.1,
          13.4,
          13.3,
          29.6,
          20.6,
          21.7,
          14.2,
          25,
          31.6,
          30.1,
          22.2,
          17.4,
          15.2,
          15.6,
          19.9,
          13.5,
          19.6,
          18.2,
          30.3,
          23.9,
          25,
          23.2,
          21.7,
          20.6,
          24.6,
          18.5,
          11.8,
          24.1,
          24.1,
          50,
          13.1,
          26.6,
          28.130115464822925,
          35.4,
          16.5,
          20.7,
          22.4,
          19.5,
          21.9,
          21.7,
          7.2,
          25,
          10.5,
          19.7,
          19.7,
          12.8,
          11.9,
          14.1,
          18.3,
          13.4,
          50,
          12.7,
          40.69470689014413,
          33.1,
          23.8,
          24.2,
          21.2,
          18.4,
          50,
          32.4,
          44,
          23.6,
          17.5,
          13.8,
          28.056450294333057,
          22.3,
          36.2,
          22.8,
          37.6,
          11.7,
          20.1,
          18,
          20,
          16.7,
          10.2,
          22.6,
          23.2,
          10.4,
          17.97579721746869,
          31.1,
          23.1,
          14.442315923562028,
          11.3,
          14.3,
          8.4,
          38.7,
          15.4,
          15.2,
          20,
          26.4,
          19.5,
          37,
          8.3,
          27.1,
          50,
          19.1,
          29.9,
          14.5,
          30.5,
          28.4,
          12.1,
          50,
          50,
          5,
          17.7,
          26.2,
          21.1,
          43.1,
          20.1,
          13.1,
          20.5,
          14.9,
          23.02879834519782,
          24.3,
          15,
          20,
          21.2,
          19.6,
          17.2,
          23.7,
          23,
          24,
          10.2,
          30.1,
          13.8,
          17.9,
          15,
          38.51670864300254,
          14.9,
          19.3,
          16.2,
          22.3,
          5,
          22.6,
          45.28275578218157,
          24.7,
          17,
          41.7,
          7.4,
          23.7,
          38.71552226953535,
          24.3,
          20.2,
          20.6,
          18.8,
          28.5,
          15.3,
          20.7,
          20.8,
          22.5,
          22.5,
          16.6,
          14.6,
          13.4,
          21.5,
          15.6,
          7.2,
          16.2,
          21.4,
          16.1,
          18.9,
          8.8,
          13.2,
          7.2,
          23.2,
          23.2,
          13.3,
          19.2,
          8.5,
          23.3,
          8.4,
          24.4,
          48.5,
          28.2,
          41.3,
          19.9,
          35.2,
          13,
          16.6,
          50,
          29.1,
          14.8,
          22.4,
          21.4,
          31.6,
          24.5,
          11.067792925892464,
          10.8,
          19.3,
          17.8,
          24.7,
          46.7,
          24.4,
          39.8,
          35.1,
          22.9,
          15.1,
          19.6,
          15.286347113088093,
          28.7,
          7,
          36,
          18.9,
          18.7,
          15.58274250544301,
          19.8,
          11,
          22.7,
          23.6,
          19.3,
          29.4,
          23.9,
          36.1,
          17.1,
          35.86500214314095,
          43.5,
          13.9,
          22.8,
          13.8,
          20,
          22.9,
          25,
          50,
          21.4,
          33.1,
          16.3,
          20.4,
          34.6,
          10.2,
          18.8,
          25,
          36.5,
          17.2,
          20.6,
          23.1,
          18.6,
          12.7,
          17.5,
          5.6,
          22,
          20.3,
          24.3,
          26.5,
          25,
          22.2,
          12,
          23.3,
          21.7,
          15.6,
          22.2,
          37.2,
          22.6,
          27.5,
          31,
          12.3,
          16,
          14.4,
          21.7,
          18.7,
          33.4,
          29.1,
          14.1,
          16.8,
          23.8,
          27.5,
          44.8,
          16.1,
          23.1,
          15.6,
          13.8,
          17.6,
          17.2,
          28.1,
          25,
          8.8,
          14.5,
          12.301630479747343,
          19.9,
          43.8,
          23.1,
          23.675363070419724,
          32,
          23.3,
          16.8,
          36.2,
          13.6,
          21,
          16.4,
          34.9,
          29.6,
          19.6,
          23.4,
          20,
          19.1,
          26.4,
          29,
          13.8,
          23.7,
          30.8,
          37.9,
          9.86668870434636,
          23.1,
          30.1,
          24.8,
          50,
          14.1,
          45.4,
          24.8,
          34.7,
          20.1,
          48.854538797587175,
          20.4,
          21.8,
          31.5,
          23.9,
          20.6,
          23.4,
          20.1,
          15.4,
          19.5,
          16.7,
          22.5,
          8.3,
          32.7,
          17.8,
          50,
          37.3,
          27.1,
          32,
          18.9,
          50,
          48.3,
          6.3,
          20.9,
          26.6,
          14.6,
          19.1,
          10.4,
          15.6,
          23.1,
          21.6,
          20.5,
          36.4,
          24.4,
          19.2,
          19.4,
          17.3,
          46.19176116009245,
          17.01764423324376,
          13.9,
          12.6,
          22,
          18.4,
          18.5,
          21.9,
          33.3,
          13.3,
          18.4,
          28.7,
          15.2,
          34.9,
          21.7,
          24.8,
          16.5,
          31.2,
          9.5,
          21.2,
          21.4,
          50,
          19,
          15,
          13.6,
          18.2,
          34.9,
          12.7,
          23.9,
          31.5,
          23,
          32.2,
          19.4,
          20.6,
          22.6,
          18.3,
          11.8,
          22.8,
          13.1,
          35.4,
          28.7,
          11.7,
          50,
          14.5,
          19.4,
          28
         ],
         "yaxis": "y"
        }
       ],
       "layout": {
        "legend": {
         "tracegroupgap": 0
        },
        "template": {
         "data": {
          "bar": [
           {
            "error_x": {
             "color": "#2a3f5f"
            },
            "error_y": {
             "color": "#2a3f5f"
            },
            "marker": {
             "line": {
              "color": "#E5ECF6",
              "width": 0.5
             },
             "pattern": {
              "fillmode": "overlay",
              "size": 10,
              "solidity": 0.2
             }
            },
            "type": "bar"
           }
          ],
          "barpolar": [
           {
            "marker": {
             "line": {
              "color": "#E5ECF6",
              "width": 0.5
             },
             "pattern": {
              "fillmode": "overlay",
              "size": 10,
              "solidity": 0.2
             }
            },
            "type": "barpolar"
           }
          ],
          "carpet": [
           {
            "aaxis": {
             "endlinecolor": "#2a3f5f",
             "gridcolor": "white",
             "linecolor": "white",
             "minorgridcolor": "white",
             "startlinecolor": "#2a3f5f"
            },
            "baxis": {
             "endlinecolor": "#2a3f5f",
             "gridcolor": "white",
             "linecolor": "white",
             "minorgridcolor": "white",
             "startlinecolor": "#2a3f5f"
            },
            "type": "carpet"
           }
          ],
          "choropleth": [
           {
            "colorbar": {
             "outlinewidth": 0,
             "ticks": ""
            },
            "type": "choropleth"
           }
          ],
          "contour": [
           {
            "colorbar": {
             "outlinewidth": 0,
             "ticks": ""
            },
            "colorscale": [
             [
              0,
              "#0d0887"
             ],
             [
              0.1111111111111111,
              "#46039f"
             ],
             [
              0.2222222222222222,
              "#7201a8"
             ],
             [
              0.3333333333333333,
              "#9c179e"
             ],
             [
              0.4444444444444444,
              "#bd3786"
             ],
             [
              0.5555555555555556,
              "#d8576b"
             ],
             [
              0.6666666666666666,
              "#ed7953"
             ],
             [
              0.7777777777777778,
              "#fb9f3a"
             ],
             [
              0.8888888888888888,
              "#fdca26"
             ],
             [
              1,
              "#f0f921"
             ]
            ],
            "type": "contour"
           }
          ],
          "contourcarpet": [
           {
            "colorbar": {
             "outlinewidth": 0,
             "ticks": ""
            },
            "type": "contourcarpet"
           }
          ],
          "heatmap": [
           {
            "colorbar": {
             "outlinewidth": 0,
             "ticks": ""
            },
            "colorscale": [
             [
              0,
              "#0d0887"
             ],
             [
              0.1111111111111111,
              "#46039f"
             ],
             [
              0.2222222222222222,
              "#7201a8"
             ],
             [
              0.3333333333333333,
              "#9c179e"
             ],
             [
              0.4444444444444444,
              "#bd3786"
             ],
             [
              0.5555555555555556,
              "#d8576b"
             ],
             [
              0.6666666666666666,
              "#ed7953"
             ],
             [
              0.7777777777777778,
              "#fb9f3a"
             ],
             [
              0.8888888888888888,
              "#fdca26"
             ],
             [
              1,
              "#f0f921"
             ]
            ],
            "type": "heatmap"
           }
          ],
          "heatmapgl": [
           {
            "colorbar": {
             "outlinewidth": 0,
             "ticks": ""
            },
            "colorscale": [
             [
              0,
              "#0d0887"
             ],
             [
              0.1111111111111111,
              "#46039f"
             ],
             [
              0.2222222222222222,
              "#7201a8"
             ],
             [
              0.3333333333333333,
              "#9c179e"
             ],
             [
              0.4444444444444444,
              "#bd3786"
             ],
             [
              0.5555555555555556,
              "#d8576b"
             ],
             [
              0.6666666666666666,
              "#ed7953"
             ],
             [
              0.7777777777777778,
              "#fb9f3a"
             ],
             [
              0.8888888888888888,
              "#fdca26"
             ],
             [
              1,
              "#f0f921"
             ]
            ],
            "type": "heatmapgl"
           }
          ],
          "histogram": [
           {
            "marker": {
             "pattern": {
              "fillmode": "overlay",
              "size": 10,
              "solidity": 0.2
             }
            },
            "type": "histogram"
           }
          ],
          "histogram2d": [
           {
            "colorbar": {
             "outlinewidth": 0,
             "ticks": ""
            },
            "colorscale": [
             [
              0,
              "#0d0887"
             ],
             [
              0.1111111111111111,
              "#46039f"
             ],
             [
              0.2222222222222222,
              "#7201a8"
             ],
             [
              0.3333333333333333,
              "#9c179e"
             ],
             [
              0.4444444444444444,
              "#bd3786"
             ],
             [
              0.5555555555555556,
              "#d8576b"
             ],
             [
              0.6666666666666666,
              "#ed7953"
             ],
             [
              0.7777777777777778,
              "#fb9f3a"
             ],
             [
              0.8888888888888888,
              "#fdca26"
             ],
             [
              1,
              "#f0f921"
             ]
            ],
            "type": "histogram2d"
           }
          ],
          "histogram2dcontour": [
           {
            "colorbar": {
             "outlinewidth": 0,
             "ticks": ""
            },
            "colorscale": [
             [
              0,
              "#0d0887"
             ],
             [
              0.1111111111111111,
              "#46039f"
             ],
             [
              0.2222222222222222,
              "#7201a8"
             ],
             [
              0.3333333333333333,
              "#9c179e"
             ],
             [
              0.4444444444444444,
              "#bd3786"
             ],
             [
              0.5555555555555556,
              "#d8576b"
             ],
             [
              0.6666666666666666,
              "#ed7953"
             ],
             [
              0.7777777777777778,
              "#fb9f3a"
             ],
             [
              0.8888888888888888,
              "#fdca26"
             ],
             [
              1,
              "#f0f921"
             ]
            ],
            "type": "histogram2dcontour"
           }
          ],
          "mesh3d": [
           {
            "colorbar": {
             "outlinewidth": 0,
             "ticks": ""
            },
            "type": "mesh3d"
           }
          ],
          "parcoords": [
           {
            "line": {
             "colorbar": {
              "outlinewidth": 0,
              "ticks": ""
             }
            },
            "type": "parcoords"
           }
          ],
          "pie": [
           {
            "automargin": true,
            "type": "pie"
           }
          ],
          "scatter": [
           {
            "fillpattern": {
             "fillmode": "overlay",
             "size": 10,
             "solidity": 0.2
            },
            "type": "scatter"
           }
          ],
          "scatter3d": [
           {
            "line": {
             "colorbar": {
              "outlinewidth": 0,
              "ticks": ""
             }
            },
            "marker": {
             "colorbar": {
              "outlinewidth": 0,
              "ticks": ""
             }
            },
            "type": "scatter3d"
           }
          ],
          "scattercarpet": [
           {
            "marker": {
             "colorbar": {
              "outlinewidth": 0,
              "ticks": ""
             }
            },
            "type": "scattercarpet"
           }
          ],
          "scattergeo": [
           {
            "marker": {
             "colorbar": {
              "outlinewidth": 0,
              "ticks": ""
             }
            },
            "type": "scattergeo"
           }
          ],
          "scattergl": [
           {
            "marker": {
             "colorbar": {
              "outlinewidth": 0,
              "ticks": ""
             }
            },
            "type": "scattergl"
           }
          ],
          "scattermapbox": [
           {
            "marker": {
             "colorbar": {
              "outlinewidth": 0,
              "ticks": ""
             }
            },
            "type": "scattermapbox"
           }
          ],
          "scatterpolar": [
           {
            "marker": {
             "colorbar": {
              "outlinewidth": 0,
              "ticks": ""
             }
            },
            "type": "scatterpolar"
           }
          ],
          "scatterpolargl": [
           {
            "marker": {
             "colorbar": {
              "outlinewidth": 0,
              "ticks": ""
             }
            },
            "type": "scatterpolargl"
           }
          ],
          "scatterternary": [
           {
            "marker": {
             "colorbar": {
              "outlinewidth": 0,
              "ticks": ""
             }
            },
            "type": "scatterternary"
           }
          ],
          "surface": [
           {
            "colorbar": {
             "outlinewidth": 0,
             "ticks": ""
            },
            "colorscale": [
             [
              0,
              "#0d0887"
             ],
             [
              0.1111111111111111,
              "#46039f"
             ],
             [
              0.2222222222222222,
              "#7201a8"
             ],
             [
              0.3333333333333333,
              "#9c179e"
             ],
             [
              0.4444444444444444,
              "#bd3786"
             ],
             [
              0.5555555555555556,
              "#d8576b"
             ],
             [
              0.6666666666666666,
              "#ed7953"
             ],
             [
              0.7777777777777778,
              "#fb9f3a"
             ],
             [
              0.8888888888888888,
              "#fdca26"
             ],
             [
              1,
              "#f0f921"
             ]
            ],
            "type": "surface"
           }
          ],
          "table": [
           {
            "cells": {
             "fill": {
              "color": "#EBF0F8"
             },
             "line": {
              "color": "white"
             }
            },
            "header": {
             "fill": {
              "color": "#C8D4E3"
             },
             "line": {
              "color": "white"
             }
            },
            "type": "table"
           }
          ]
         },
         "layout": {
          "annotationdefaults": {
           "arrowcolor": "#2a3f5f",
           "arrowhead": 0,
           "arrowwidth": 1
          },
          "autotypenumbers": "strict",
          "coloraxis": {
           "colorbar": {
            "outlinewidth": 0,
            "ticks": ""
           }
          },
          "colorscale": {
           "diverging": [
            [
             0,
             "#8e0152"
            ],
            [
             0.1,
             "#c51b7d"
            ],
            [
             0.2,
             "#de77ae"
            ],
            [
             0.3,
             "#f1b6da"
            ],
            [
             0.4,
             "#fde0ef"
            ],
            [
             0.5,
             "#f7f7f7"
            ],
            [
             0.6,
             "#e6f5d0"
            ],
            [
             0.7,
             "#b8e186"
            ],
            [
             0.8,
             "#7fbc41"
            ],
            [
             0.9,
             "#4d9221"
            ],
            [
             1,
             "#276419"
            ]
           ],
           "sequential": [
            [
             0,
             "#0d0887"
            ],
            [
             0.1111111111111111,
             "#46039f"
            ],
            [
             0.2222222222222222,
             "#7201a8"
            ],
            [
             0.3333333333333333,
             "#9c179e"
            ],
            [
             0.4444444444444444,
             "#bd3786"
            ],
            [
             0.5555555555555556,
             "#d8576b"
            ],
            [
             0.6666666666666666,
             "#ed7953"
            ],
            [
             0.7777777777777778,
             "#fb9f3a"
            ],
            [
             0.8888888888888888,
             "#fdca26"
            ],
            [
             1,
             "#f0f921"
            ]
           ],
           "sequentialminus": [
            [
             0,
             "#0d0887"
            ],
            [
             0.1111111111111111,
             "#46039f"
            ],
            [
             0.2222222222222222,
             "#7201a8"
            ],
            [
             0.3333333333333333,
             "#9c179e"
            ],
            [
             0.4444444444444444,
             "#bd3786"
            ],
            [
             0.5555555555555556,
             "#d8576b"
            ],
            [
             0.6666666666666666,
             "#ed7953"
            ],
            [
             0.7777777777777778,
             "#fb9f3a"
            ],
            [
             0.8888888888888888,
             "#fdca26"
            ],
            [
             1,
             "#f0f921"
            ]
           ]
          },
          "colorway": [
           "#636efa",
           "#EF553B",
           "#00cc96",
           "#ab63fa",
           "#FFA15A",
           "#19d3f3",
           "#FF6692",
           "#B6E880",
           "#FF97FF",
           "#FECB52"
          ],
          "font": {
           "color": "#2a3f5f"
          },
          "geo": {
           "bgcolor": "white",
           "lakecolor": "white",
           "landcolor": "#E5ECF6",
           "showlakes": true,
           "showland": true,
           "subunitcolor": "white"
          },
          "hoverlabel": {
           "align": "left"
          },
          "hovermode": "closest",
          "mapbox": {
           "style": "light"
          },
          "paper_bgcolor": "white",
          "plot_bgcolor": "#E5ECF6",
          "polar": {
           "angularaxis": {
            "gridcolor": "white",
            "linecolor": "white",
            "ticks": ""
           },
           "bgcolor": "#E5ECF6",
           "radialaxis": {
            "gridcolor": "white",
            "linecolor": "white",
            "ticks": ""
           }
          },
          "scene": {
           "xaxis": {
            "backgroundcolor": "#E5ECF6",
            "gridcolor": "white",
            "gridwidth": 2,
            "linecolor": "white",
            "showbackground": true,
            "ticks": "",
            "zerolinecolor": "white"
           },
           "yaxis": {
            "backgroundcolor": "#E5ECF6",
            "gridcolor": "white",
            "gridwidth": 2,
            "linecolor": "white",
            "showbackground": true,
            "ticks": "",
            "zerolinecolor": "white"
           },
           "zaxis": {
            "backgroundcolor": "#E5ECF6",
            "gridcolor": "white",
            "gridwidth": 2,
            "linecolor": "white",
            "showbackground": true,
            "ticks": "",
            "zerolinecolor": "white"
           }
          },
          "shapedefaults": {
           "line": {
            "color": "#2a3f5f"
           }
          },
          "ternary": {
           "aaxis": {
            "gridcolor": "white",
            "linecolor": "white",
            "ticks": ""
           },
           "baxis": {
            "gridcolor": "white",
            "linecolor": "white",
            "ticks": ""
           },
           "bgcolor": "#E5ECF6",
           "caxis": {
            "gridcolor": "white",
            "linecolor": "white",
            "ticks": ""
           }
          },
          "title": {
           "x": 0.05
          },
          "xaxis": {
           "automargin": true,
           "gridcolor": "white",
           "linecolor": "white",
           "ticks": "",
           "title": {
            "standoff": 15
           },
           "zerolinecolor": "white",
           "zerolinewidth": 2
          },
          "yaxis": {
           "automargin": true,
           "gridcolor": "white",
           "linecolor": "white",
           "ticks": "",
           "title": {
            "standoff": 15
           },
           "zerolinecolor": "white",
           "zerolinewidth": 2
          }
         }
        },
        "title": {
         "text": "Comparación de los precios de casas con la cantidad de habitaciones en la misma"
        },
        "xaxis": {
         "anchor": "y",
         "domain": [
          0,
          1
         ],
         "title": {
          "text": "Número de habitaciones por vivienda"
         }
        },
        "yaxis": {
         "anchor": "x",
         "domain": [
          0,
          1
         ],
         "title": {
          "text": "Valor mediano de las casas en cientos de miles de dólares"
         }
        }
       }
      }
     },
     "metadata": {},
     "output_type": "display_data"
    }
   ],
   "source": [
    "fig = px.scatter(x=X_train_imputado_df['RM'], y=y_train_df['MEDV'], \n",
    "                title='Comparación de los precios de casas con la cantidad de habitaciones en la misma'\n",
    "                , labels={'x':'Número de habitaciones por vivienda','y':'Valor mediano de las casas en cientos de miles de dólares'})\n",
    "fig.show()"
   ]
  },
  {
   "cell_type": "markdown",
   "metadata": {},
   "source": [
    "Se observa una relación positiva debil-media entre el número de habitaciones por vivienda y el valor mediano de las casas en cientos de miles de dólares"
   ]
  },
  {
   "cell_type": "code",
   "execution_count": 13,
   "metadata": {},
   "outputs": [
    {
     "data": {
      "application/vnd.plotly.v1+json": {
       "config": {
        "plotlyServerURL": "https://plot.ly"
       },
       "data": [
        {
         "hovertemplate": "Proporción de unidades ocupadas por sus propietarios construidas antes de 1940=%{x}<br>Valor mediano de las casas en cientos de miles de dólares=%{y}<extra></extra>",
         "legendgroup": "",
         "marker": {
          "color": "#636efa",
          "symbol": "circle"
         },
         "mode": "markers",
         "name": "",
         "orientation": "v",
         "showlegend": false,
         "type": "scatter",
         "x": [
          28.8,
          80.8,
          95.59203435788464,
          67.8,
          93.3,
          17.8,
          80.3,
          44.4,
          58.8,
          100,
          67.6,
          74.3,
          94.1,
          100,
          28.4,
          83.2,
          97,
          79.9,
          70.78009822202202,
          26.19073369254249,
          48,
          38.4,
          73.9,
          65.2,
          82.9,
          45.8,
          94.5,
          69.5,
          31.1,
          21.4,
          96,
          69.7,
          36.8,
          15.7,
          35.7,
          52.8,
          100,
          98.8,
          6.8,
          76.7,
          42.3,
          95.3,
          88,
          40.5,
          80.8,
          43.7,
          94.6,
          91.7,
          98.4,
          48.2,
          96.9,
          100,
          21.9,
          36.6,
          56.4,
          93,
          47.2,
          54.4,
          19.5,
          14.7,
          70.2,
          94.8,
          6,
          35.9,
          53.6,
          95,
          2.9,
          22.542423537494603,
          37.2,
          59.7,
          38.5,
          69.1,
          96.7,
          91.4,
          92.1,
          98.1,
          43.4,
          92.4,
          72.9,
          45.7,
          93.9,
          100,
          86.5,
          70.6,
          92.6,
          97.5,
          94.1,
          35.54036672196615,
          17.7,
          87.3,
          6.6,
          53.7,
          95.4,
          96.8,
          32.9,
          34.2,
          86.3,
          73.5,
          92.6,
          44.2978648859331,
          45.6,
          54.2,
          62.8,
          86.5,
          95,
          83.5,
          98.8,
          84.4,
          93.6,
          59.7,
          68.7,
          31.3,
          91.9,
          42.62925557662629,
          9.9,
          27.7,
          77.54798698400344,
          100,
          87.9,
          76.5,
          76,
          94.9,
          98.2,
          33.3,
          89.8,
          91.9,
          21.5,
          96,
          96.1,
          98.2,
          71,
          74.4,
          100,
          30.8,
          58.1,
          100,
          100,
          67,
          100,
          88.4,
          17.5,
          34.5,
          89.4,
          56.7,
          94,
          79.2,
          83.7,
          60.93730582861713,
          100,
          94.3,
          61.4,
          72.5,
          89.2,
          52.3,
          74.9,
          92.4,
          61.5,
          100,
          36.1,
          95.4,
          100,
          100,
          13.122262345596411,
          96.4,
          88.6,
          96,
          95.2,
          100,
          22.3,
          72.48770574184505,
          6.5,
          96,
          73.3,
          89.5,
          7.8,
          37.09865050477092,
          68.1,
          36.6,
          41.9,
          92.9,
          27.9,
          88,
          61.5,
          96.2,
          45.1,
          20.1,
          90.3,
          95.7,
          94.6,
          97.3,
          82.6,
          100,
          77.7,
          88,
          37.8,
          47.6,
          91.2,
          82,
          100,
          75,
          82.5,
          97.4,
          82.6,
          98.9,
          29.2,
          87.9,
          13,
          33.2,
          70.3,
          97.4,
          91.1,
          51.8,
          98.3,
          85.5,
          32,
          18.8,
          88.8,
          53.8,
          69.6,
          79.9,
          42.6,
          71.25414607495,
          96.6,
          65.2,
          97.9,
          30.2,
          17,
          58.7,
          83.3,
          32.2,
          46.7,
          97,
          97.7,
          35.16243260617871,
          85.1,
          98.3,
          100,
          85.9,
          58.5,
          97.52136221484452,
          71.7,
          78.1,
          91.8,
          84.1,
          25.8,
          33.1,
          91,
          41.1,
          98.4,
          8.022743390746529,
          52.6,
          85.7,
          81.6,
          100,
          100,
          66.6,
          42.4,
          86.9,
          65.4,
          27.6,
          100,
          61.8,
          38.3,
          100,
          95.8,
          77,
          91.6,
          97.9,
          37.3,
          88.5,
          18.5,
          94.7,
          48.5,
          100,
          31.9,
          76.7,
          34.9,
          71.3,
          40.1,
          52.9,
          97.3,
          56,
          91,
          100,
          38.1,
          58.4,
          17.2,
          100,
          94.5,
          100,
          93.4,
          100,
          17.5,
          66.2,
          45.8,
          32.1,
          98.7,
          79.7,
          79.2,
          87.9,
          78.3,
          91.8,
          100,
          100,
          100,
          76.5,
          100,
          32.3,
          21.1,
          100,
          100,
          56.9642724429689,
          56.5,
          36.9,
          29.3,
          23.5934052130453,
          41.1,
          100,
          89,
          62.2,
          98.8,
          41.5,
          90,
          15.8,
          68.8,
          90.7,
          21.4,
          74.5,
          79.8,
          18.4,
          10,
          100,
          9.8,
          21.8,
          92.2,
          64.22221941934322,
          67.2,
          100,
          8.9,
          93.9,
          94.3,
          64.5,
          22.9,
          61.1,
          65.1,
          20.299500138052053,
          73.1,
          40.3,
          71.6,
          18.4,
          77.3,
          6.2,
          31.5,
          100,
          83,
          100,
          72.7,
          95.4,
          49.3,
          99.3,
          31.9,
          27.7,
          51,
          42.8,
          68.2,
          90.8,
          70.4,
          77.8,
          19.1,
          56.1,
          96.7,
          97.3,
          89.1,
          94.1,
          54.3,
          78.9,
          63,
          26.3,
          52.5,
          98.9,
          98.5,
          97,
          41.83973188964385,
          72.79678106324984,
          93.3,
          96.6,
          54.3,
          94.4,
          59.6,
          32,
          34.1,
          98.2,
          100,
          58.7,
          92.7,
          38.9,
          39,
          32.2,
          100,
          28.1,
          95.6,
          51.9,
          88.4,
          96.2,
          84.7,
          97.9,
          98.1,
          84.5,
          15.3,
          87.9,
          70.4,
          21.4,
          97.9,
          20.8,
          62,
          53.2,
          66.1,
          88.2,
          97.8,
          7.8,
          96.2,
          21.9,
          63.1,
          70.6,
          100,
          86.1,
          31.1,
          33.5
         ],
         "xaxis": "x",
         "y": [
          23.1,
          11.9,
          28.81242565447334,
          22.2,
          9.6,
          23.5,
          13.5,
          22.9,
          21,
          7,
          29.8,
          18.5,
          14.9,
          8.7,
          17.1,
          17.8,
          9.7,
          27.5,
          24.241711821460942,
          12.937564100385178,
          23.9,
          24.1,
          22,
          24,
          21.9,
          20.8,
          19.1,
          18.2,
          28.6,
          22,
          12.5,
          22,
          17.4,
          42.3,
          24.7,
          22.1,
          13.4,
          13.3,
          29.6,
          20.6,
          21.7,
          14.2,
          25,
          31.6,
          30.1,
          22.2,
          17.4,
          15.2,
          15.6,
          19.9,
          13.5,
          19.6,
          18.2,
          30.3,
          23.9,
          25,
          23.2,
          21.7,
          20.6,
          24.6,
          18.5,
          11.8,
          24.1,
          24.1,
          50,
          13.1,
          26.6,
          28.130115464822925,
          35.4,
          16.5,
          20.7,
          22.4,
          19.5,
          21.9,
          21.7,
          7.2,
          25,
          10.5,
          19.7,
          19.7,
          12.8,
          11.9,
          14.1,
          18.3,
          13.4,
          50,
          12.7,
          40.69470689014413,
          33.1,
          23.8,
          24.2,
          21.2,
          18.4,
          50,
          32.4,
          44,
          23.6,
          17.5,
          13.8,
          28.056450294333057,
          22.3,
          36.2,
          22.8,
          37.6,
          11.7,
          20.1,
          18,
          20,
          16.7,
          10.2,
          22.6,
          23.2,
          10.4,
          17.97579721746869,
          31.1,
          23.1,
          14.442315923562028,
          11.3,
          14.3,
          8.4,
          38.7,
          15.4,
          15.2,
          20,
          26.4,
          19.5,
          37,
          8.3,
          27.1,
          50,
          19.1,
          29.9,
          14.5,
          30.5,
          28.4,
          12.1,
          50,
          50,
          5,
          17.7,
          26.2,
          21.1,
          43.1,
          20.1,
          13.1,
          20.5,
          14.9,
          23.02879834519782,
          24.3,
          15,
          20,
          21.2,
          19.6,
          17.2,
          23.7,
          23,
          24,
          10.2,
          30.1,
          13.8,
          17.9,
          15,
          38.51670864300254,
          14.9,
          19.3,
          16.2,
          22.3,
          5,
          22.6,
          45.28275578218157,
          24.7,
          17,
          41.7,
          7.4,
          23.7,
          38.71552226953535,
          24.3,
          20.2,
          20.6,
          18.8,
          28.5,
          15.3,
          20.7,
          20.8,
          22.5,
          22.5,
          16.6,
          14.6,
          13.4,
          21.5,
          15.6,
          7.2,
          16.2,
          21.4,
          16.1,
          18.9,
          8.8,
          13.2,
          7.2,
          23.2,
          23.2,
          13.3,
          19.2,
          8.5,
          23.3,
          8.4,
          24.4,
          48.5,
          28.2,
          41.3,
          19.9,
          35.2,
          13,
          16.6,
          50,
          29.1,
          14.8,
          22.4,
          21.4,
          31.6,
          24.5,
          11.067792925892464,
          10.8,
          19.3,
          17.8,
          24.7,
          46.7,
          24.4,
          39.8,
          35.1,
          22.9,
          15.1,
          19.6,
          15.286347113088093,
          28.7,
          7,
          36,
          18.9,
          18.7,
          15.58274250544301,
          19.8,
          11,
          22.7,
          23.6,
          19.3,
          29.4,
          23.9,
          36.1,
          17.1,
          35.86500214314095,
          43.5,
          13.9,
          22.8,
          13.8,
          20,
          22.9,
          25,
          50,
          21.4,
          33.1,
          16.3,
          20.4,
          34.6,
          10.2,
          18.8,
          25,
          36.5,
          17.2,
          20.6,
          23.1,
          18.6,
          12.7,
          17.5,
          5.6,
          22,
          20.3,
          24.3,
          26.5,
          25,
          22.2,
          12,
          23.3,
          21.7,
          15.6,
          22.2,
          37.2,
          22.6,
          27.5,
          31,
          12.3,
          16,
          14.4,
          21.7,
          18.7,
          33.4,
          29.1,
          14.1,
          16.8,
          23.8,
          27.5,
          44.8,
          16.1,
          23.1,
          15.6,
          13.8,
          17.6,
          17.2,
          28.1,
          25,
          8.8,
          14.5,
          12.301630479747343,
          19.9,
          43.8,
          23.1,
          23.675363070419724,
          32,
          23.3,
          16.8,
          36.2,
          13.6,
          21,
          16.4,
          34.9,
          29.6,
          19.6,
          23.4,
          20,
          19.1,
          26.4,
          29,
          13.8,
          23.7,
          30.8,
          37.9,
          9.86668870434636,
          23.1,
          30.1,
          24.8,
          50,
          14.1,
          45.4,
          24.8,
          34.7,
          20.1,
          48.854538797587175,
          20.4,
          21.8,
          31.5,
          23.9,
          20.6,
          23.4,
          20.1,
          15.4,
          19.5,
          16.7,
          22.5,
          8.3,
          32.7,
          17.8,
          50,
          37.3,
          27.1,
          32,
          18.9,
          50,
          48.3,
          6.3,
          20.9,
          26.6,
          14.6,
          19.1,
          10.4,
          15.6,
          23.1,
          21.6,
          20.5,
          36.4,
          24.4,
          19.2,
          19.4,
          17.3,
          46.19176116009245,
          17.01764423324376,
          13.9,
          12.6,
          22,
          18.4,
          18.5,
          21.9,
          33.3,
          13.3,
          18.4,
          28.7,
          15.2,
          34.9,
          21.7,
          24.8,
          16.5,
          31.2,
          9.5,
          21.2,
          21.4,
          50,
          19,
          15,
          13.6,
          18.2,
          34.9,
          12.7,
          23.9,
          31.5,
          23,
          32.2,
          19.4,
          20.6,
          22.6,
          18.3,
          11.8,
          22.8,
          13.1,
          35.4,
          28.7,
          11.7,
          50,
          14.5,
          19.4,
          28
         ],
         "yaxis": "y"
        }
       ],
       "layout": {
        "legend": {
         "tracegroupgap": 0
        },
        "template": {
         "data": {
          "bar": [
           {
            "error_x": {
             "color": "#2a3f5f"
            },
            "error_y": {
             "color": "#2a3f5f"
            },
            "marker": {
             "line": {
              "color": "#E5ECF6",
              "width": 0.5
             },
             "pattern": {
              "fillmode": "overlay",
              "size": 10,
              "solidity": 0.2
             }
            },
            "type": "bar"
           }
          ],
          "barpolar": [
           {
            "marker": {
             "line": {
              "color": "#E5ECF6",
              "width": 0.5
             },
             "pattern": {
              "fillmode": "overlay",
              "size": 10,
              "solidity": 0.2
             }
            },
            "type": "barpolar"
           }
          ],
          "carpet": [
           {
            "aaxis": {
             "endlinecolor": "#2a3f5f",
             "gridcolor": "white",
             "linecolor": "white",
             "minorgridcolor": "white",
             "startlinecolor": "#2a3f5f"
            },
            "baxis": {
             "endlinecolor": "#2a3f5f",
             "gridcolor": "white",
             "linecolor": "white",
             "minorgridcolor": "white",
             "startlinecolor": "#2a3f5f"
            },
            "type": "carpet"
           }
          ],
          "choropleth": [
           {
            "colorbar": {
             "outlinewidth": 0,
             "ticks": ""
            },
            "type": "choropleth"
           }
          ],
          "contour": [
           {
            "colorbar": {
             "outlinewidth": 0,
             "ticks": ""
            },
            "colorscale": [
             [
              0,
              "#0d0887"
             ],
             [
              0.1111111111111111,
              "#46039f"
             ],
             [
              0.2222222222222222,
              "#7201a8"
             ],
             [
              0.3333333333333333,
              "#9c179e"
             ],
             [
              0.4444444444444444,
              "#bd3786"
             ],
             [
              0.5555555555555556,
              "#d8576b"
             ],
             [
              0.6666666666666666,
              "#ed7953"
             ],
             [
              0.7777777777777778,
              "#fb9f3a"
             ],
             [
              0.8888888888888888,
              "#fdca26"
             ],
             [
              1,
              "#f0f921"
             ]
            ],
            "type": "contour"
           }
          ],
          "contourcarpet": [
           {
            "colorbar": {
             "outlinewidth": 0,
             "ticks": ""
            },
            "type": "contourcarpet"
           }
          ],
          "heatmap": [
           {
            "colorbar": {
             "outlinewidth": 0,
             "ticks": ""
            },
            "colorscale": [
             [
              0,
              "#0d0887"
             ],
             [
              0.1111111111111111,
              "#46039f"
             ],
             [
              0.2222222222222222,
              "#7201a8"
             ],
             [
              0.3333333333333333,
              "#9c179e"
             ],
             [
              0.4444444444444444,
              "#bd3786"
             ],
             [
              0.5555555555555556,
              "#d8576b"
             ],
             [
              0.6666666666666666,
              "#ed7953"
             ],
             [
              0.7777777777777778,
              "#fb9f3a"
             ],
             [
              0.8888888888888888,
              "#fdca26"
             ],
             [
              1,
              "#f0f921"
             ]
            ],
            "type": "heatmap"
           }
          ],
          "heatmapgl": [
           {
            "colorbar": {
             "outlinewidth": 0,
             "ticks": ""
            },
            "colorscale": [
             [
              0,
              "#0d0887"
             ],
             [
              0.1111111111111111,
              "#46039f"
             ],
             [
              0.2222222222222222,
              "#7201a8"
             ],
             [
              0.3333333333333333,
              "#9c179e"
             ],
             [
              0.4444444444444444,
              "#bd3786"
             ],
             [
              0.5555555555555556,
              "#d8576b"
             ],
             [
              0.6666666666666666,
              "#ed7953"
             ],
             [
              0.7777777777777778,
              "#fb9f3a"
             ],
             [
              0.8888888888888888,
              "#fdca26"
             ],
             [
              1,
              "#f0f921"
             ]
            ],
            "type": "heatmapgl"
           }
          ],
          "histogram": [
           {
            "marker": {
             "pattern": {
              "fillmode": "overlay",
              "size": 10,
              "solidity": 0.2
             }
            },
            "type": "histogram"
           }
          ],
          "histogram2d": [
           {
            "colorbar": {
             "outlinewidth": 0,
             "ticks": ""
            },
            "colorscale": [
             [
              0,
              "#0d0887"
             ],
             [
              0.1111111111111111,
              "#46039f"
             ],
             [
              0.2222222222222222,
              "#7201a8"
             ],
             [
              0.3333333333333333,
              "#9c179e"
             ],
             [
              0.4444444444444444,
              "#bd3786"
             ],
             [
              0.5555555555555556,
              "#d8576b"
             ],
             [
              0.6666666666666666,
              "#ed7953"
             ],
             [
              0.7777777777777778,
              "#fb9f3a"
             ],
             [
              0.8888888888888888,
              "#fdca26"
             ],
             [
              1,
              "#f0f921"
             ]
            ],
            "type": "histogram2d"
           }
          ],
          "histogram2dcontour": [
           {
            "colorbar": {
             "outlinewidth": 0,
             "ticks": ""
            },
            "colorscale": [
             [
              0,
              "#0d0887"
             ],
             [
              0.1111111111111111,
              "#46039f"
             ],
             [
              0.2222222222222222,
              "#7201a8"
             ],
             [
              0.3333333333333333,
              "#9c179e"
             ],
             [
              0.4444444444444444,
              "#bd3786"
             ],
             [
              0.5555555555555556,
              "#d8576b"
             ],
             [
              0.6666666666666666,
              "#ed7953"
             ],
             [
              0.7777777777777778,
              "#fb9f3a"
             ],
             [
              0.8888888888888888,
              "#fdca26"
             ],
             [
              1,
              "#f0f921"
             ]
            ],
            "type": "histogram2dcontour"
           }
          ],
          "mesh3d": [
           {
            "colorbar": {
             "outlinewidth": 0,
             "ticks": ""
            },
            "type": "mesh3d"
           }
          ],
          "parcoords": [
           {
            "line": {
             "colorbar": {
              "outlinewidth": 0,
              "ticks": ""
             }
            },
            "type": "parcoords"
           }
          ],
          "pie": [
           {
            "automargin": true,
            "type": "pie"
           }
          ],
          "scatter": [
           {
            "fillpattern": {
             "fillmode": "overlay",
             "size": 10,
             "solidity": 0.2
            },
            "type": "scatter"
           }
          ],
          "scatter3d": [
           {
            "line": {
             "colorbar": {
              "outlinewidth": 0,
              "ticks": ""
             }
            },
            "marker": {
             "colorbar": {
              "outlinewidth": 0,
              "ticks": ""
             }
            },
            "type": "scatter3d"
           }
          ],
          "scattercarpet": [
           {
            "marker": {
             "colorbar": {
              "outlinewidth": 0,
              "ticks": ""
             }
            },
            "type": "scattercarpet"
           }
          ],
          "scattergeo": [
           {
            "marker": {
             "colorbar": {
              "outlinewidth": 0,
              "ticks": ""
             }
            },
            "type": "scattergeo"
           }
          ],
          "scattergl": [
           {
            "marker": {
             "colorbar": {
              "outlinewidth": 0,
              "ticks": ""
             }
            },
            "type": "scattergl"
           }
          ],
          "scattermapbox": [
           {
            "marker": {
             "colorbar": {
              "outlinewidth": 0,
              "ticks": ""
             }
            },
            "type": "scattermapbox"
           }
          ],
          "scatterpolar": [
           {
            "marker": {
             "colorbar": {
              "outlinewidth": 0,
              "ticks": ""
             }
            },
            "type": "scatterpolar"
           }
          ],
          "scatterpolargl": [
           {
            "marker": {
             "colorbar": {
              "outlinewidth": 0,
              "ticks": ""
             }
            },
            "type": "scatterpolargl"
           }
          ],
          "scatterternary": [
           {
            "marker": {
             "colorbar": {
              "outlinewidth": 0,
              "ticks": ""
             }
            },
            "type": "scatterternary"
           }
          ],
          "surface": [
           {
            "colorbar": {
             "outlinewidth": 0,
             "ticks": ""
            },
            "colorscale": [
             [
              0,
              "#0d0887"
             ],
             [
              0.1111111111111111,
              "#46039f"
             ],
             [
              0.2222222222222222,
              "#7201a8"
             ],
             [
              0.3333333333333333,
              "#9c179e"
             ],
             [
              0.4444444444444444,
              "#bd3786"
             ],
             [
              0.5555555555555556,
              "#d8576b"
             ],
             [
              0.6666666666666666,
              "#ed7953"
             ],
             [
              0.7777777777777778,
              "#fb9f3a"
             ],
             [
              0.8888888888888888,
              "#fdca26"
             ],
             [
              1,
              "#f0f921"
             ]
            ],
            "type": "surface"
           }
          ],
          "table": [
           {
            "cells": {
             "fill": {
              "color": "#EBF0F8"
             },
             "line": {
              "color": "white"
             }
            },
            "header": {
             "fill": {
              "color": "#C8D4E3"
             },
             "line": {
              "color": "white"
             }
            },
            "type": "table"
           }
          ]
         },
         "layout": {
          "annotationdefaults": {
           "arrowcolor": "#2a3f5f",
           "arrowhead": 0,
           "arrowwidth": 1
          },
          "autotypenumbers": "strict",
          "coloraxis": {
           "colorbar": {
            "outlinewidth": 0,
            "ticks": ""
           }
          },
          "colorscale": {
           "diverging": [
            [
             0,
             "#8e0152"
            ],
            [
             0.1,
             "#c51b7d"
            ],
            [
             0.2,
             "#de77ae"
            ],
            [
             0.3,
             "#f1b6da"
            ],
            [
             0.4,
             "#fde0ef"
            ],
            [
             0.5,
             "#f7f7f7"
            ],
            [
             0.6,
             "#e6f5d0"
            ],
            [
             0.7,
             "#b8e186"
            ],
            [
             0.8,
             "#7fbc41"
            ],
            [
             0.9,
             "#4d9221"
            ],
            [
             1,
             "#276419"
            ]
           ],
           "sequential": [
            [
             0,
             "#0d0887"
            ],
            [
             0.1111111111111111,
             "#46039f"
            ],
            [
             0.2222222222222222,
             "#7201a8"
            ],
            [
             0.3333333333333333,
             "#9c179e"
            ],
            [
             0.4444444444444444,
             "#bd3786"
            ],
            [
             0.5555555555555556,
             "#d8576b"
            ],
            [
             0.6666666666666666,
             "#ed7953"
            ],
            [
             0.7777777777777778,
             "#fb9f3a"
            ],
            [
             0.8888888888888888,
             "#fdca26"
            ],
            [
             1,
             "#f0f921"
            ]
           ],
           "sequentialminus": [
            [
             0,
             "#0d0887"
            ],
            [
             0.1111111111111111,
             "#46039f"
            ],
            [
             0.2222222222222222,
             "#7201a8"
            ],
            [
             0.3333333333333333,
             "#9c179e"
            ],
            [
             0.4444444444444444,
             "#bd3786"
            ],
            [
             0.5555555555555556,
             "#d8576b"
            ],
            [
             0.6666666666666666,
             "#ed7953"
            ],
            [
             0.7777777777777778,
             "#fb9f3a"
            ],
            [
             0.8888888888888888,
             "#fdca26"
            ],
            [
             1,
             "#f0f921"
            ]
           ]
          },
          "colorway": [
           "#636efa",
           "#EF553B",
           "#00cc96",
           "#ab63fa",
           "#FFA15A",
           "#19d3f3",
           "#FF6692",
           "#B6E880",
           "#FF97FF",
           "#FECB52"
          ],
          "font": {
           "color": "#2a3f5f"
          },
          "geo": {
           "bgcolor": "white",
           "lakecolor": "white",
           "landcolor": "#E5ECF6",
           "showlakes": true,
           "showland": true,
           "subunitcolor": "white"
          },
          "hoverlabel": {
           "align": "left"
          },
          "hovermode": "closest",
          "mapbox": {
           "style": "light"
          },
          "paper_bgcolor": "white",
          "plot_bgcolor": "#E5ECF6",
          "polar": {
           "angularaxis": {
            "gridcolor": "white",
            "linecolor": "white",
            "ticks": ""
           },
           "bgcolor": "#E5ECF6",
           "radialaxis": {
            "gridcolor": "white",
            "linecolor": "white",
            "ticks": ""
           }
          },
          "scene": {
           "xaxis": {
            "backgroundcolor": "#E5ECF6",
            "gridcolor": "white",
            "gridwidth": 2,
            "linecolor": "white",
            "showbackground": true,
            "ticks": "",
            "zerolinecolor": "white"
           },
           "yaxis": {
            "backgroundcolor": "#E5ECF6",
            "gridcolor": "white",
            "gridwidth": 2,
            "linecolor": "white",
            "showbackground": true,
            "ticks": "",
            "zerolinecolor": "white"
           },
           "zaxis": {
            "backgroundcolor": "#E5ECF6",
            "gridcolor": "white",
            "gridwidth": 2,
            "linecolor": "white",
            "showbackground": true,
            "ticks": "",
            "zerolinecolor": "white"
           }
          },
          "shapedefaults": {
           "line": {
            "color": "#2a3f5f"
           }
          },
          "ternary": {
           "aaxis": {
            "gridcolor": "white",
            "linecolor": "white",
            "ticks": ""
           },
           "baxis": {
            "gridcolor": "white",
            "linecolor": "white",
            "ticks": ""
           },
           "bgcolor": "#E5ECF6",
           "caxis": {
            "gridcolor": "white",
            "linecolor": "white",
            "ticks": ""
           }
          },
          "title": {
           "x": 0.05
          },
          "xaxis": {
           "automargin": true,
           "gridcolor": "white",
           "linecolor": "white",
           "ticks": "",
           "title": {
            "standoff": 15
           },
           "zerolinecolor": "white",
           "zerolinewidth": 2
          },
          "yaxis": {
           "automargin": true,
           "gridcolor": "white",
           "linecolor": "white",
           "ticks": "",
           "title": {
            "standoff": 15
           },
           "zerolinecolor": "white",
           "zerolinewidth": 2
          }
         }
        },
        "title": {
         "text": "Comparación de los precios de casas con la cantidad de habitaciones en la misma"
        },
        "xaxis": {
         "anchor": "y",
         "domain": [
          0,
          1
         ],
         "title": {
          "text": "Proporción de unidades ocupadas por sus propietarios construidas antes de 1940"
         }
        },
        "yaxis": {
         "anchor": "x",
         "domain": [
          0,
          1
         ],
         "title": {
          "text": "Valor mediano de las casas en cientos de miles de dólares"
         }
        }
       }
      }
     },
     "metadata": {},
     "output_type": "display_data"
    }
   ],
   "source": [
    "fig = px.scatter(x=X_train_imputado_df['AGE'], y=y_train_df['MEDV'], \n",
    "                title='Comparación de los precios de casas con la cantidad de habitaciones en la misma'\n",
    "                , labels={'x':'Proporción de unidades ocupadas por sus propietarios construidas antes de 1940','y':'Valor mediano de las casas en cientos de miles de dólares'})\n",
    "fig.show()"
   ]
  },
  {
   "cell_type": "markdown",
   "metadata": {},
   "source": [
    "Se observa una relación negativa debil entre la proporción de unidades ocupadas por sus propietarios construidas antes de 1940 y valor mediano de las casas en cientos de miles de dólares"
   ]
  },
  {
   "cell_type": "code",
   "execution_count": 14,
   "metadata": {},
   "outputs": [
    {
     "data": {
      "application/vnd.plotly.v1+json": {
       "config": {
        "plotlyServerURL": "https://plot.ly"
       },
       "data": [
        {
         "hovertemplate": "Distancias ponderadas a cinco centros de empleo de Boston=%{x}<br>Valor mediano de las casas en cientos de miles de dólares=%{y}<extra></extra>",
         "legendgroup": "",
         "marker": {
          "color": "#636efa",
          "symbol": "circle"
         },
         "mode": "markers",
         "name": "",
         "orientation": "v",
         "showlegend": false,
         "type": "scatter",
         "x": [
          2.7986,
          2.505,
          1.2632106230190132,
          7.2255,
          2.0026,
          6.6115,
          2.7792,
          8.7921,
          4.0019,
          1.6582,
          2.5329,
          4.7211,
          2.4961,
          1.9142,
          6.6407,
          3.9986,
          1.77,
          2.7778,
          5.81628162246572,
          10.590040428036325,
          4.7794,
          6.27,
          3.0921,
          4.09,
          1.9047,
          4.0905,
          2.5403,
          3.7965,
          5.9604,
          6.498,
          1.6768,
          2.2577,
          6.498,
          6.27,
          9.1876,
          2.6403,
          1.3216,
          1.358,
          8.9067,
          2.2875,
          5.5027,
          1.8746,
          2.5182,
          8.3248,
          3.2721,
          5.4159,
          2.4259,
          3.9769,
          2.346,
          3.0665,
          3.7598,
          1.5916,
          10.5857,
          7.309,
          5.7321,
          2.2834,
          3.5549,
          2.7778,
          10.5857,
          5.4159,
          7.9549,
          1.9879,
          4.2515,
          10.7103,
          3.1992,
          3.7872,
          5.7209,
          5.73120758475725,
          5.2447,
          6.2669,
          6.4584,
          2.4786,
          2.1069,
          1.7523,
          3.8771,
          1.4261,
          7.9809,
          1.8662,
          2.7986,
          6.8147,
          1.8172,
          1.1781,
          2.4358,
          2.8927,
          2.3236,
          1.2024,
          4.233,
          1.967787424751465,
          5.4917,
          3.6023,
          5.2873,
          5.0141,
          2.4699,
          1.3567,
          4.0776,
          6.3361,
          3.4217,
          2.3999,
          1.7912,
          5.877938854839362,
          7.3172,
          6.0622,
          1.9865,
          3.2157,
          2.2222,
          2.1099,
          1.8125,
          2.7175,
          2.3053,
          1.9976,
          2.7019,
          7.3172,
          1.4165,
          11.109178921821504,
          6.2196,
          8.5353,
          10.34819529344318,
          1.5804,
          2.3158,
          1.794,
          3.4952,
          1.5257,
          2.3552,
          5.1004,
          2.9879,
          2.211,
          6.4798,
          1.7028,
          5.9505,
          2.0407,
          2.9084,
          2.9153,
          4.0952,
          6.4798,
          3.37,
          1.639,
          1.3325,
          2.4216,
          1.4896,
          2.5671,
          7.8265,
          5.9853,
          2.1398,
          2.8237,
          1.7364,
          8.0555,
          2.7831,
          5.243777164987254,
          1.7573,
          6.3467,
          3.3779,
          2.7301,
          4.0123,
          8.0136,
          3.3317,
          3.3633,
          3.6519,
          1.5895,
          12.1265,
          2.4298,
          1.5539,
          1.413,
          4.401141632005694,
          2.072,
          3.665,
          1.7883,
          2.2625,
          1.4254,
          3.9454,
          1.8957379667813807,
          5.7209,
          1.7494,
          3.8384,
          1.5184,
          7.0355,
          3.6982190215113375,
          3.6715,
          3.7965,
          3.724,
          2.3534,
          5.1167,
          1.6102,
          3.9175,
          2.1036,
          4.4272,
          7.8278,
          4.682,
          1.4608,
          2.1247,
          1.618,
          1.7455,
          1.8347,
          3.945,
          1.9512,
          2.5194,
          7.3197,
          1.4395,
          3.99,
          1.5741,
          2.8965,
          2.1678,
          2.206,
          2.7474,
          1.6334,
          7.8148,
          1.8206,
          7.3967,
          5.118,
          3.1827,
          1.8773,
          2.2955,
          4.3665,
          2.185,
          5.6894,
          5.6484,
          6.2196,
          4.4534,
          3.6526,
          3.4952,
          3.2157,
          2.3817,
          3.5887811832924386,
          1.8956,
          2.7592,
          1.6687,
          3.8473,
          3.3751,
          3.9175,
          2.741,
          4.1007,
          5.4007,
          1.9265,
          2.271,
          4.725895234990796,
          3.4211,
          1.7554,
          1.8946,
          6.5921,
          4.8122,
          2.9640766625636976,
          4.0317,
          1.9356,
          2.422,
          2.6463,
          5.2146,
          3.1323,
          2.1675,
          4.022,
          1.8498,
          5.16334850768584,
          2.872,
          4.4546,
          2.6775,
          1.137,
          3.875,
          5.5605,
          3.9454,
          1.801,
          2.9634,
          4.8628,
          1.5894,
          4.7075,
          7.309,
          1.3861,
          2.0063,
          3.4106,
          1.9301,
          1.4547,
          4.8122,
          2.5961,
          10.7103,
          1.7821,
          8.0136,
          1.5888,
          7.3073,
          3.1025,
          8.0555,
          2.8561,
          4.7211,
          7.0355,
          2.1007,
          3.1121,
          2.5052,
          1.5166,
          6.4584,
          2.829,
          5.2146,
          1.4655,
          2.0788,
          1.5331,
          6.8185,
          1.4394,
          5.2873,
          7.2254,
          6.0622,
          4.1403,
          2.2616,
          2.4982,
          2.4259,
          1.6132,
          2.8944,
          2.3682,
          1.5106,
          1.4118,
          1.4191,
          7.9549,
          1.5275,
          3.9454,
          6.8147,
          1.8026,
          4.175,
          5.112495332512739,
          4.4986,
          3.4952,
          4.4986,
          5.062472003475328,
          3.7886,
          1.7659,
          1.9047,
          2.5979,
          1.8681,
          3.9342,
          2.5975,
          5.4011,
          3.2797,
          3.0993,
          6.8147,
          4.0522,
          3.5459,
          5.4917,
          7.8278,
          1.1742,
          3.5875,
          5.4011,
          2.7006,
          4.658411026746792,
          3.5325,
          2.0107,
          7.3967,
          2.162,
          2.0882,
          4.6947,
          7.3172,
          4.9671,
          6.3361,
          2.9012478987981227,
          2.4775,
          4.0983,
          4.148,
          5.5027,
          3.615,
          5.2873,
          9.0892,
          1.9784,
          2.7344,
          1.8589,
          4.3549,
          1.9096,
          7.0379,
          2.4527,
          5.118,
          5.1167,
          5.9604,
          4.2673,
          3.3603,
          1.9709,
          3.6519,
          1.5004,
          9.2203,
          4.4377,
          2.1705,
          2.3887,
          1.6475,
          4.3996,
          4.5404,
          4.9671,
          6.8147,
          6.4798,
          4.3549,
          2.1185,
          1.6232,
          1.9444,
          6.348893730493283,
          7.636341980878592,
          1.3449,
          2.198,
          6.3361,
          4.4547,
          5.615,
          9.2203,
          7.309,
          1.6686,
          2.0048,
          6.0622,
          1.8209,
          4.5667,
          5.4509,
          5.4007,
          6.0821,
          6.4654,
          1.9682,
          3.9917,
          1.9929,
          2.0459,
          2.8715,
          1.3163,
          3.7979,
          4.4619,
          7.6534,
          2.5806,
          5.4007,
          3.3751,
          2.3274,
          7.3073,
          6.0877,
          3.1523,
          3.0923,
          2.4631,
          1.3459,
          5.2873,
          1.3861,
          8.6966,
          3.4145,
          2.0635,
          1.1691,
          2.0527,
          6.6115,
          5.4007
         ],
         "xaxis": "x",
         "y": [
          23.1,
          11.9,
          28.81242565447334,
          22.2,
          9.6,
          23.5,
          13.5,
          22.9,
          21,
          7,
          29.8,
          18.5,
          14.9,
          8.7,
          17.1,
          17.8,
          9.7,
          27.5,
          24.241711821460942,
          12.937564100385178,
          23.9,
          24.1,
          22,
          24,
          21.9,
          20.8,
          19.1,
          18.2,
          28.6,
          22,
          12.5,
          22,
          17.4,
          42.3,
          24.7,
          22.1,
          13.4,
          13.3,
          29.6,
          20.6,
          21.7,
          14.2,
          25,
          31.6,
          30.1,
          22.2,
          17.4,
          15.2,
          15.6,
          19.9,
          13.5,
          19.6,
          18.2,
          30.3,
          23.9,
          25,
          23.2,
          21.7,
          20.6,
          24.6,
          18.5,
          11.8,
          24.1,
          24.1,
          50,
          13.1,
          26.6,
          28.130115464822925,
          35.4,
          16.5,
          20.7,
          22.4,
          19.5,
          21.9,
          21.7,
          7.2,
          25,
          10.5,
          19.7,
          19.7,
          12.8,
          11.9,
          14.1,
          18.3,
          13.4,
          50,
          12.7,
          40.69470689014413,
          33.1,
          23.8,
          24.2,
          21.2,
          18.4,
          50,
          32.4,
          44,
          23.6,
          17.5,
          13.8,
          28.056450294333057,
          22.3,
          36.2,
          22.8,
          37.6,
          11.7,
          20.1,
          18,
          20,
          16.7,
          10.2,
          22.6,
          23.2,
          10.4,
          17.97579721746869,
          31.1,
          23.1,
          14.442315923562028,
          11.3,
          14.3,
          8.4,
          38.7,
          15.4,
          15.2,
          20,
          26.4,
          19.5,
          37,
          8.3,
          27.1,
          50,
          19.1,
          29.9,
          14.5,
          30.5,
          28.4,
          12.1,
          50,
          50,
          5,
          17.7,
          26.2,
          21.1,
          43.1,
          20.1,
          13.1,
          20.5,
          14.9,
          23.02879834519782,
          24.3,
          15,
          20,
          21.2,
          19.6,
          17.2,
          23.7,
          23,
          24,
          10.2,
          30.1,
          13.8,
          17.9,
          15,
          38.51670864300254,
          14.9,
          19.3,
          16.2,
          22.3,
          5,
          22.6,
          45.28275578218157,
          24.7,
          17,
          41.7,
          7.4,
          23.7,
          38.71552226953535,
          24.3,
          20.2,
          20.6,
          18.8,
          28.5,
          15.3,
          20.7,
          20.8,
          22.5,
          22.5,
          16.6,
          14.6,
          13.4,
          21.5,
          15.6,
          7.2,
          16.2,
          21.4,
          16.1,
          18.9,
          8.8,
          13.2,
          7.2,
          23.2,
          23.2,
          13.3,
          19.2,
          8.5,
          23.3,
          8.4,
          24.4,
          48.5,
          28.2,
          41.3,
          19.9,
          35.2,
          13,
          16.6,
          50,
          29.1,
          14.8,
          22.4,
          21.4,
          31.6,
          24.5,
          11.067792925892464,
          10.8,
          19.3,
          17.8,
          24.7,
          46.7,
          24.4,
          39.8,
          35.1,
          22.9,
          15.1,
          19.6,
          15.286347113088093,
          28.7,
          7,
          36,
          18.9,
          18.7,
          15.58274250544301,
          19.8,
          11,
          22.7,
          23.6,
          19.3,
          29.4,
          23.9,
          36.1,
          17.1,
          35.86500214314095,
          43.5,
          13.9,
          22.8,
          13.8,
          20,
          22.9,
          25,
          50,
          21.4,
          33.1,
          16.3,
          20.4,
          34.6,
          10.2,
          18.8,
          25,
          36.5,
          17.2,
          20.6,
          23.1,
          18.6,
          12.7,
          17.5,
          5.6,
          22,
          20.3,
          24.3,
          26.5,
          25,
          22.2,
          12,
          23.3,
          21.7,
          15.6,
          22.2,
          37.2,
          22.6,
          27.5,
          31,
          12.3,
          16,
          14.4,
          21.7,
          18.7,
          33.4,
          29.1,
          14.1,
          16.8,
          23.8,
          27.5,
          44.8,
          16.1,
          23.1,
          15.6,
          13.8,
          17.6,
          17.2,
          28.1,
          25,
          8.8,
          14.5,
          12.301630479747343,
          19.9,
          43.8,
          23.1,
          23.675363070419724,
          32,
          23.3,
          16.8,
          36.2,
          13.6,
          21,
          16.4,
          34.9,
          29.6,
          19.6,
          23.4,
          20,
          19.1,
          26.4,
          29,
          13.8,
          23.7,
          30.8,
          37.9,
          9.86668870434636,
          23.1,
          30.1,
          24.8,
          50,
          14.1,
          45.4,
          24.8,
          34.7,
          20.1,
          48.854538797587175,
          20.4,
          21.8,
          31.5,
          23.9,
          20.6,
          23.4,
          20.1,
          15.4,
          19.5,
          16.7,
          22.5,
          8.3,
          32.7,
          17.8,
          50,
          37.3,
          27.1,
          32,
          18.9,
          50,
          48.3,
          6.3,
          20.9,
          26.6,
          14.6,
          19.1,
          10.4,
          15.6,
          23.1,
          21.6,
          20.5,
          36.4,
          24.4,
          19.2,
          19.4,
          17.3,
          46.19176116009245,
          17.01764423324376,
          13.9,
          12.6,
          22,
          18.4,
          18.5,
          21.9,
          33.3,
          13.3,
          18.4,
          28.7,
          15.2,
          34.9,
          21.7,
          24.8,
          16.5,
          31.2,
          9.5,
          21.2,
          21.4,
          50,
          19,
          15,
          13.6,
          18.2,
          34.9,
          12.7,
          23.9,
          31.5,
          23,
          32.2,
          19.4,
          20.6,
          22.6,
          18.3,
          11.8,
          22.8,
          13.1,
          35.4,
          28.7,
          11.7,
          50,
          14.5,
          19.4,
          28
         ],
         "yaxis": "y"
        }
       ],
       "layout": {
        "legend": {
         "tracegroupgap": 0
        },
        "template": {
         "data": {
          "bar": [
           {
            "error_x": {
             "color": "#2a3f5f"
            },
            "error_y": {
             "color": "#2a3f5f"
            },
            "marker": {
             "line": {
              "color": "#E5ECF6",
              "width": 0.5
             },
             "pattern": {
              "fillmode": "overlay",
              "size": 10,
              "solidity": 0.2
             }
            },
            "type": "bar"
           }
          ],
          "barpolar": [
           {
            "marker": {
             "line": {
              "color": "#E5ECF6",
              "width": 0.5
             },
             "pattern": {
              "fillmode": "overlay",
              "size": 10,
              "solidity": 0.2
             }
            },
            "type": "barpolar"
           }
          ],
          "carpet": [
           {
            "aaxis": {
             "endlinecolor": "#2a3f5f",
             "gridcolor": "white",
             "linecolor": "white",
             "minorgridcolor": "white",
             "startlinecolor": "#2a3f5f"
            },
            "baxis": {
             "endlinecolor": "#2a3f5f",
             "gridcolor": "white",
             "linecolor": "white",
             "minorgridcolor": "white",
             "startlinecolor": "#2a3f5f"
            },
            "type": "carpet"
           }
          ],
          "choropleth": [
           {
            "colorbar": {
             "outlinewidth": 0,
             "ticks": ""
            },
            "type": "choropleth"
           }
          ],
          "contour": [
           {
            "colorbar": {
             "outlinewidth": 0,
             "ticks": ""
            },
            "colorscale": [
             [
              0,
              "#0d0887"
             ],
             [
              0.1111111111111111,
              "#46039f"
             ],
             [
              0.2222222222222222,
              "#7201a8"
             ],
             [
              0.3333333333333333,
              "#9c179e"
             ],
             [
              0.4444444444444444,
              "#bd3786"
             ],
             [
              0.5555555555555556,
              "#d8576b"
             ],
             [
              0.6666666666666666,
              "#ed7953"
             ],
             [
              0.7777777777777778,
              "#fb9f3a"
             ],
             [
              0.8888888888888888,
              "#fdca26"
             ],
             [
              1,
              "#f0f921"
             ]
            ],
            "type": "contour"
           }
          ],
          "contourcarpet": [
           {
            "colorbar": {
             "outlinewidth": 0,
             "ticks": ""
            },
            "type": "contourcarpet"
           }
          ],
          "heatmap": [
           {
            "colorbar": {
             "outlinewidth": 0,
             "ticks": ""
            },
            "colorscale": [
             [
              0,
              "#0d0887"
             ],
             [
              0.1111111111111111,
              "#46039f"
             ],
             [
              0.2222222222222222,
              "#7201a8"
             ],
             [
              0.3333333333333333,
              "#9c179e"
             ],
             [
              0.4444444444444444,
              "#bd3786"
             ],
             [
              0.5555555555555556,
              "#d8576b"
             ],
             [
              0.6666666666666666,
              "#ed7953"
             ],
             [
              0.7777777777777778,
              "#fb9f3a"
             ],
             [
              0.8888888888888888,
              "#fdca26"
             ],
             [
              1,
              "#f0f921"
             ]
            ],
            "type": "heatmap"
           }
          ],
          "heatmapgl": [
           {
            "colorbar": {
             "outlinewidth": 0,
             "ticks": ""
            },
            "colorscale": [
             [
              0,
              "#0d0887"
             ],
             [
              0.1111111111111111,
              "#46039f"
             ],
             [
              0.2222222222222222,
              "#7201a8"
             ],
             [
              0.3333333333333333,
              "#9c179e"
             ],
             [
              0.4444444444444444,
              "#bd3786"
             ],
             [
              0.5555555555555556,
              "#d8576b"
             ],
             [
              0.6666666666666666,
              "#ed7953"
             ],
             [
              0.7777777777777778,
              "#fb9f3a"
             ],
             [
              0.8888888888888888,
              "#fdca26"
             ],
             [
              1,
              "#f0f921"
             ]
            ],
            "type": "heatmapgl"
           }
          ],
          "histogram": [
           {
            "marker": {
             "pattern": {
              "fillmode": "overlay",
              "size": 10,
              "solidity": 0.2
             }
            },
            "type": "histogram"
           }
          ],
          "histogram2d": [
           {
            "colorbar": {
             "outlinewidth": 0,
             "ticks": ""
            },
            "colorscale": [
             [
              0,
              "#0d0887"
             ],
             [
              0.1111111111111111,
              "#46039f"
             ],
             [
              0.2222222222222222,
              "#7201a8"
             ],
             [
              0.3333333333333333,
              "#9c179e"
             ],
             [
              0.4444444444444444,
              "#bd3786"
             ],
             [
              0.5555555555555556,
              "#d8576b"
             ],
             [
              0.6666666666666666,
              "#ed7953"
             ],
             [
              0.7777777777777778,
              "#fb9f3a"
             ],
             [
              0.8888888888888888,
              "#fdca26"
             ],
             [
              1,
              "#f0f921"
             ]
            ],
            "type": "histogram2d"
           }
          ],
          "histogram2dcontour": [
           {
            "colorbar": {
             "outlinewidth": 0,
             "ticks": ""
            },
            "colorscale": [
             [
              0,
              "#0d0887"
             ],
             [
              0.1111111111111111,
              "#46039f"
             ],
             [
              0.2222222222222222,
              "#7201a8"
             ],
             [
              0.3333333333333333,
              "#9c179e"
             ],
             [
              0.4444444444444444,
              "#bd3786"
             ],
             [
              0.5555555555555556,
              "#d8576b"
             ],
             [
              0.6666666666666666,
              "#ed7953"
             ],
             [
              0.7777777777777778,
              "#fb9f3a"
             ],
             [
              0.8888888888888888,
              "#fdca26"
             ],
             [
              1,
              "#f0f921"
             ]
            ],
            "type": "histogram2dcontour"
           }
          ],
          "mesh3d": [
           {
            "colorbar": {
             "outlinewidth": 0,
             "ticks": ""
            },
            "type": "mesh3d"
           }
          ],
          "parcoords": [
           {
            "line": {
             "colorbar": {
              "outlinewidth": 0,
              "ticks": ""
             }
            },
            "type": "parcoords"
           }
          ],
          "pie": [
           {
            "automargin": true,
            "type": "pie"
           }
          ],
          "scatter": [
           {
            "fillpattern": {
             "fillmode": "overlay",
             "size": 10,
             "solidity": 0.2
            },
            "type": "scatter"
           }
          ],
          "scatter3d": [
           {
            "line": {
             "colorbar": {
              "outlinewidth": 0,
              "ticks": ""
             }
            },
            "marker": {
             "colorbar": {
              "outlinewidth": 0,
              "ticks": ""
             }
            },
            "type": "scatter3d"
           }
          ],
          "scattercarpet": [
           {
            "marker": {
             "colorbar": {
              "outlinewidth": 0,
              "ticks": ""
             }
            },
            "type": "scattercarpet"
           }
          ],
          "scattergeo": [
           {
            "marker": {
             "colorbar": {
              "outlinewidth": 0,
              "ticks": ""
             }
            },
            "type": "scattergeo"
           }
          ],
          "scattergl": [
           {
            "marker": {
             "colorbar": {
              "outlinewidth": 0,
              "ticks": ""
             }
            },
            "type": "scattergl"
           }
          ],
          "scattermapbox": [
           {
            "marker": {
             "colorbar": {
              "outlinewidth": 0,
              "ticks": ""
             }
            },
            "type": "scattermapbox"
           }
          ],
          "scatterpolar": [
           {
            "marker": {
             "colorbar": {
              "outlinewidth": 0,
              "ticks": ""
             }
            },
            "type": "scatterpolar"
           }
          ],
          "scatterpolargl": [
           {
            "marker": {
             "colorbar": {
              "outlinewidth": 0,
              "ticks": ""
             }
            },
            "type": "scatterpolargl"
           }
          ],
          "scatterternary": [
           {
            "marker": {
             "colorbar": {
              "outlinewidth": 0,
              "ticks": ""
             }
            },
            "type": "scatterternary"
           }
          ],
          "surface": [
           {
            "colorbar": {
             "outlinewidth": 0,
             "ticks": ""
            },
            "colorscale": [
             [
              0,
              "#0d0887"
             ],
             [
              0.1111111111111111,
              "#46039f"
             ],
             [
              0.2222222222222222,
              "#7201a8"
             ],
             [
              0.3333333333333333,
              "#9c179e"
             ],
             [
              0.4444444444444444,
              "#bd3786"
             ],
             [
              0.5555555555555556,
              "#d8576b"
             ],
             [
              0.6666666666666666,
              "#ed7953"
             ],
             [
              0.7777777777777778,
              "#fb9f3a"
             ],
             [
              0.8888888888888888,
              "#fdca26"
             ],
             [
              1,
              "#f0f921"
             ]
            ],
            "type": "surface"
           }
          ],
          "table": [
           {
            "cells": {
             "fill": {
              "color": "#EBF0F8"
             },
             "line": {
              "color": "white"
             }
            },
            "header": {
             "fill": {
              "color": "#C8D4E3"
             },
             "line": {
              "color": "white"
             }
            },
            "type": "table"
           }
          ]
         },
         "layout": {
          "annotationdefaults": {
           "arrowcolor": "#2a3f5f",
           "arrowhead": 0,
           "arrowwidth": 1
          },
          "autotypenumbers": "strict",
          "coloraxis": {
           "colorbar": {
            "outlinewidth": 0,
            "ticks": ""
           }
          },
          "colorscale": {
           "diverging": [
            [
             0,
             "#8e0152"
            ],
            [
             0.1,
             "#c51b7d"
            ],
            [
             0.2,
             "#de77ae"
            ],
            [
             0.3,
             "#f1b6da"
            ],
            [
             0.4,
             "#fde0ef"
            ],
            [
             0.5,
             "#f7f7f7"
            ],
            [
             0.6,
             "#e6f5d0"
            ],
            [
             0.7,
             "#b8e186"
            ],
            [
             0.8,
             "#7fbc41"
            ],
            [
             0.9,
             "#4d9221"
            ],
            [
             1,
             "#276419"
            ]
           ],
           "sequential": [
            [
             0,
             "#0d0887"
            ],
            [
             0.1111111111111111,
             "#46039f"
            ],
            [
             0.2222222222222222,
             "#7201a8"
            ],
            [
             0.3333333333333333,
             "#9c179e"
            ],
            [
             0.4444444444444444,
             "#bd3786"
            ],
            [
             0.5555555555555556,
             "#d8576b"
            ],
            [
             0.6666666666666666,
             "#ed7953"
            ],
            [
             0.7777777777777778,
             "#fb9f3a"
            ],
            [
             0.8888888888888888,
             "#fdca26"
            ],
            [
             1,
             "#f0f921"
            ]
           ],
           "sequentialminus": [
            [
             0,
             "#0d0887"
            ],
            [
             0.1111111111111111,
             "#46039f"
            ],
            [
             0.2222222222222222,
             "#7201a8"
            ],
            [
             0.3333333333333333,
             "#9c179e"
            ],
            [
             0.4444444444444444,
             "#bd3786"
            ],
            [
             0.5555555555555556,
             "#d8576b"
            ],
            [
             0.6666666666666666,
             "#ed7953"
            ],
            [
             0.7777777777777778,
             "#fb9f3a"
            ],
            [
             0.8888888888888888,
             "#fdca26"
            ],
            [
             1,
             "#f0f921"
            ]
           ]
          },
          "colorway": [
           "#636efa",
           "#EF553B",
           "#00cc96",
           "#ab63fa",
           "#FFA15A",
           "#19d3f3",
           "#FF6692",
           "#B6E880",
           "#FF97FF",
           "#FECB52"
          ],
          "font": {
           "color": "#2a3f5f"
          },
          "geo": {
           "bgcolor": "white",
           "lakecolor": "white",
           "landcolor": "#E5ECF6",
           "showlakes": true,
           "showland": true,
           "subunitcolor": "white"
          },
          "hoverlabel": {
           "align": "left"
          },
          "hovermode": "closest",
          "mapbox": {
           "style": "light"
          },
          "paper_bgcolor": "white",
          "plot_bgcolor": "#E5ECF6",
          "polar": {
           "angularaxis": {
            "gridcolor": "white",
            "linecolor": "white",
            "ticks": ""
           },
           "bgcolor": "#E5ECF6",
           "radialaxis": {
            "gridcolor": "white",
            "linecolor": "white",
            "ticks": ""
           }
          },
          "scene": {
           "xaxis": {
            "backgroundcolor": "#E5ECF6",
            "gridcolor": "white",
            "gridwidth": 2,
            "linecolor": "white",
            "showbackground": true,
            "ticks": "",
            "zerolinecolor": "white"
           },
           "yaxis": {
            "backgroundcolor": "#E5ECF6",
            "gridcolor": "white",
            "gridwidth": 2,
            "linecolor": "white",
            "showbackground": true,
            "ticks": "",
            "zerolinecolor": "white"
           },
           "zaxis": {
            "backgroundcolor": "#E5ECF6",
            "gridcolor": "white",
            "gridwidth": 2,
            "linecolor": "white",
            "showbackground": true,
            "ticks": "",
            "zerolinecolor": "white"
           }
          },
          "shapedefaults": {
           "line": {
            "color": "#2a3f5f"
           }
          },
          "ternary": {
           "aaxis": {
            "gridcolor": "white",
            "linecolor": "white",
            "ticks": ""
           },
           "baxis": {
            "gridcolor": "white",
            "linecolor": "white",
            "ticks": ""
           },
           "bgcolor": "#E5ECF6",
           "caxis": {
            "gridcolor": "white",
            "linecolor": "white",
            "ticks": ""
           }
          },
          "title": {
           "x": 0.05
          },
          "xaxis": {
           "automargin": true,
           "gridcolor": "white",
           "linecolor": "white",
           "ticks": "",
           "title": {
            "standoff": 15
           },
           "zerolinecolor": "white",
           "zerolinewidth": 2
          },
          "yaxis": {
           "automargin": true,
           "gridcolor": "white",
           "linecolor": "white",
           "ticks": "",
           "title": {
            "standoff": 15
           },
           "zerolinecolor": "white",
           "zerolinewidth": 2
          }
         }
        },
        "title": {
         "text": "Comparación de los precios de casas con la cantidad de habitaciones en la misma"
        },
        "xaxis": {
         "anchor": "y",
         "domain": [
          0,
          1
         ],
         "title": {
          "text": "Distancias ponderadas a cinco centros de empleo de Boston"
         }
        },
        "yaxis": {
         "anchor": "x",
         "domain": [
          0,
          1
         ],
         "title": {
          "text": "Valor mediano de las casas en cientos de miles de dólares"
         }
        }
       }
      }
     },
     "metadata": {},
     "output_type": "display_data"
    }
   ],
   "source": [
    "fig = px.scatter(x=X_train_imputado_df['DIS'], y=y_train_df['MEDV'], \n",
    "                title='Comparación de los precios de casas con la cantidad de habitaciones en la misma'\n",
    "                , labels={'x':'Distancias ponderadas a cinco centros de empleo de Boston',\n",
    "                            'y':'Valor mediano de las casas en cientos de miles de dólares'})\n",
    "fig.show()"
   ]
  },
  {
   "cell_type": "markdown",
   "metadata": {},
   "source": [
    "Se observa que no hay una relación entre las distancias ponderadas a cinco centros de empleo de Boston y el valor mediano de las casas en cientos de miles de dólares"
   ]
  },
  {
   "cell_type": "code",
   "execution_count": 22,
   "metadata": {},
   "outputs": [
    {
     "data": {
      "image/png": "[encoded data removed]",
      "text/plain": [
       "<Figure size 1000x1000 with 2 Axes>"
      ]
     },
     "metadata": {},
     "output_type": "display_data"
    }
   ],
   "source": [
    "corrmat = dataset_completo.corr()\n",
    "fig, ax = plt.subplots(figsize=(10,10))\n",
    "sns.heatmap(corrmat, vmax=1,vmin=-1, annot=True, linewidths=.5, ax=ax, cmap='vlag')\n",
    "plt.show()"
   ]
  },
  {
   "cell_type": "code",
   "execution_count": 23,
   "metadata": {},
   "outputs": [
    {
     "data": {
      "text/html": [
       "<div>\n",
       "<style scoped>\n",
       "    .dataframe tbody tr th:only-of-type {\n",
       "        vertical-align: middle;\n",
       "    }\n",
       "\n",
       "    .dataframe tbody tr th {\n",
       "        vertical-align: top;\n",
       "    }\n",
       "\n",
       "    .dataframe thead th {\n",
       "        text-align: right;\n",
       "    }\n",
       "</style>\n",
       "<table border=\"1\" class=\"dataframe\">\n",
       "  <thead>\n",
       "    <tr style=\"text-align: right;\">\n",
       "      <th></th>\n",
       "      <th>CRIM</th>\n",
       "      <th>ZN</th>\n",
       "      <th>INDUS</th>\n",
       "      <th>NOX</th>\n",
       "      <th>RM</th>\n",
       "      <th>AGE</th>\n",
       "      <th>DIS</th>\n",
       "      <th>RAD</th>\n",
       "      <th>TAX</th>\n",
       "      <th>PTRATIO</th>\n",
       "      <th>B</th>\n",
       "      <th>LSTAT</th>\n",
       "    </tr>\n",
       "  </thead>\n",
       "  <tbody>\n",
       "    <tr>\n",
       "      <th>count</th>\n",
       "      <td>428.000000</td>\n",
       "      <td>428.000000</td>\n",
       "      <td>428.000000</td>\n",
       "      <td>428.00000</td>\n",
       "      <td>428.00000</td>\n",
       "      <td>428.000000</td>\n",
       "      <td>428.000000</td>\n",
       "      <td>428.000000</td>\n",
       "      <td>428.000000</td>\n",
       "      <td>428.000000</td>\n",
       "      <td>428.000000</td>\n",
       "      <td>428.000000</td>\n",
       "    </tr>\n",
       "    <tr>\n",
       "      <th>mean</th>\n",
       "      <td>5.639802</td>\n",
       "      <td>13.028547</td>\n",
       "      <td>11.341130</td>\n",
       "      <td>0.56160</td>\n",
       "      <td>6.27215</td>\n",
       "      <td>67.555942</td>\n",
       "      <td>3.882125</td>\n",
       "      <td>9.918224</td>\n",
       "      <td>416.567973</td>\n",
       "      <td>18.388511</td>\n",
       "      <td>346.942311</td>\n",
       "      <td>13.191342</td>\n",
       "    </tr>\n",
       "    <tr>\n",
       "      <th>std</th>\n",
       "      <td>12.713799</td>\n",
       "      <td>24.701353</td>\n",
       "      <td>6.919483</td>\n",
       "      <td>0.11941</td>\n",
       "      <td>0.75806</td>\n",
       "      <td>28.746072</td>\n",
       "      <td>2.196260</td>\n",
       "      <td>8.774316</td>\n",
       "      <td>168.882083</td>\n",
       "      <td>2.224801</td>\n",
       "      <td>99.656005</td>\n",
       "      <td>7.588772</td>\n",
       "    </tr>\n",
       "    <tr>\n",
       "      <th>min</th>\n",
       "      <td>0.006320</td>\n",
       "      <td>0.000000</td>\n",
       "      <td>0.460000</td>\n",
       "      <td>0.38500</td>\n",
       "      <td>3.56100</td>\n",
       "      <td>2.900000</td>\n",
       "      <td>1.137000</td>\n",
       "      <td>1.000000</td>\n",
       "      <td>187.000000</td>\n",
       "      <td>12.600000</td>\n",
       "      <td>0.320000</td>\n",
       "      <td>1.730000</td>\n",
       "    </tr>\n",
       "    <tr>\n",
       "      <th>25%</th>\n",
       "      <td>0.082155</td>\n",
       "      <td>0.000000</td>\n",
       "      <td>5.130000</td>\n",
       "      <td>0.45300</td>\n",
       "      <td>5.86575</td>\n",
       "      <td>41.884933</td>\n",
       "      <td>2.077100</td>\n",
       "      <td>4.000000</td>\n",
       "      <td>283.250000</td>\n",
       "      <td>16.800000</td>\n",
       "      <td>367.717500</td>\n",
       "      <td>7.187500</td>\n",
       "    </tr>\n",
       "    <tr>\n",
       "      <th>50%</th>\n",
       "      <td>0.339945</td>\n",
       "      <td>0.000000</td>\n",
       "      <td>9.900000</td>\n",
       "      <td>0.53800</td>\n",
       "      <td>6.19300</td>\n",
       "      <td>74.350000</td>\n",
       "      <td>3.361800</td>\n",
       "      <td>5.000000</td>\n",
       "      <td>349.500000</td>\n",
       "      <td>19.000000</td>\n",
       "      <td>390.925000</td>\n",
       "      <td>12.080000</td>\n",
       "    </tr>\n",
       "    <tr>\n",
       "      <th>75%</th>\n",
       "      <td>5.476122</td>\n",
       "      <td>20.000000</td>\n",
       "      <td>18.100000</td>\n",
       "      <td>0.64700</td>\n",
       "      <td>6.64375</td>\n",
       "      <td>94.425000</td>\n",
       "      <td>5.287300</td>\n",
       "      <td>24.000000</td>\n",
       "      <td>666.000000</td>\n",
       "      <td>20.200000</td>\n",
       "      <td>395.640000</td>\n",
       "      <td>17.572803</td>\n",
       "    </tr>\n",
       "    <tr>\n",
       "      <th>max</th>\n",
       "      <td>88.976200</td>\n",
       "      <td>100.000000</td>\n",
       "      <td>27.740000</td>\n",
       "      <td>0.87100</td>\n",
       "      <td>8.78000</td>\n",
       "      <td>100.000000</td>\n",
       "      <td>12.126500</td>\n",
       "      <td>24.000000</td>\n",
       "      <td>711.000000</td>\n",
       "      <td>22.000000</td>\n",
       "      <td>396.900000</td>\n",
       "      <td>37.970000</td>\n",
       "    </tr>\n",
       "  </tbody>\n",
       "</table>\n",
       "</div>"
      ],
      "text/plain": [
       "             CRIM          ZN       INDUS        NOX         RM         AGE  \\\n",
       "count  428.000000  428.000000  428.000000  428.00000  428.00000  428.000000   \n",
       "mean     5.639802   13.028547   11.341130    0.56160    6.27215   67.555942   \n",
       "std     12.713799   24.701353    6.919483    0.11941    0.75806   28.746072   \n",
       "min      0.006320    0.000000    0.460000    0.38500    3.56100    2.900000   \n",
       "25%      0.082155    0.000000    5.130000    0.45300    5.86575   41.884933   \n",
       "50%      0.339945    0.000000    9.900000    0.53800    6.19300   74.350000   \n",
       "75%      5.476122   20.000000   18.100000    0.64700    6.64375   94.425000   \n",
       "max     88.976200  100.000000   27.740000    0.87100    8.78000  100.000000   \n",
       "\n",
       "              DIS         RAD         TAX     PTRATIO           B       LSTAT  \n",
       "count  428.000000  428.000000  428.000000  428.000000  428.000000  428.000000  \n",
       "mean     3.882125    9.918224  416.567973   18.388511  346.942311   13.191342  \n",
       "std      2.196260    8.774316  168.882083    2.224801   99.656005    7.588772  \n",
       "min      1.137000    1.000000  187.000000   12.600000    0.320000    1.730000  \n",
       "25%      2.077100    4.000000  283.250000   16.800000  367.717500    7.187500  \n",
       "50%      3.361800    5.000000  349.500000   19.000000  390.925000   12.080000  \n",
       "75%      5.287300   24.000000  666.000000   20.200000  395.640000   17.572803  \n",
       "max     12.126500   24.000000  711.000000   22.000000  396.900000   37.970000  "
      ]
     },
     "execution_count": 23,
     "metadata": {},
     "output_type": "execute_result"
    }
   ],
   "source": [
    "X_train_imputado_df.describe()"
   ]
  },
  {
   "cell_type": "markdown",
   "metadata": {},
   "source": [
    "Se puede observar que el rango de valores de cada variable es muy diferentes, entonces es necesario un escalado de los datos"
   ]
  },
  {
   "cell_type": "code",
   "execution_count": 24,
   "metadata": {},
   "outputs": [
    {
     "data": {
      "text/plain": [
       "<Axes: >"
      ]
     },
     "execution_count": 24,
     "metadata": {},
     "output_type": "execute_result"
    },
    {
     "data": {
      "image/png": "[encoded data removed]",
      "text/plain": [
       "<Figure size 640x480 with 1 Axes>"
      ]
     },
     "metadata": {},
     "output_type": "display_data"
    }
   ],
   "source": [
    "sns.boxplot(X_train_imputado_df)"
   ]
  },
  {
   "cell_type": "markdown",
   "metadata": {},
   "source": [
    "El boxplot reafirma que es necesario un escalado de los datos"
   ]
  },
  {
   "cell_type": "markdown",
   "metadata": {},
   "source": [
    "## 4. Implementar la solución del problema de regresión con regresión lineal múltiple."
   ]
  },
  {
   "cell_type": "markdown",
   "metadata": {},
   "source": [
    "### Linear Regression"
   ]
  },
  {
   "cell_type": "code",
   "execution_count": 26,
   "metadata": {},
   "outputs": [
    {
     "name": "stdout",
     "output_type": "stream",
     "text": [
      "El error (RMSE) de entrenamiento es: 5.496674853290357 y el error (RMSE) de test es: 7.262538408265998\n"
     ]
    }
   ],
   "source": [
    "modelo_lr_escalado = make_pipeline(MinMaxScaler(),LinearRegression())\n",
    "modelo_lr_escalado.fit(X_train_imputado_df,y_train_df)\n",
    "y_pred_lr_test = modelo_lr_escalado.predict(x_test_imputado)\n",
    "y_pred_lr_entrenamiento = modelo_lr_escalado.predict(X_train_imputado_df)\n",
    "\n",
    "rmse_lr_test = mean_squared_error(y_test, y_pred_lr_test, squared = False)\n",
    "rmse_lr_entrenamiento = mean_squared_error(y_train, y_pred_lr_entrenamiento, squared = False)\n",
    "print(f\"El error (RMSE) de entrenamiento es: {rmse_lr_entrenamiento} y el error (RMSE) de test es: {rmse_lr_test}\")"
   ]
  },
  {
   "cell_type": "code",
   "execution_count": 24,
   "metadata": {},
   "outputs": [
    {
     "name": "stdout",
     "output_type": "stream",
     "text": [
      "el R2 de entrenamiento es: 0.6696724813400821 y el R2 de test es: 0.36583678513620155\n"
     ]
    }
   ],
   "source": [
    "R2_lr_test = metrics.r2_score(y_test, y_pred_lr_test)\n",
    "R2_lr_entrenamiento = metrics.r2_score(y_train, y_pred_lr_entrenamiento)\n",
    "print(f\"el R2 de entrenamiento es: {R2_lr_entrenamiento} y el R2 de test es: {R2_lr_test}\")"
   ]
  },
  {
   "cell_type": "code",
   "execution_count": 27,
   "metadata": {},
   "outputs": [
    {
     "data": {
      "image/png": "[encoded data removed]",
      "text/plain": [
       "<Figure size 1000x500 with 1 Axes>"
      ]
     },
     "metadata": {},
     "output_type": "display_data"
    }
   ],
   "source": [
    "fig = plt.figure(figsize=(10,5))\n",
    "\n",
    "sns.histplot((y_test - y_pred_lr_test), color=\"red\", kde=True, stat=\"density\", linewidth=0,bins=20)\n",
    "fig.suptitle('Análisis de Residuos', fontsize = 20)\n",
    "plt.show()"
   ]
  },
  {
   "cell_type": "code",
   "execution_count": 28,
   "metadata": {},
   "outputs": [
    {
     "name": "stdout",
     "output_type": "stream",
     "text": [
      "El R2 de entrenamiento es: 0.66967, y el R2 de test es: 0.36584\n"
     ]
    }
   ],
   "source": [
    "# Calculamos el R2 en entrenamiento y testeo\n",
    "R2_lr_train, R2_lr_test = modelo_lr_escalado.score(X_train_imputado_df,y_train_df), modelo_lr_escalado.score(x_test_imputado,y_test)\n",
    "\n",
    "print(f'El R2 de entrenamiento es: {R2_lr_train:.5f}, y el R2 de test es: {R2_lr_test:.5f}')"
   ]
  },
  {
   "cell_type": "markdown",
   "metadata": {},
   "source": [
    "### Gradiente descendiente estocástico"
   ]
  },
  {
   "cell_type": "code",
   "execution_count": 29,
   "metadata": {},
   "outputs": [
    {
     "data": {
      "image/png": "[encoded data removed]",
      "text/plain": [
       "<Figure size 640x480 with 1 Axes>"
      ]
     },
     "metadata": {},
     "output_type": "display_data"
    }
   ],
   "source": [
    "train_errors_sgd = []\n",
    "test_errors_sgd = []\n",
    "\n",
    "# Iteramos sobre la cantidad de iteraciones a hacer. Entrenamos el modelo con el dataset de entrenamiento\n",
    "# Predecimos los valores de entrenamiento y calculamos el error de entrenamiento. Repetimos el procedimiento con el dataset de testeo.\n",
    "# Ambos errores se guardan en listas y por ultimo graficamos el error en base a la cantidad de iteraciones.\n",
    "for i in range(1,201):\n",
    "    modelo_sgd_escalado = make_pipeline(MinMaxScaler(),SGDRegressor(max_iter=i,tol=0.000001))\n",
    "    modelo_sgd_escalado.fit(X_train_imputado_df,y_train_df)\n",
    "    gd_y_pred_train = modelo_sgd_escalado.predict(X_train_imputado_df)\n",
    "    rmse_train_sgd = np.sqrt(mean_squared_error(y_train_df, gd_y_pred_train))\n",
    "    train_errors_sgd.append(rmse_train_sgd)\n",
    "    gd_y_pred_test = modelo_sgd_escalado.predict(x_test_imputado)\n",
    "    rmse_test_sgd = np.sqrt(mean_squared_error(y_test, gd_y_pred_test))\n",
    "    test_errors_sgd.append(rmse_test_sgd)\n",
    "\n",
    "plt.plot(train_errors_sgd, label='entrenamiento')\n",
    "plt.plot(test_errors_sgd, label='prueba')\n",
    "plt.xlabel('Iteraciones')\n",
    "plt.ylabel('Raíz del error cuadrático medio (RMSE)')\n",
    "plt.title('Evolución del error durante el entrenamiento con SGDRegressor')\n",
    "plt.legend()\n",
    "plt.show()"
   ]
  },
  {
   "cell_type": "markdown",
   "metadata": {},
   "source": [
    "Se observa que al pasar de 80 iteraciones aproximadamente el error de prueba comienza a incrementar y el de entrenamiento a disminuir, presentando overfitting. Es obvio aclarar que 80 iteraciones aproximadamente seria el valor de iteraciones ideal para entrenar."
   ]
  },
  {
   "cell_type": "markdown",
   "metadata": {},
   "source": [
    "### Lasso"
   ]
  },
  {
   "cell_type": "code",
   "execution_count": 36,
   "metadata": {},
   "outputs": [
    {
     "name": "stdout",
     "output_type": "stream",
     "text": [
      "El R2 de entrenamiento es: 0.5847339239312532 y el R2 de testeo es: 0.5266677853004205\n"
     ]
    }
   ],
   "source": [
    "modelo_lasso_escalado = make_pipeline(MinMaxScaler(),Lasso(alpha=0.1553,fit_intercept=True))\n",
    "modelo_lasso_escalado.fit(X_train_imputado_df,y_train_df)\n",
    "y_pred_lasso_test = modelo_lasso_escalado.predict(x_test_imputado)\n",
    "print(f\"El R2 de entrenamiento es: {modelo_lasso_escalado.score(X_train_imputado_df,y_train_df)} y el R2 de testeo es: {modelo_lasso_escalado.score(x_test_imputado,y_test)}\")"
   ]
  },
  {
   "cell_type": "code",
   "execution_count": 37,
   "metadata": {},
   "outputs": [
    {
     "name": "stdout",
     "output_type": "stream",
     "text": [
      "El RMSE de entrenamiento es: 6.162981971637571 y el RMSE de testeo es: 6.2743819180102465\n"
     ]
    }
   ],
   "source": [
    "y_pred_lasso_entrenamiento = modelo_lasso_escalado.predict(X_train_imputado_df)\n",
    "rmse_lasso_entrenamiento = np.sqrt(mean_squared_error(y_train_df, y_pred_lasso_entrenamiento))\n",
    "rmse_lasso_test = np.sqrt(mean_squared_error(y_test,y_pred_lasso_test))\n",
    "print(f\"El RMSE de entrenamiento es: {rmse_lasso_entrenamiento} y el RMSE de testeo es: {rmse_lasso_test}\")"
   ]
  },
  {
   "cell_type": "markdown",
   "metadata": {},
   "source": [
    "### Ridge"
   ]
  },
  {
   "cell_type": "code",
   "execution_count": 42,
   "metadata": {},
   "outputs": [
    {
     "name": "stdout",
     "output_type": "stream",
     "text": [
      "El R2 de entrenamiento es: 0.6086045427869615 y el R2 de testeo es: 0.49035959980988286\n"
     ]
    }
   ],
   "source": [
    "modelo_ridge_escalado = make_pipeline(MinMaxScaler(),Ridge(alpha=8.085))\n",
    "modelo_ridge_escalado.fit(X_train_imputado_df,y_train_df)\n",
    "y_pred_ridge_test = modelo_ridge_escalado.predict(x_test_imputado)\n",
    "y_pred_ridge_entrenamiento = modelo_ridge_escalado.predict(X_train_imputado_df)\n",
    "print(f\"El R2 de entrenamiento es: {modelo_ridge_escalado.score(X_train_imputado_df,y_train_df)} y el R2 de testeo es: {modelo_ridge_escalado.score(x_test_imputado,y_test)}\")"
   ]
  },
  {
   "cell_type": "code",
   "execution_count": 43,
   "metadata": {},
   "outputs": [
    {
     "name": "stdout",
     "output_type": "stream",
     "text": [
      "El RMSE de entrenamiento es: 5.983228109426512 y el RMSE de testeo es: 6.510582444467737\n"
     ]
    }
   ],
   "source": [
    "rmse_ridge_entrenamiento = np.sqrt(mean_squared_error(y_train_df, y_pred_ridge_entrenamiento))\n",
    "rmse_ridge_test = np.sqrt(mean_squared_error(y_test,y_pred_ridge_test))\n",
    "print(f\"El RMSE de entrenamiento es: {rmse_ridge_entrenamiento} y el RMSE de testeo es: {rmse_ridge_test}\")"
   ]
  },
  {
   "cell_type": "markdown",
   "metadata": {},
   "source": [
    "### Elastic Net"
   ]
  },
  {
   "cell_type": "code",
   "execution_count": 44,
   "metadata": {},
   "outputs": [
    {
     "name": "stdout",
     "output_type": "stream",
     "text": [
      "El R2 de entrenamiento es: 0.602618324800704 y el R2 de testeo es: 0.4878995382226945\n"
     ]
    }
   ],
   "source": [
    "modelo_enet_escalado = make_pipeline(MinMaxScaler(),ElasticNet(alpha=0.0355,l1_ratio=0.485))\n",
    "modelo_enet_escalado.fit(X_train_imputado_df,y_train_df)\n",
    "y_pred_enet_test = modelo_enet_escalado.predict(x_test_imputado)\n",
    "y_pred_enet_entrenamiento = modelo_enet_escalado.predict(X_train_imputado_df)\n",
    "print(f\"El R2 de entrenamiento es: {modelo_enet_escalado.score(X_train_imputado_df,y_train_df)} y el R2 de testeo es: {modelo_enet_escalado.score(x_test_imputado,y_test)}\")"
   ]
  },
  {
   "cell_type": "code",
   "execution_count": 45,
   "metadata": {},
   "outputs": [
    {
     "name": "stdout",
     "output_type": "stream",
     "text": [
      "El RMSE de entrenamiento es: 6.02880987791375 y el RMSE de testeo es: 6.526276993249428\n"
     ]
    }
   ],
   "source": [
    "rmse_enet_entrenamiento = np.sqrt(mean_squared_error(y_train_df, y_pred_enet_entrenamiento))\n",
    "rmse_enet_test = np.sqrt(mean_squared_error(y_test,y_pred_enet_test))\n",
    "print(f\"El RMSE de entrenamiento es: {rmse_enet_entrenamiento} y el RMSE de testeo es: {rmse_enet_test}\")"
   ]
  },
  {
   "cell_type": "markdown",
   "metadata": {},
   "source": [
    "### Conclusiones sobre fitting"
   ]
  },
  {
   "cell_type": "markdown",
   "metadata": {},
   "source": [
    "Es necesario obtener métricas como R2, MSE o RMSE para ambos conjuntos, ya que se puede dar la ocasión de que las métricas de entrenamiento sean muy buenas, dando idea de overfitting, y las métricas de testeo sean normales. En conclusión observar las métricas de entrenamiento sirven para descartar posibles overfittings."
   ]
  },
  {
   "cell_type": "markdown",
   "metadata": {},
   "source": [
    "Creemos que llegamos a un buen punto, pero todo sostenido sobre experimentaciones a ojo. Capaz con las versiones de cross validation de los mismos métodos podrían ser mejores."
   ]
  },
  {
   "cell_type": "markdown",
   "metadata": {},
   "source": [
    "## 5. Optimización de hiperparámetros."
   ]
  },
  {
   "cell_type": "markdown",
   "metadata": {},
   "source": [
    "### Gradiente descendiente"
   ]
  },
  {
   "cell_type": "markdown",
   "metadata": {},
   "source": [
    "Observamos y probamos que al variar la tolerancia a mayor es el valor, mayor es el ruido en el error y además no parece converger luego de un número de iteraciones, en donde con menor valor de tolerancia, el error de entrenamiento es mejor que el de testeo.(Esto significa que el modelo entra en un estado de overfitting, pero aún asi el error en general es mejor).\n",
    "\n",
    "En el caso del número de iteraciones aumenta, observamos y probamos que el error de testeo llega a un punto mínimo y comienza a incrementar, por otro lado el error de entrenamiento decrece hasta un punto de convergencia, en donde es menor que el de testeo. Y en el caso de tener muy pocas iteraciones, el modelo entra en un estado de underfitting, es decir, mucho error en ambos casos."
   ]
  },
  {
   "cell_type": "markdown",
   "metadata": {},
   "source": [
    "### Lasso y Ridge"
   ]
  },
  {
   "cell_type": "markdown",
   "metadata": {},
   "source": [
    "Observamos y probamos que al varíar el alpha de ambos modelos de este dataset, cuando se aumenta el mismo, el R2 disminuye para ambos conjuntos y el MSE se incrementa. Por el contrario al disminuir el mismo, el R2 llega a un punto máximo local y en caso de seguir disminuyendo el valor de alpha empeora el R2, lo mismo con MSE pero de manera inversa, es decir, el MSE disminuye llegando a un punto mínimo local y en caso de seguir disminuyendo el valor de alpha empeora el MSE"
   ]
  },
  {
   "cell_type": "markdown",
   "metadata": {},
   "source": [
    "## 6. Comparación de modelos."
   ]
  },
  {
   "cell_type": "markdown",
   "metadata": {},
   "source": [
    "Según nuestra opinión, el mejor modelo de regresión que observamos fue Lasso, ya que en R2 y MSE superaba a los demás modelos.\n",
    "\n",
    "Menciones honorificas: SGD(stochastic gradient descent o gradiente descendiente estocástico) ya que tenía valores parecidos a Lasso."
   ]
  },
  {
   "cell_type": "markdown",
   "metadata": {},
   "source": [
    "## 7. Conclusión"
   ]
  },
  {
   "cell_type": "markdown",
   "metadata": {},
   "source": [
    "En conclusión, en este trabajo aprendimos que aunque lo que buscamos no es más que una regresión lineal, esta se puede ver muy afectada por los outliers al momento de modelar la regresión, y esto lleva a tener predicciones erroneas. Entonces observamos que utilizando un escalado de datos, este favorece a la regresión lineal en sentido de que los coeficientes no se van a ver alterados por la escala de cada variable. Además utilizando el gradiente descendiente en cualquiera de sus formas (estocástico, mini-batch y batch) se puede llegar a un mejor o mismo resultado de una manera más eficiente. También podemos utilizar metodos de regularización como Lasso o Ridge para que la sensibilidad a outliers no afecte a la regresión. Todo esto aprovechando las métricas de comparación R2 o RMSE, que nos permiten comparar la efectividad entre diferentes modelos. Estos métodos mayormente estan ligados a la validación cruzada que nos ayuda a encontrar los mejores hiperparametros para cada modelo."
   ]
  }
 ],
 "metadata": {
  "kernelspec": {
   "display_name": "Python 3",
   "language": "python",
   "name": "python3"
  },
  "language_info": {
   "codemirror_mode": {
    "name": "ipython",
    "version": 3
   },
   "file_extension": ".py",
   "mimetype": "text/x-python",
   "name": "python",
   "nbconvert_exporter": "python",
   "pygments_lexer": "ipython3",
   "version": "3.10.9"
  }
 },
 "nbformat": 4,
 "nbformat_minor": 2
}
