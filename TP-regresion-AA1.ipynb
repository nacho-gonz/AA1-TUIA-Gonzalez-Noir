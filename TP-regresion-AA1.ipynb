{
 "cells": [
  {
   "cell_type": "markdown",
   "metadata": {},
   "source": [
    "TP de aprendizaje automtaico"
   ]
  },
  {
   "cell_type": "markdown",
   "metadata": {},
   "source": [
    "Descripcion de variables\n",
    "\n",
    "1) CRIM: tasa de criminalidad per cápita por ciudad\n",
    "2) ZN: proporción de terrenos residenciales zonificados para lotes de más de 25,000 pies cuadrados\n",
    "3) INDUS: proporción de acres de negocios no minoristas por ciudad\n",
    "4) CHAS: variable dummy del río Charles (1 si el tramo limita con el río; 0 de lo contrario)\n",
    "5) NOX: concentración de óxidos de nitrógeno (partes por 10 millones) [parts/10M]\n",
    "6) RM: número promedio de habitaciones por vivienda\n",
    "7) AGE: proporción de unidades ocupadas por sus propietarios construidas antes de 1940\n",
    "8) DIS: distancias ponderadas a cinco centros de empleo de Boston\n",
    "9) RAD: índice de accesibilidad a las autopistas radiales\n",
    "10) TAX: tasa de impuesto sobre la propiedad a valor completo por $10,000 [$/10k]\n",
    "11) PTRATIO: proporción alumno-maestro por ciudad\n",
    "12) B: El resultado de la ecuación B=1000(Bk - 0.63)^2 donde Bk es la proporción de negros por ciudad\n",
    "13) LSTAT: % de población de menor estatus socioeconómico\n",
    "\n",
    "Variable de salida (target):\n",
    "\n",
    "14) MEDV: Valor mediano de las viviendas ocupadas por sus propietarios en miles de dólares [k$]\n"
   ]
  },
  {
   "cell_type": "code",
   "execution_count": null,
   "metadata": {},
   "outputs": [],
   "source": [
    "!pip install scikit-learn\n",
    "!pip install pandas\n",
    "!pip install matplotlib\n",
    "!pip install seaborn"
   ]
  },
  {
   "cell_type": "code",
   "execution_count": 154,
   "metadata": {},
   "outputs": [],
   "source": [
    "import pandas as pd\n",
    "from sklearn.experimental import enable_iterative_imputer\n",
    "from sklearn.impute import IterativeImputer\n",
    "import matplotlib.pyplot as plt \n",
    "import seaborn as sns"
   ]
  },
  {
   "cell_type": "code",
   "execution_count": 137,
   "metadata": {},
   "outputs": [
    {
     "data": {
      "text/html": [
       "<div>\n",
       "<style scoped>\n",
       "    .dataframe tbody tr th:only-of-type {\n",
       "        vertical-align: middle;\n",
       "    }\n",
       "\n",
       "    .dataframe tbody tr th {\n",
       "        vertical-align: top;\n",
       "    }\n",
       "\n",
       "    .dataframe thead th {\n",
       "        text-align: right;\n",
       "    }\n",
       "</style>\n",
       "<table border=\"1\" class=\"dataframe\">\n",
       "  <thead>\n",
       "    <tr style=\"text-align: right;\">\n",
       "      <th></th>\n",
       "      <th>CRIM</th>\n",
       "      <th>ZN</th>\n",
       "      <th>INDUS</th>\n",
       "      <th>CHAS</th>\n",
       "      <th>NOX</th>\n",
       "      <th>RM</th>\n",
       "      <th>AGE</th>\n",
       "      <th>DIS</th>\n",
       "      <th>RAD</th>\n",
       "      <th>TAX</th>\n",
       "      <th>PTRATIO</th>\n",
       "      <th>B</th>\n",
       "      <th>LSTAT</th>\n",
       "      <th>MEDV</th>\n",
       "    </tr>\n",
       "  </thead>\n",
       "  <tbody>\n",
       "    <tr>\n",
       "      <th>0</th>\n",
       "      <td>0.07151</td>\n",
       "      <td>0.0</td>\n",
       "      <td>4.49</td>\n",
       "      <td>0.0</td>\n",
       "      <td>0.449</td>\n",
       "      <td>6.121</td>\n",
       "      <td>56.8</td>\n",
       "      <td>3.7476</td>\n",
       "      <td>3.0</td>\n",
       "      <td>247.0</td>\n",
       "      <td>18.5</td>\n",
       "      <td>395.15</td>\n",
       "      <td>8.44</td>\n",
       "      <td>22.2</td>\n",
       "    </tr>\n",
       "    <tr>\n",
       "      <th>1</th>\n",
       "      <td>0.08265</td>\n",
       "      <td>0.0</td>\n",
       "      <td>13.92</td>\n",
       "      <td>0.0</td>\n",
       "      <td>0.437</td>\n",
       "      <td>6.127</td>\n",
       "      <td>18.4</td>\n",
       "      <td>5.5027</td>\n",
       "      <td>4.0</td>\n",
       "      <td>289.0</td>\n",
       "      <td>16.0</td>\n",
       "      <td>396.90</td>\n",
       "      <td>8.58</td>\n",
       "      <td>23.9</td>\n",
       "    </tr>\n",
       "    <tr>\n",
       "      <th>2</th>\n",
       "      <td>0.12816</td>\n",
       "      <td>12.5</td>\n",
       "      <td>6.07</td>\n",
       "      <td>0.0</td>\n",
       "      <td>0.409</td>\n",
       "      <td>5.885</td>\n",
       "      <td>33.0</td>\n",
       "      <td>6.4980</td>\n",
       "      <td>4.0</td>\n",
       "      <td>345.0</td>\n",
       "      <td>18.9</td>\n",
       "      <td>396.90</td>\n",
       "      <td>8.79</td>\n",
       "      <td>20.9</td>\n",
       "    </tr>\n",
       "    <tr>\n",
       "      <th>3</th>\n",
       "      <td>0.08873</td>\n",
       "      <td>21.0</td>\n",
       "      <td>5.64</td>\n",
       "      <td>0.0</td>\n",
       "      <td>0.439</td>\n",
       "      <td>5.963</td>\n",
       "      <td>45.7</td>\n",
       "      <td>6.8147</td>\n",
       "      <td>4.0</td>\n",
       "      <td>243.0</td>\n",
       "      <td>16.8</td>\n",
       "      <td>395.56</td>\n",
       "      <td>13.45</td>\n",
       "      <td>19.7</td>\n",
       "    </tr>\n",
       "    <tr>\n",
       "      <th>4</th>\n",
       "      <td>0.11432</td>\n",
       "      <td>0.0</td>\n",
       "      <td>8.56</td>\n",
       "      <td>0.0</td>\n",
       "      <td>0.520</td>\n",
       "      <td>6.781</td>\n",
       "      <td>71.3</td>\n",
       "      <td>2.8561</td>\n",
       "      <td>5.0</td>\n",
       "      <td>384.0</td>\n",
       "      <td>20.9</td>\n",
       "      <td>395.58</td>\n",
       "      <td>7.67</td>\n",
       "      <td>26.5</td>\n",
       "    </tr>\n",
       "  </tbody>\n",
       "</table>\n",
       "</div>"
      ],
      "text/plain": [
       "      CRIM    ZN  INDUS  CHAS    NOX     RM   AGE     DIS  RAD    TAX  \\\n",
       "0  0.07151   0.0   4.49   0.0  0.449  6.121  56.8  3.7476  3.0  247.0   \n",
       "1  0.08265   0.0  13.92   0.0  0.437  6.127  18.4  5.5027  4.0  289.0   \n",
       "2  0.12816  12.5   6.07   0.0  0.409  5.885  33.0  6.4980  4.0  345.0   \n",
       "3  0.08873  21.0   5.64   0.0  0.439  5.963  45.7  6.8147  4.0  243.0   \n",
       "4  0.11432   0.0   8.56   0.0  0.520  6.781  71.3  2.8561  5.0  384.0   \n",
       "\n",
       "   PTRATIO       B  LSTAT  MEDV  \n",
       "0     18.5  395.15   8.44  22.2  \n",
       "1     16.0  396.90   8.58  23.9  \n",
       "2     18.9  396.90   8.79  20.9  \n",
       "3     16.8  395.56  13.45  19.7  \n",
       "4     20.9  395.58   7.67  26.5  "
      ]
     },
     "execution_count": 137,
     "metadata": {},
     "output_type": "execute_result"
    }
   ],
   "source": [
    "casas = pd.read_csv(\"https://github.com/nacho-gonz/AA1-TUIA-Noir-Gonzalez/raw/master/house-prices-tp.csv\")\n",
    "casas.head()"
   ]
  },
  {
   "cell_type": "code",
   "execution_count": null,
   "metadata": {},
   "outputs": [
    {
     "name": "stdout",
     "output_type": "stream",
     "text": [
      "<class 'pandas.core.frame.DataFrame'>\n",
      "RangeIndex: 556 entries, 0 to 555\n",
      "Data columns (total 14 columns):\n",
      " #   Column   Non-Null Count  Dtype  \n",
      "---  ------   --------------  -----  \n",
      " 0   CRIM     533 non-null    float64\n",
      " 1   ZN       534 non-null    float64\n",
      " 2   INDUS    541 non-null    float64\n",
      " 3   CHAS     533 non-null    float64\n",
      " 4   NOX      532 non-null    float64\n",
      " 5   RM       535 non-null    float64\n",
      " 6   AGE      532 non-null    float64\n",
      " 7   DIS      541 non-null    float64\n",
      " 8   RAD      528 non-null    float64\n",
      " 9   TAX      538 non-null    float64\n",
      " 10  PTRATIO  528 non-null    float64\n",
      " 11  B        534 non-null    float64\n",
      " 12  LSTAT    534 non-null    float64\n",
      " 13  MEDV     535 non-null    float64\n",
      "dtypes: float64(14)\n",
      "memory usage: 60.9 KB\n"
     ]
    }
   ],
   "source": [
    "casas.info()"
   ]
  },
  {
   "cell_type": "code",
   "execution_count": 133,
   "metadata": {},
   "outputs": [],
   "source": [
    "casas['CHAS'] = casas['CHAS'].bfill()\n",
    "casas[\"RAD\"] = casas[\"RAD\"].fillna(casas['RAD'].median())"
   ]
  },
  {
   "cell_type": "code",
   "execution_count": 151,
   "metadata": {},
   "outputs": [
    {
     "name": "stdout",
     "output_type": "stream",
     "text": [
      "<class 'pandas.core.frame.DataFrame'>\n",
      "RangeIndex: 556 entries, 0 to 555\n",
      "Data columns (total 14 columns):\n",
      " #   Column   Non-Null Count  Dtype  \n",
      "---  ------   --------------  -----  \n",
      " 0   CRIM     556 non-null    float64\n",
      " 1   ZN       556 non-null    float64\n",
      " 2   INDUS    556 non-null    float64\n",
      " 3   CHAS     556 non-null    int32  \n",
      " 4   NOX      556 non-null    float64\n",
      " 5   RM       556 non-null    float64\n",
      " 6   AGE      556 non-null    float64\n",
      " 7   DIS      556 non-null    float64\n",
      " 8   RAD      556 non-null    int32  \n",
      " 9   TAX      556 non-null    float64\n",
      " 10  PTRATIO  556 non-null    float64\n",
      " 11  B        556 non-null    float64\n",
      " 12  LSTAT    556 non-null    float64\n",
      " 13  MEDV     556 non-null    float64\n",
      "dtypes: float64(12), int32(2)\n",
      "memory usage: 56.6 KB\n"
     ]
    },
    {
     "name": "stderr",
     "output_type": "stream",
     "text": [
      "c:\\Users\\sonop\\AppData\\Local\\Programs\\Python\\Python312\\Lib\\site-packages\\sklearn\\impute\\_iterative.py:825: ConvergenceWarning: [IterativeImputer] Early stopping criterion not reached.\n",
      "  warnings.warn(\n"
     ]
    }
   ],
   "source": [
    "imp_mean = IterativeImputer(random_state=0)\n",
    "casas_imp = imp_mean.fit_transform(casas)\n",
    "casas_rellenas = pd.DataFrame(casas_imp)\n",
    "casas_rellenas.columns = casas.columns\n",
    "casas_rellenas['RAD'] = casas_rellenas['RAD'].astype('int')\n",
    "casas_rellenas['CHAS'] = casas_rellenas['CHAS'].astype('int')\n",
    "casas_rellenas.info()"
   ]
  },
  {
   "cell_type": "markdown",
   "metadata": {},
   "source": [
    "Visualización de los datos"
   ]
  },
  {
   "cell_type": "code",
   "execution_count": 173,
   "metadata": {},
   "outputs": [
    {
     "data": {
      "image/png": "[encoded data removed]",
      "text/plain": [
       "<Figure size 640x480 with 1 Axes>"
      ]
     },
     "metadata": {},
     "output_type": "display_data"
    }
   ],
   "source": [
    "sns.histplot(casas_rellenas['LSTAT'])\n",
    "plt.show()"
   ]
  },
  {
   "cell_type": "code",
   "execution_count": 177,
   "metadata": {},
   "outputs": [
    {
     "data": {
      "image/png": "[encoded data removed]",
      "text/plain": [
       "<Figure size 640x480 with 1 Axes>"
      ]
     },
     "metadata": {},
     "output_type": "display_data"
    }
   ],
   "source": [
    "sns.scatterplot(casas_rellenas['CHAS'])\n",
    "plt.show()"
   ]
  }
 ],
 "metadata": {
  "kernelspec": {
   "display_name": "Python 3",
   "language": "python",
   "name": "python3"
  },
  "language_info": {
   "codemirror_mode": {
    "name": "ipython",
    "version": 3
   },
   "file_extension": ".py",
   "mimetype": "text/x-python",
   "name": "python",
   "nbconvert_exporter": "python",
   "pygments_lexer": "ipython3",
   "version": "3.12.0"
  }
 },
 "nbformat": 4,
 "nbformat_minor": 2
}
