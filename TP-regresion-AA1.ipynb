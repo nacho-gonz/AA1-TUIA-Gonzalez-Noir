{
 "cells": [
  {
   "cell_type": "markdown",
   "metadata": {},
   "source": [
    "# Trabajo práctico: Predicción de precios de casas"
   ]
  },
  {
   "cell_type": "markdown",
   "metadata": {},
   "source": [
    "Alumnos: Noir Nicolas, González Ignacio\n",
    "\n",
    "Año: 2024\n",
    "\n",
    "Materia: Aprendizaje automático 1\n",
    "\n",
    "Carrera: TUIA"
   ]
  },
  {
   "cell_type": "markdown",
   "metadata": {},
   "source": [
    "## Descripcion de variables\n",
    "\n",
    "Características de entrada en orden:\n",
    "\n",
    "1) CRIM: tasa de criminalidad per cápita por ciudad\n",
    "2) ZN: proporción de terrenos residenciales zonificados para lotes de más de 25,000 pies cuadrados\n",
    "3) INDUS: proporción de acres de negocios no minoristas por ciudad\n",
    "4) CHAS: variable dummy del río Charles (1 si el tramo limita con el río; 0 de lo contrario)\n",
    "5) NOX: concentración de óxidos de nitrógeno (partes por 10 millones) [parts/10M]\n",
    "6) RM: número promedio de habitaciones por vivienda\n",
    "7) AGE: proporción de unidades ocupadas por sus propietarios construidas antes de 1940\n",
    "8) DIS: distancias ponderadas a cinco centros de empleo de Boston\n",
    "9) RAD: índice de accesibilidad a las autopistas radiales\n",
    "10) TAX: tasa de impuesto sobre la propiedad a valor completo por $10,000 [$/10k]\n",
    "11) PTRATIO: proporción alumno-maestro por ciudad\n",
    "12) B: El resultado de la ecuación B=1000(Bk - 0.63)^2 donde Bk es la proporción de negros por ciudad\n",
    "13) LSTAT: % de población de menor estatus socioeconómico\n",
    "\n",
    "Variable de salida (target):\n",
    "\n",
    "14) MEDV: Valor mediano de las viviendas ocupadas por sus propietarios en miles de dólares [k$]\n"
   ]
  },
  {
   "cell_type": "markdown",
   "metadata": {},
   "source": [
    "## Preprocesamiento de los datos"
   ]
  },
  {
   "cell_type": "code",
   "execution_count": null,
   "metadata": {},
   "outputs": [],
   "source": [
    "!pip install scikit-learn\n",
    "!pip install pandas\n",
    "!pip install matplotlib\n",
    "!pip install seaborn\n",
    "!pip install plotly\n",
    "!pip install nbformat"
   ]
  },
  {
   "cell_type": "code",
   "execution_count": 75,
   "metadata": {},
   "outputs": [],
   "source": [
    "import pandas as pd\n",
    "from sklearn.impute import KNNImputer\n",
    "import matplotlib.pyplot as plt \n",
    "import seaborn as sns\n",
    "from sklearn.model_selection import train_test_split\n",
    "import plotly.express as px\n",
    "from sklearn.preprocessing import MinMaxScaler"
   ]
  },
  {
   "cell_type": "code",
   "execution_count": 5,
   "metadata": {},
   "outputs": [],
   "source": [
    "dataset_completo = pd.read_csv(\"https://github.com/nacho-gonz/AA1-TUIA-Noir-Gonzalez/raw/master/house-prices-tp.csv\")\n",
    "X_train, X_test, y_train, y_test = train_test_split(dataset_completo.drop('MEDV', axis=1), dataset_completo['MEDV'].values.reshape(-1,1), test_size=0.2,random_state=42)"
   ]
  },
  {
   "cell_type": "code",
   "execution_count": 6,
   "metadata": {},
   "outputs": [
    {
     "data": {
      "text/plain": [
       "((444, 13), (112, 13), (444, 1), (112, 1))"
      ]
     },
     "execution_count": 6,
     "metadata": {},
     "output_type": "execute_result"
    }
   ],
   "source": [
    "X_train.shape, X_test.shape, y_train.shape, y_test.shape"
   ]
  },
  {
   "cell_type": "code",
   "execution_count": 7,
   "metadata": {},
   "outputs": [
    {
     "name": "stdout",
     "output_type": "stream",
     "text": [
      "<class 'pandas.core.frame.DataFrame'>\n",
      "Index: 444 entries, 208 to 102\n",
      "Data columns (total 13 columns):\n",
      " #   Column   Non-Null Count  Dtype  \n",
      "---  ------   --------------  -----  \n",
      " 0   CRIM     425 non-null    float64\n",
      " 1   ZN       426 non-null    float64\n",
      " 2   INDUS    432 non-null    float64\n",
      " 3   CHAS     424 non-null    float64\n",
      " 4   NOX      423 non-null    float64\n",
      " 5   RM       427 non-null    float64\n",
      " 6   AGE      422 non-null    float64\n",
      " 7   DIS      430 non-null    float64\n",
      " 8   RAD      418 non-null    float64\n",
      " 9   TAX      431 non-null    float64\n",
      " 10  PTRATIO  422 non-null    float64\n",
      " 11  B        426 non-null    float64\n",
      " 12  LSTAT    426 non-null    float64\n",
      "dtypes: float64(13)\n",
      "memory usage: 48.6 KB\n"
     ]
    }
   ],
   "source": [
    "X_train.info()"
   ]
  },
  {
   "cell_type": "code",
   "execution_count": 8,
   "metadata": {},
   "outputs": [
    {
     "data": {
      "text/html": [
       "<div>\n",
       "<style scoped>\n",
       "    .dataframe tbody tr th:only-of-type {\n",
       "        vertical-align: middle;\n",
       "    }\n",
       "\n",
       "    .dataframe tbody tr th {\n",
       "        vertical-align: top;\n",
       "    }\n",
       "\n",
       "    .dataframe thead th {\n",
       "        text-align: right;\n",
       "    }\n",
       "</style>\n",
       "<table border=\"1\" class=\"dataframe\">\n",
       "  <thead>\n",
       "    <tr style=\"text-align: right;\">\n",
       "      <th></th>\n",
       "      <th>CRIM</th>\n",
       "      <th>ZN</th>\n",
       "      <th>INDUS</th>\n",
       "      <th>CHAS</th>\n",
       "      <th>NOX</th>\n",
       "      <th>RM</th>\n",
       "      <th>AGE</th>\n",
       "      <th>DIS</th>\n",
       "      <th>RAD</th>\n",
       "      <th>TAX</th>\n",
       "      <th>PTRATIO</th>\n",
       "      <th>B</th>\n",
       "      <th>LSTAT</th>\n",
       "    </tr>\n",
       "  </thead>\n",
       "  <tbody>\n",
       "    <tr>\n",
       "      <th>208</th>\n",
       "      <td>0.04590</td>\n",
       "      <td>52.5</td>\n",
       "      <td>5.32</td>\n",
       "      <td>0.0</td>\n",
       "      <td>0.405</td>\n",
       "      <td>6.315</td>\n",
       "      <td>45.6</td>\n",
       "      <td>7.3172</td>\n",
       "      <td>6.0</td>\n",
       "      <td>293.0</td>\n",
       "      <td>16.6</td>\n",
       "      <td>396.90</td>\n",
       "      <td>7.60</td>\n",
       "    </tr>\n",
       "    <tr>\n",
       "      <th>89</th>\n",
       "      <td>0.26169</td>\n",
       "      <td>0.0</td>\n",
       "      <td>9.90</td>\n",
       "      <td>0.0</td>\n",
       "      <td>0.544</td>\n",
       "      <td>6.023</td>\n",
       "      <td>90.4</td>\n",
       "      <td>2.8340</td>\n",
       "      <td>4.0</td>\n",
       "      <td>304.0</td>\n",
       "      <td>18.4</td>\n",
       "      <td>396.30</td>\n",
       "      <td>11.72</td>\n",
       "    </tr>\n",
       "    <tr>\n",
       "      <th>297</th>\n",
       "      <td>5.58107</td>\n",
       "      <td>0.0</td>\n",
       "      <td>18.10</td>\n",
       "      <td>0.0</td>\n",
       "      <td>0.713</td>\n",
       "      <td>6.436</td>\n",
       "      <td>87.9</td>\n",
       "      <td>2.3158</td>\n",
       "      <td>24.0</td>\n",
       "      <td>666.0</td>\n",
       "      <td>20.2</td>\n",
       "      <td>100.19</td>\n",
       "      <td>16.22</td>\n",
       "    </tr>\n",
       "    <tr>\n",
       "      <th>301</th>\n",
       "      <td>0.05561</td>\n",
       "      <td>70.0</td>\n",
       "      <td>2.24</td>\n",
       "      <td>0.0</td>\n",
       "      <td>0.400</td>\n",
       "      <td>7.041</td>\n",
       "      <td>10.0</td>\n",
       "      <td>7.8278</td>\n",
       "      <td>5.0</td>\n",
       "      <td>358.0</td>\n",
       "      <td>14.8</td>\n",
       "      <td>371.58</td>\n",
       "      <td>4.74</td>\n",
       "    </tr>\n",
       "    <tr>\n",
       "      <th>218</th>\n",
       "      <td>2.15505</td>\n",
       "      <td>0.0</td>\n",
       "      <td>19.58</td>\n",
       "      <td>0.0</td>\n",
       "      <td>0.871</td>\n",
       "      <td>5.628</td>\n",
       "      <td>100.0</td>\n",
       "      <td>1.5166</td>\n",
       "      <td>5.0</td>\n",
       "      <td>403.0</td>\n",
       "      <td>14.7</td>\n",
       "      <td>169.27</td>\n",
       "      <td>16.65</td>\n",
       "    </tr>\n",
       "  </tbody>\n",
       "</table>\n",
       "</div>"
      ],
      "text/plain": [
       "        CRIM    ZN  INDUS  CHAS    NOX     RM    AGE     DIS   RAD    TAX  \\\n",
       "208  0.04590  52.5   5.32   0.0  0.405  6.315   45.6  7.3172   6.0  293.0   \n",
       "89   0.26169   0.0   9.90   0.0  0.544  6.023   90.4  2.8340   4.0  304.0   \n",
       "297  5.58107   0.0  18.10   0.0  0.713  6.436   87.9  2.3158  24.0  666.0   \n",
       "301  0.05561  70.0   2.24   0.0  0.400  7.041   10.0  7.8278   5.0  358.0   \n",
       "218  2.15505   0.0  19.58   0.0  0.871  5.628  100.0  1.5166   5.0  403.0   \n",
       "\n",
       "     PTRATIO       B  LSTAT  \n",
       "208     16.6  396.90   7.60  \n",
       "89      18.4  396.30  11.72  \n",
       "297     20.2  100.19  16.22  \n",
       "301     14.8  371.58   4.74  \n",
       "218     14.7  169.27  16.65  "
      ]
     },
     "execution_count": 8,
     "metadata": {},
     "output_type": "execute_result"
    }
   ],
   "source": [
    "X_train.head()"
   ]
  },
  {
   "cell_type": "markdown",
   "metadata": {},
   "source": [
    "Elijo imputar los valores con KNN, ya que estima de una manera más real el valor que podrían tener esos registros. En el caso de 'CHAS' creo que aunque esta manera de imputar me de valores que no son 0 o 1, al redondear va a seguir siendo más certero que cualquier metodo de imputación de valores."
   ]
  },
  {
   "cell_type": "code",
   "execution_count": 59,
   "metadata": {},
   "outputs": [
    {
     "name": "stdout",
     "output_type": "stream",
     "text": [
      "<class 'pandas.core.frame.DataFrame'>\n",
      "RangeIndex: 444 entries, 0 to 443\n",
      "Data columns (total 13 columns):\n",
      " #   Column   Non-Null Count  Dtype   \n",
      "---  ------   --------------  -----   \n",
      " 0   CRIM     444 non-null    float64 \n",
      " 1   ZN       444 non-null    float64 \n",
      " 2   INDUS    444 non-null    float64 \n",
      " 3   CHAS     444 non-null    category\n",
      " 4   NOX      444 non-null    float64 \n",
      " 5   RM       444 non-null    float64 \n",
      " 6   AGE      444 non-null    float64 \n",
      " 7   DIS      444 non-null    float64 \n",
      " 8   RAD      444 non-null    int64   \n",
      " 9   TAX      444 non-null    float64 \n",
      " 10  PTRATIO  444 non-null    float64 \n",
      " 11  B        444 non-null    float64 \n",
      " 12  LSTAT    444 non-null    float64 \n",
      "dtypes: category(1), float64(11), int64(1)\n",
      "memory usage: 42.3 KB\n"
     ]
    }
   ],
   "source": [
    "knn_imputer = KNNImputer(n_neighbors=5)\n",
    "X_train_imputado = knn_imputer.fit_transform(X_train)\n",
    "X_train_imputado_df = pd.DataFrame(X_train_imputado, columns=X_train.columns)\n",
    "X_train_imputado_df['RAD'] = X_train_imputado_df['RAD'].round().astype('int')\n",
    "X_train_imputado_df['CHAS'] = X_train_imputado_df['CHAS'].round().astype('category')\n",
    "X_train_imputado_df.info()"
   ]
  },
  {
   "cell_type": "markdown",
   "metadata": {},
   "source": [
    "## Visualización de los datos"
   ]
  },
  {
   "cell_type": "code",
   "execution_count": 38,
   "metadata": {},
   "outputs": [
    {
     "data": {
      "application/vnd.plotly.v1+json": {
       "config": {
        "plotlyServerURL": "https://plot.ly"
       },
       "data": [
        {
         "alignmentgroup": "True",
         "boxpoints": "all",
         "hovertemplate": "RM=%{y}<extra></extra>",
         "legendgroup": "",
         "marker": {
          "color": "#636efa"
         },
         "name": "",
         "notched": false,
         "offsetgroup": "",
         "orientation": "v",
         "showlegend": false,
         "type": "box",
         "x0": " ",
         "xaxis": "x",
         "y": [
          6.315,
          6.023,
          6.436,
          7.041,
          5.628,
          6.254,
          7.393,
          6.059,
          6.433,
          5.877,
          4.931033485960803,
          6.678,
          6.625,
          4.652,
          6.398,
          5.683,
          8.247,
          6.43,
          6.546,
          6.167,
          4.97,
          5.884,
          5.705,
          6.019,
          6.023283752176693,
          6.957,
          6.415,
          6.151,
          6.482,
          8.73853799424215,
          6.861,
          7.163,
          6.431,
          7.82,
          6.461,
          6.208,
          7.185,
          5.836,
          6.167,
          6.86,
          6.389,
          7.107,
          8.337,
          6.251,
          5.936,
          6.405,
          6.108,
          6.701,
          6.513,
          6.004,
          6.301,
          6.209,
          5.87,
          5.454,
          6.649,
          5.277,
          6.454,
          6.728,
          6.142,
          3.561,
          5.093,
          6.341,
          6.12,
          6.604,
          6.852,
          4.590182012606288,
          6.814940002562556,
          6.03,
          5.362,
          3.839536135689139,
          6.434,
          5.882415143982319,
          5.404,
          6.345,
          6.879,
          5.905,
          8.704,
          5.759,
          5.786,
          6.014,
          7.185,
          5.952,
          4.88,
          7.42,
          6.426,
          6.02,
          6.195,
          6.77,
          4.371468721827838,
          5.887,
          6.377,
          6.229,
          7.155,
          6.169,
          6.7148582210587815,
          6.854,
          8.398,
          5.88,
          6.004,
          8.050075719911602,
          5.403,
          6.083,
          5.757,
          6.593,
          6.417,
          6.833,
          6.021,
          6.242,
          6.041,
          6.762,
          5.707,
          5.888,
          6.939,
          5.963,
          6.009,
          5.976,
          5.889,
          6.096,
          6.211,
          6.631,
          6.216,
          6.49,
          5.968,
          5.713,
          6.144,
          5.56,
          5.713,
          6.567,
          6.417,
          6.579,
          5.631,
          5.927,
          6.326,
          6.225031484580353,
          5.036,
          7.765,
          7.5023463093948175,
          6.193,
          7.061,
          5.794,
          6.552,
          7.5358950491469,
          6.98,
          5.709,
          6.618,
          7.287,
          4.016588379362258,
          7.82,
          6.718,
          5.731,
          5.933,
          6.358,
          5.536,
          6.442,
          5.604,
          5.67,
          6.249,
          6.63,
          5.602,
          5.272,
          5.565,
          6.174,
          6.037,
          6.812,
          6.047,
          6.13,
          6.081,
          8.297,
          5.012,
          4.903,
          6.376,
          6.212,
          5.807,
          6.75,
          6.375,
          6.516,
          5.935,
          6.696,
          5.782,
          6.816,
          7.016,
          6.172,
          5.878,
          6.129,
          6.968,
          6.229,
          6.758,
          6.245,
          5.597,
          4.138,
          6.209,
          5.834,
          5.913,
          6.382,
          6.004146980980856,
          7.52,
          5.965,
          6.266,
          6.373,
          7.014,
          7.929,
          7.831,
          6.727,
          6.406,
          5.617,
          5.569,
          6.03,
          7.686,
          6.63,
          6.459,
          5.619186496622914,
          6.943,
          5.418562986967795,
          5.644638027609114,
          6.152,
          7.249,
          6.874,
          6.648478677793723,
          6.302,
          6.065,
          5.888,
          6.726,
          5.456,
          6.31,
          6.219,
          5.155,
          6.425,
          5.787,
          6.297,
          6.402,
          6.975,
          5.875,
          6.683,
          7.147,
          7.206,
          6.066,
          6.474,
          6.372,
          5,
          6.98,
          6.009,
          5.935,
          5.854,
          7.313,
          6.562399999999999,
          5.399,
          6.29,
          5.868,
          6.086,
          6.101,
          5.427,
          5.851,
          8.04,
          6.437,
          8.034,
          6.015,
          5.998,
          5.981,
          7.333,
          7.024,
          6.619,
          5.656463066374732,
          6.739,
          6.485,
          5.663,
          6.051,
          6.24,
          6.006,
          6.616,
          6.657,
          6.226,
          6.164,
          5.637,
          6.286,
          6.826,
          6.575,
          5.344,
          6.012,
          6.182,
          6.421,
          5.593,
          6.556,
          6.349039852151094,
          5.85,
          7.267,
          6.951,
          6.23,
          6.38,
          6.456,
          6.069,
          6.824,
          5.895,
          6.794,
          6.51,
          6.202,
          8.070483466854554,
          6.438,
          5.713,
          5.57,
          6.749,
          8.748910413623825,
          6.137,
          6.343,
          6.781,
          5.412,
          6.976,
          5.871,
          5.949,
          5.39,
          7.645,
          5.96,
          6.319,
          4.59453795331681,
          4.628,
          5.936,
          5.445589908927029,
          5.847799999999999,
          4.963,
          5.019,
          6.565,
          6.452800000000001,
          7.552326358012205,
          6.871,
          7.088,
          6.185,
          6.316,
          8.421050780621204,
          5.859,
          5.869,
          5.987,
          6.431,
          7.412,
          5.803,
          4.746257079901696,
          6.326,
          6.728,
          8.259,
          6.934418760883462,
          5.957,
          6.072,
          6.152,
          6.393,
          5.52,
          6.849,
          6.746477996266494,
          5.349,
          6.167,
          8.413783047153586,
          6.286170615318802,
          5.39,
          6.144,
          6.25,
          6.376,
          5.822,
          7.853,
          6.115,
          6.484,
          4.926,
          6.114,
          6.003,
          5.818,
          6.629,
          6.595,
          7.148,
          6.273,
          5.857,
          5.898,
          5.531,
          7.241,
          8.703841861285408,
          6.982,
          7.454,
          5.572,
          6.495,
          5.924,
          6.315,
          5.928,
          6.977480170096916,
          5.972,
          6.229,
          6.223,
          5.854,
          6.127,
          4.906,
          6.54,
          5.966,
          6.193,
          6.112,
          6.998,
          5.783,
          6.607040342064023,
          6.538,
          6.145,
          6.794,
          6.674,
          5.757,
          5.304,
          4.368,
          7.489,
          6.897,
          7.875,
          6.279,
          6.185,
          6.095,
          5.961,
          5.961,
          3.863,
          7.178,
          6.38,
          5.856,
          6.216338894346362,
          4.519,
          5.706,
          6.487,
          6.335,
          7.61,
          6.162,
          5.874,
          5.986,
          4.973,
          5.841,
          6.782,
          6.348,
          5.599,
          6.162,
          8.0109400877063,
          6.153,
          6.122,
          7.135,
          5.875,
          7.274,
          5.594,
          6.092,
          7.9491045628047825,
          6.777958066014395,
          5.985,
          6.108,
          6.127,
          7.079,
          5.99,
          6.727,
          5.876,
          6.715,
          6.333
         ],
         "y0": " ",
         "yaxis": "y"
        }
       ],
       "layout": {
        "boxmode": "group",
        "legend": {
         "tracegroupgap": 0
        },
        "template": {
         "data": {
          "bar": [
           {
            "error_x": {
             "color": "#2a3f5f"
            },
            "error_y": {
             "color": "#2a3f5f"
            },
            "marker": {
             "line": {
              "color": "#E5ECF6",
              "width": 0.5
             },
             "pattern": {
              "fillmode": "overlay",
              "size": 10,
              "solidity": 0.2
             }
            },
            "type": "bar"
           }
          ],
          "barpolar": [
           {
            "marker": {
             "line": {
              "color": "#E5ECF6",
              "width": 0.5
             },
             "pattern": {
              "fillmode": "overlay",
              "size": 10,
              "solidity": 0.2
             }
            },
            "type": "barpolar"
           }
          ],
          "carpet": [
           {
            "aaxis": {
             "endlinecolor": "#2a3f5f",
             "gridcolor": "white",
             "linecolor": "white",
             "minorgridcolor": "white",
             "startlinecolor": "#2a3f5f"
            },
            "baxis": {
             "endlinecolor": "#2a3f5f",
             "gridcolor": "white",
             "linecolor": "white",
             "minorgridcolor": "white",
             "startlinecolor": "#2a3f5f"
            },
            "type": "carpet"
           }
          ],
          "choropleth": [
           {
            "colorbar": {
             "outlinewidth": 0,
             "ticks": ""
            },
            "type": "choropleth"
           }
          ],
          "contour": [
           {
            "colorbar": {
             "outlinewidth": 0,
             "ticks": ""
            },
            "colorscale": [
             [
              0,
              "#0d0887"
             ],
             [
              0.1111111111111111,
              "#46039f"
             ],
             [
              0.2222222222222222,
              "#7201a8"
             ],
             [
              0.3333333333333333,
              "#9c179e"
             ],
             [
              0.4444444444444444,
              "#bd3786"
             ],
             [
              0.5555555555555556,
              "#d8576b"
             ],
             [
              0.6666666666666666,
              "#ed7953"
             ],
             [
              0.7777777777777778,
              "#fb9f3a"
             ],
             [
              0.8888888888888888,
              "#fdca26"
             ],
             [
              1,
              "#f0f921"
             ]
            ],
            "type": "contour"
           }
          ],
          "contourcarpet": [
           {
            "colorbar": {
             "outlinewidth": 0,
             "ticks": ""
            },
            "type": "contourcarpet"
           }
          ],
          "heatmap": [
           {
            "colorbar": {
             "outlinewidth": 0,
             "ticks": ""
            },
            "colorscale": [
             [
              0,
              "#0d0887"
             ],
             [
              0.1111111111111111,
              "#46039f"
             ],
             [
              0.2222222222222222,
              "#7201a8"
             ],
             [
              0.3333333333333333,
              "#9c179e"
             ],
             [
              0.4444444444444444,
              "#bd3786"
             ],
             [
              0.5555555555555556,
              "#d8576b"
             ],
             [
              0.6666666666666666,
              "#ed7953"
             ],
             [
              0.7777777777777778,
              "#fb9f3a"
             ],
             [
              0.8888888888888888,
              "#fdca26"
             ],
             [
              1,
              "#f0f921"
             ]
            ],
            "type": "heatmap"
           }
          ],
          "heatmapgl": [
           {
            "colorbar": {
             "outlinewidth": 0,
             "ticks": ""
            },
            "colorscale": [
             [
              0,
              "#0d0887"
             ],
             [
              0.1111111111111111,
              "#46039f"
             ],
             [
              0.2222222222222222,
              "#7201a8"
             ],
             [
              0.3333333333333333,
              "#9c179e"
             ],
             [
              0.4444444444444444,
              "#bd3786"
             ],
             [
              0.5555555555555556,
              "#d8576b"
             ],
             [
              0.6666666666666666,
              "#ed7953"
             ],
             [
              0.7777777777777778,
              "#fb9f3a"
             ],
             [
              0.8888888888888888,
              "#fdca26"
             ],
             [
              1,
              "#f0f921"
             ]
            ],
            "type": "heatmapgl"
           }
          ],
          "histogram": [
           {
            "marker": {
             "pattern": {
              "fillmode": "overlay",
              "size": 10,
              "solidity": 0.2
             }
            },
            "type": "histogram"
           }
          ],
          "histogram2d": [
           {
            "colorbar": {
             "outlinewidth": 0,
             "ticks": ""
            },
            "colorscale": [
             [
              0,
              "#0d0887"
             ],
             [
              0.1111111111111111,
              "#46039f"
             ],
             [
              0.2222222222222222,
              "#7201a8"
             ],
             [
              0.3333333333333333,
              "#9c179e"
             ],
             [
              0.4444444444444444,
              "#bd3786"
             ],
             [
              0.5555555555555556,
              "#d8576b"
             ],
             [
              0.6666666666666666,
              "#ed7953"
             ],
             [
              0.7777777777777778,
              "#fb9f3a"
             ],
             [
              0.8888888888888888,
              "#fdca26"
             ],
             [
              1,
              "#f0f921"
             ]
            ],
            "type": "histogram2d"
           }
          ],
          "histogram2dcontour": [
           {
            "colorbar": {
             "outlinewidth": 0,
             "ticks": ""
            },
            "colorscale": [
             [
              0,
              "#0d0887"
             ],
             [
              0.1111111111111111,
              "#46039f"
             ],
             [
              0.2222222222222222,
              "#7201a8"
             ],
             [
              0.3333333333333333,
              "#9c179e"
             ],
             [
              0.4444444444444444,
              "#bd3786"
             ],
             [
              0.5555555555555556,
              "#d8576b"
             ],
             [
              0.6666666666666666,
              "#ed7953"
             ],
             [
              0.7777777777777778,
              "#fb9f3a"
             ],
             [
              0.8888888888888888,
              "#fdca26"
             ],
             [
              1,
              "#f0f921"
             ]
            ],
            "type": "histogram2dcontour"
           }
          ],
          "mesh3d": [
           {
            "colorbar": {
             "outlinewidth": 0,
             "ticks": ""
            },
            "type": "mesh3d"
           }
          ],
          "parcoords": [
           {
            "line": {
             "colorbar": {
              "outlinewidth": 0,
              "ticks": ""
             }
            },
            "type": "parcoords"
           }
          ],
          "pie": [
           {
            "automargin": true,
            "type": "pie"
           }
          ],
          "scatter": [
           {
            "fillpattern": {
             "fillmode": "overlay",
             "size": 10,
             "solidity": 0.2
            },
            "type": "scatter"
           }
          ],
          "scatter3d": [
           {
            "line": {
             "colorbar": {
              "outlinewidth": 0,
              "ticks": ""
             }
            },
            "marker": {
             "colorbar": {
              "outlinewidth": 0,
              "ticks": ""
             }
            },
            "type": "scatter3d"
           }
          ],
          "scattercarpet": [
           {
            "marker": {
             "colorbar": {
              "outlinewidth": 0,
              "ticks": ""
             }
            },
            "type": "scattercarpet"
           }
          ],
          "scattergeo": [
           {
            "marker": {
             "colorbar": {
              "outlinewidth": 0,
              "ticks": ""
             }
            },
            "type": "scattergeo"
           }
          ],
          "scattergl": [
           {
            "marker": {
             "colorbar": {
              "outlinewidth": 0,
              "ticks": ""
             }
            },
            "type": "scattergl"
           }
          ],
          "scattermapbox": [
           {
            "marker": {
             "colorbar": {
              "outlinewidth": 0,
              "ticks": ""
             }
            },
            "type": "scattermapbox"
           }
          ],
          "scatterpolar": [
           {
            "marker": {
             "colorbar": {
              "outlinewidth": 0,
              "ticks": ""
             }
            },
            "type": "scatterpolar"
           }
          ],
          "scatterpolargl": [
           {
            "marker": {
             "colorbar": {
              "outlinewidth": 0,
              "ticks": ""
             }
            },
            "type": "scatterpolargl"
           }
          ],
          "scatterternary": [
           {
            "marker": {
             "colorbar": {
              "outlinewidth": 0,
              "ticks": ""
             }
            },
            "type": "scatterternary"
           }
          ],
          "surface": [
           {
            "colorbar": {
             "outlinewidth": 0,
             "ticks": ""
            },
            "colorscale": [
             [
              0,
              "#0d0887"
             ],
             [
              0.1111111111111111,
              "#46039f"
             ],
             [
              0.2222222222222222,
              "#7201a8"
             ],
             [
              0.3333333333333333,
              "#9c179e"
             ],
             [
              0.4444444444444444,
              "#bd3786"
             ],
             [
              0.5555555555555556,
              "#d8576b"
             ],
             [
              0.6666666666666666,
              "#ed7953"
             ],
             [
              0.7777777777777778,
              "#fb9f3a"
             ],
             [
              0.8888888888888888,
              "#fdca26"
             ],
             [
              1,
              "#f0f921"
             ]
            ],
            "type": "surface"
           }
          ],
          "table": [
           {
            "cells": {
             "fill": {
              "color": "#EBF0F8"
             },
             "line": {
              "color": "white"
             }
            },
            "header": {
             "fill": {
              "color": "#C8D4E3"
             },
             "line": {
              "color": "white"
             }
            },
            "type": "table"
           }
          ]
         },
         "layout": {
          "annotationdefaults": {
           "arrowcolor": "#2a3f5f",
           "arrowhead": 0,
           "arrowwidth": 1
          },
          "autotypenumbers": "strict",
          "coloraxis": {
           "colorbar": {
            "outlinewidth": 0,
            "ticks": ""
           }
          },
          "colorscale": {
           "diverging": [
            [
             0,
             "#8e0152"
            ],
            [
             0.1,
             "#c51b7d"
            ],
            [
             0.2,
             "#de77ae"
            ],
            [
             0.3,
             "#f1b6da"
            ],
            [
             0.4,
             "#fde0ef"
            ],
            [
             0.5,
             "#f7f7f7"
            ],
            [
             0.6,
             "#e6f5d0"
            ],
            [
             0.7,
             "#b8e186"
            ],
            [
             0.8,
             "#7fbc41"
            ],
            [
             0.9,
             "#4d9221"
            ],
            [
             1,
             "#276419"
            ]
           ],
           "sequential": [
            [
             0,
             "#0d0887"
            ],
            [
             0.1111111111111111,
             "#46039f"
            ],
            [
             0.2222222222222222,
             "#7201a8"
            ],
            [
             0.3333333333333333,
             "#9c179e"
            ],
            [
             0.4444444444444444,
             "#bd3786"
            ],
            [
             0.5555555555555556,
             "#d8576b"
            ],
            [
             0.6666666666666666,
             "#ed7953"
            ],
            [
             0.7777777777777778,
             "#fb9f3a"
            ],
            [
             0.8888888888888888,
             "#fdca26"
            ],
            [
             1,
             "#f0f921"
            ]
           ],
           "sequentialminus": [
            [
             0,
             "#0d0887"
            ],
            [
             0.1111111111111111,
             "#46039f"
            ],
            [
             0.2222222222222222,
             "#7201a8"
            ],
            [
             0.3333333333333333,
             "#9c179e"
            ],
            [
             0.4444444444444444,
             "#bd3786"
            ],
            [
             0.5555555555555556,
             "#d8576b"
            ],
            [
             0.6666666666666666,
             "#ed7953"
            ],
            [
             0.7777777777777778,
             "#fb9f3a"
            ],
            [
             0.8888888888888888,
             "#fdca26"
            ],
            [
             1,
             "#f0f921"
            ]
           ]
          },
          "colorway": [
           "#636efa",
           "#EF553B",
           "#00cc96",
           "#ab63fa",
           "#FFA15A",
           "#19d3f3",
           "#FF6692",
           "#B6E880",
           "#FF97FF",
           "#FECB52"
          ],
          "font": {
           "color": "#2a3f5f"
          },
          "geo": {
           "bgcolor": "white",
           "lakecolor": "white",
           "landcolor": "#E5ECF6",
           "showlakes": true,
           "showland": true,
           "subunitcolor": "white"
          },
          "hoverlabel": {
           "align": "left"
          },
          "hovermode": "closest",
          "mapbox": {
           "style": "light"
          },
          "paper_bgcolor": "white",
          "plot_bgcolor": "#E5ECF6",
          "polar": {
           "angularaxis": {
            "gridcolor": "white",
            "linecolor": "white",
            "ticks": ""
           },
           "bgcolor": "#E5ECF6",
           "radialaxis": {
            "gridcolor": "white",
            "linecolor": "white",
            "ticks": ""
           }
          },
          "scene": {
           "xaxis": {
            "backgroundcolor": "#E5ECF6",
            "gridcolor": "white",
            "gridwidth": 2,
            "linecolor": "white",
            "showbackground": true,
            "ticks": "",
            "zerolinecolor": "white"
           },
           "yaxis": {
            "backgroundcolor": "#E5ECF6",
            "gridcolor": "white",
            "gridwidth": 2,
            "linecolor": "white",
            "showbackground": true,
            "ticks": "",
            "zerolinecolor": "white"
           },
           "zaxis": {
            "backgroundcolor": "#E5ECF6",
            "gridcolor": "white",
            "gridwidth": 2,
            "linecolor": "white",
            "showbackground": true,
            "ticks": "",
            "zerolinecolor": "white"
           }
          },
          "shapedefaults": {
           "line": {
            "color": "#2a3f5f"
           }
          },
          "ternary": {
           "aaxis": {
            "gridcolor": "white",
            "linecolor": "white",
            "ticks": ""
           },
           "baxis": {
            "gridcolor": "white",
            "linecolor": "white",
            "ticks": ""
           },
           "bgcolor": "#E5ECF6",
           "caxis": {
            "gridcolor": "white",
            "linecolor": "white",
            "ticks": ""
           }
          },
          "title": {
           "x": 0.05
          },
          "xaxis": {
           "automargin": true,
           "gridcolor": "white",
           "linecolor": "white",
           "ticks": "",
           "title": {
            "standoff": 15
           },
           "zerolinecolor": "white",
           "zerolinewidth": 2
          },
          "yaxis": {
           "automargin": true,
           "gridcolor": "white",
           "linecolor": "white",
           "ticks": "",
           "title": {
            "standoff": 15
           },
           "zerolinecolor": "white",
           "zerolinewidth": 2
          }
         }
        },
        "title": {
         "text": "Distribución de la cantidad de habitaciones promedio por vivienda en una ciudad"
        },
        "xaxis": {
         "anchor": "y",
         "domain": [
          0,
          1
         ]
        },
        "yaxis": {
         "anchor": "x",
         "domain": [
          0,
          1
         ],
         "title": {
          "text": "RM"
         }
        }
       }
      }
     },
     "metadata": {},
     "output_type": "display_data"
    }
   ],
   "source": [
    "fig = px.box(X_train_imputado_df, y=\"RM\", points='all',\n",
    "            title='Distribución de la cantidad de habitaciones promedio por vivienda en una ciudad')\n",
    "fig.show()  "
   ]
  },
  {
   "cell_type": "code",
   "execution_count": 34,
   "metadata": {},
   "outputs": [
    {
     "data": {
      "application/vnd.plotly.v1+json": {
       "config": {
        "plotlyServerURL": "https://plot.ly"
       },
       "data": [
        {
         "hovertemplate": "Porcentaje de población de menor estatus socioeconómico=%{x}<br>Tasa de criminalidad per cápita por ciudad=%{y}<extra></extra>",
         "legendgroup": "",
         "marker": {
          "color": "#636efa",
          "symbol": "circle"
         },
         "mode": "markers",
         "name": "",
         "orientation": "v",
         "showlegend": false,
         "type": "scatter",
         "x": [
          7.6,
          11.72,
          16.22,
          4.74,
          16.65,
          10.45,
          16.74,
          8.51,
          9.52,
          12.14,
          9.369463547961638,
          6.27,
          6.65,
          28.28,
          7.79,
          22.98,
          3.95,
          5.21,
          5.33,
          16.29,
          3.26,
          7.79,
          11.5,
          12.92,
          22.006896744317377,
          3.53,
          6.12,
          18.46,
          7.19,
          1.8497460933669636,
          3.33,
          6.36,
          5.08,
          3.76,
          18.05,
          15.17,
          4.03,
          18.66,
          7.51,
          6.92,
          9.62,
          8.61,
          2.47,
          14.19,
          16.94,
          8.2,
          6.57,
          16.42,
          10.29,
          17.1,
          16.23,
          7.14,
          14.37,
          18.06,
          23.24,
          30.81,
          14.59,
          18.71,
          18.72,
          7.12,
          29.68,
          17.79,
          9.08,
          4.38,
          19.78,
          9.797430586214276,
          8.784322384785566,
          7.88,
          10.19,
          3.3898709882209084,
          29.05,
          34.42448372158688,
          23.98,
          4.97,
          9.93,
          11.45,
          5.12,
          14.13,
          14.15,
          10.53,
          5.39,
          17.15,
          30.62,
          6.47,
          7.2,
          10.11,
          13,
          4.84,
          11.338741705515663,
          16.35,
          20.45,
          12.87,
          4.82,
          5.81,
          21.236642938773322,
          2.98,
          5.91,
          12.03,
          14.27,
          22.013938609751612,
          26.82,
          12.79,
          10.11,
          9.67,
          19.31,
          19.69,
          10.3,
          10.74,
          7.7,
          9.5,
          12.01,
          13.51,
          5.89,
          13.45,
          10.4,
          19.01,
          15.71,
          10.26,
          6.21,
          9.54,
          9.53,
          5.98,
          9.29,
          22.6,
          9.45,
          10.45,
          14.76,
          9.28,
          6.72,
          5.49,
          29.93,
          9.22,
          12.26,
          26.96859523517686,
          25.68,
          7.56,
          7.542757281093364,
          15.17,
          7.01,
          14.1,
          3.76,
          36.22030051545128,
          5.04,
          15.79,
          7.6,
          4.08,
          7.033962434211352,
          3.57,
          6.56,
          13.61,
          9.68,
          11.22,
          23.6,
          8.16,
          13.98,
          17.6,
          10.59,
          4.7,
          16.2,
          16.14,
          17.16,
          24.16,
          8.01,
          4.85,
          17.28,
          27.8,
          14.7,
          7.44,
          12.12,
          29.29,
          14.65,
          17.6,
          16.03,
          7.74,
          9.38,
          6.36,
          34.02,
          7.18,
          15.94,
          3.95,
          2.96,
          19.15,
          8.1,
          15.12,
          4.59,
          13.11,
          3.53,
          7.54,
          21.45,
          23.34,
          13.22,
          8.47,
          16.21,
          10.36,
          12.902000000000001,
          7.26,
          13.83,
          7.9,
          10.5,
          14.79,
          3.7,
          4.45,
          9.42,
          19.52,
          26.4,
          15.1,
          18.8,
          3.92,
          6.53,
          23.98,
          27.38945255488868,
          4.59,
          18.377380808371125,
          28.233686713517518,
          15.02,
          4.81,
          4.61,
          17.914800540035195,
          6.72,
          5.52,
          14.8,
          8.05,
          11.69,
          6.75,
          16.59,
          20.08,
          12.03,
          10.24,
          17.27,
          11.32,
          4.56,
          8.88,
          3.73,
          5.33,
          8.1,
          6.43,
          12.27,
          11.12,
          31.99,
          11.66,
          13.27,
          6.58,
          11.64,
          13.44,
          7.454000000000001,
          30.81,
          4.67,
          9.97,
          10.88,
          9.81,
          18.14,
          16.47,
          3.13,
          14.36,
          2.88,
          12.86,
          8.43,
          11.65,
          7.79,
          1.98,
          7.22,
          33.964323934160184,
          4.69,
          18.85,
          8.05,
          18.76,
          6.59,
          15.7,
          8.93,
          21.22,
          10.15,
          21.46,
          18.34,
          8.94,
          4.16,
          4.98,
          23.09,
          12.43,
          9.47,
          9.14,
          12.5,
          4.56,
          13.847034045044552,
          8.77,
          6.05,
          5.1,
          12.93,
          24.08,
          6.73,
          9.55,
          22.74,
          10.56,
          21.24,
          7.39,
          14.52,
          36.59082284131298,
          3.59,
          17.11,
          21.02,
          17.44,
          23.578753485279368,
          13.44,
          20.32,
          7.67,
          29.55,
          5.64,
          13.34,
          8.26,
          20.85,
          3.01,
          17.27,
          11.1,
          21.681442802869025,
          34.37,
          5.57,
          13.701189916002198,
          18.618000000000002,
          14,
          34.41,
          9.51,
          8.626,
          12.242017502093535,
          6.07,
          7.85,
          18.13,
          5.68,
          9.332422338324214,
          9.64,
          9.8,
          26.77,
          15.39,
          5.25,
          14.64,
          33.50948411913141,
          10.97,
          4.5,
          3.54,
          15.935249463409473,
          20.62,
          13.04,
          26.45,
          5.19,
          24.56,
          7.53,
          30.494821714383157,
          19.77,
          12.33,
          10.771067386256288,
          12.873456489377762,
          21.14,
          9.09,
          5.5,
          6.87,
          15.03,
          3.81,
          9.43,
          18.68,
          29.53,
          14.98,
          21.32,
          22.11,
          23.27,
          4.32,
          3.56,
          6.78,
          21.32,
          12.67,
          27.38,
          5.49,
          24.73920000104434,
          4.86,
          3.11,
          14.69,
          8.67,
          16.3,
          6.29,
          15.76,
          24.417973802452707,
          9.97,
          15.55,
          21.78,
          23.79,
          8.58,
          34.77,
          8.65,
          14.44,
          21.52,
          12.67,
          2.94,
          18.06,
          13.270876490261795,
          7.73,
          6.86,
          6.48,
          11.98,
          17.31,
          26.64,
          30.63,
          1.73,
          11.38,
          2.97,
          11.97,
          18.03,
          12.4,
          17.93,
          9.88,
          13.33,
          2.87,
          23.69,
          25.41,
          16.739067613077225,
          36.98,
          12.43,
          5.9,
          16.96,
          3.11,
          24.1,
          9.1,
          14.81,
          12.64,
          11.41,
          6.68,
          17.64,
          16.51,
          7.43,
          10.377837688093798,
          13.15,
          14.1,
          4.45,
          14.43,
          6.62,
          13.09,
          17.09,
          27.789443492236657,
          19.50053827581758,
          9.74,
          9.16,
          14.09,
          5.7,
          14.67,
          5.29,
          9.25,
          10.16,
          7.34
         ],
         "xaxis": "x",
         "y": [
          0.0459,
          0.26169,
          5.58107,
          0.05561,
          2.15505,
          0.14231,
          8.24809,
          0.03306,
          0.16439,
          1.80028,
          14.775853376335638,
          0.12932,
          0.12204,
          24.3938,
          4.54192,
          67.9208,
          0.33147,
          0.02985,
          0.06664,
          4.34879,
          4.89822,
          0.07244,
          0.25356,
          0.23912,
          17.603753319026413,
          0.08221,
          0.34109,
          0.54452,
          0.07978,
          42.28954390795808,
          0.03502,
          0.41238,
          0.19186,
          0.03578,
          14.4208,
          13.9134,
          0.02729,
          0.1712,
          0.03551,
          0.06642,
          0.05059,
          0.04666,
          0.57529,
          3.83684,
          8.20058,
          0.03932,
          0.04819,
          4.81213,
          5.82115,
          0.17004,
          7.75223,
          0.03871,
          0.06899,
          0.15086,
          15.288,
          16.8118,
          0.35233,
          9.51363,
          1.23247,
          4.55587,
          0.20746,
          6.28807,
          0.04527,
          0.01439,
          14.4383,
          46.6368481028652,
          33.20526280980727,
          0.04741,
          3.67822,
          38.608079332194464,
          18.0846,
          31.727226695362056,
          0.37578,
          0.06466,
          0.62356,
          4.83567,
          0.61154,
          3.1636,
          0.18836,
          0.03113,
          0.0837,
          3.77498,
          14.3337,
          0.07503,
          0.1676,
          0.07022,
          0.10793,
          0.12744,
          61.30105009564674,
          13.3598,
          0.22489,
          4.03841,
          0.09103,
          0.1415,
          48.48542526777317,
          0.09604,
          0.52014,
          2.3139,
          0.07165,
          73.60574688167819,
          3.32105,
          0.24103,
          51.1358,
          0.06263,
          7.52601,
          10.0623,
          0.15098,
          5.82401,
          0.35114,
          0.1265,
          0.17331,
          0.0456,
          0.02899,
          0.08873,
          0.08199,
          4.66883,
          0.09378,
          0.63796,
          0.02875,
          0.52058,
          9.2323,
          0.06211,
          0.06151,
          1.13081,
          0.06888,
          0.76162,
          13.0751,
          0.3692,
          0.08826,
          0.0795,
          0.21124,
          0.10328,
          1.19294,
          48.24078376355651,
          11.5779,
          0.06588,
          28.618777847631375,
          8.64476,
          5.73116,
          0.26838,
          0.44178,
          2.0875545367383013,
          0.0578,
          2.14918,
          0.6147,
          0.04011,
          32.504013225881266,
          0.08187,
          0.19073,
          0.14476,
          0.06417,
          0.1029,
          9.18702,
          0.04203,
          0.08308,
          0.17899,
          0.04294,
          0.03615,
          0.21977,
          2.44668,
          8.79212,
          0.2909,
          0.03961,
          0.21038,
          0.95577,
          2.37934,
          6.80117,
          0.57834,
          1.12658,
          2.77974,
          3.69311,
          8.98296,
          0.21719,
          5.70818,
          0.14052,
          0.0187,
          13.6781,
          0.02543,
          0.24522,
          0.01432,
          6.53876,
          0.14455,
          0.05789,
          1.41385,
          0.03705,
          14.3337,
          0.05644,
          0.19539,
          2.73397,
          20.7162,
          7.83932,
          0.62739,
          0.12329,
          0.40202,
          15.636901319026412,
          0.53412,
          0.85204,
          0.26938,
          0.11425,
          0.7857,
          2.01019,
          0.05602,
          0.14866,
          9.72418,
          7.40389,
          0.17783,
          0.22927,
          0.29819,
          0.05735,
          10.6718,
          79.41209743303986,
          1.22358,
          54.95199575927028,
          77.50268659513206,
          3.53501,
          0.01311,
          0.03049,
          50.82292550853006,
          0.03659,
          0.09164,
          0.0136,
          0.44791,
          0.80271,
          0.03738,
          5.66637,
          28.6558,
          6.44405,
          0.04379,
          5.09017,
          2.44953,
          0.0315,
          8.26725,
          5.66998,
          0.06905,
          0.55007,
          1.34284,
          0.12802,
          0.59005,
          22.5971,
          4.64689,
          0.11747,
          1.05393,
          2.24236,
          19.6091,
          0.054966,
          0.25387,
          0.03584,
          0.06617,
          0.33045,
          2.924,
          8.05579,
          0.13262,
          0.38214,
          3.56868,
          0.02009,
          0.05188,
          0.04981,
          0.537,
          0.66351,
          0.03359,
          0.04462,
          64.45462171601062,
          0.06911,
          9.96654,
          0.04301,
          5.29305,
          0.16211,
          7.02259,
          0.05479,
          14.0507,
          0.19657,
          0.40771,
          0.88125,
          0.09512,
          0.06127,
          0.00632,
          0.43571,
          0.08829,
          0.19802,
          0.02731,
          0.20608,
          0.12579,
          65.34928595527286,
          0.08014,
          0.10469,
          0.09068,
          0.01965,
          9.33889,
          0.11027,
          0.12269,
          11.8123,
          0.03041,
          9.82349,
          1.42502,
          37.6619,
          21.57614135088482,
          0.21409,
          6.96215,
          1.25179,
          6.71772,
          79.90201028365807,
          0.21161,
          14.2362,
          0.11432,
          0.28955,
          0.06076,
          2.37857,
          0.62976,
          8.15174,
          0.06129,
          0.17446,
          2.3004,
          47.506294393642634,
          18.811,
          0.10659,
          25.9200897225383,
          0.7593979999999999,
          3.69695,
          1.62864,
          0.04297,
          0.036258,
          76.7573171630574,
          0.04417,
          0.00906,
          9.32909,
          0.05083,
          23.785283403441134,
          0.08447,
          0.03427,
          25.0461,
          0.32543,
          0.46296,
          4.22239,
          30.889446168866368,
          0.22969,
          0.01709,
          0.36894,
          39.72685959053873,
          73.5341,
          1.35472,
          15.1772,
          0.12757,
          7.99248,
          0.04932,
          30.98651856172576,
          24.8017,
          0.1396,
          88.9241270612851,
          5.897879809301404,
          0.2896,
          0.04544,
          1.27346,
          0.18159,
          0.32982,
          0.0351,
          0.04337,
          4.87141,
          2.36862,
          5.69175,
          4.42228,
          22.0511,
          11.1604,
          0.02763,
          0.07886,
          0.07896,
          0.2498,
          0.06162,
          41.5292,
          0.01301,
          29.89073151166757,
          0.1,
          0.01538,
          0.13914,
          0.09266,
          0.75026,
          0.05425,
          0.17134,
          45.877735005789845,
          0.3494,
          0.26363,
          17.8667,
          12.8023,
          0.08265,
          11.1081,
          0.02498,
          0.17171,
          7.36711,
          4.26131,
          0.03237,
          0.25199,
          18.6639659127284,
          0.1146,
          0.15445,
          0.10959,
          1.00245,
          0.97617,
          25.9406,
          20.0849,
          1.46336,
          0.11329,
          0.01381,
          0.10153,
          10.233,
          0.10612,
          0.09299,
          0.15876,
          13.5222,
          0.08664,
          23.6482,
          0.15038,
          4.118276867848198,
          45.7461,
          0.05023,
          0.1403,
          0.55778,
          0.02177,
          6.39312,
          0.08387,
          0.16902,
          2.63548,
          0.09744,
          0.07875,
          8.49213,
          0.84054,
          0.03445,
          44.530055173763884,
          0.06047,
          1.6566,
          0.01778,
          1.20742,
          0.03768,
          0.13554,
          0.22212,
          12.510504339240988,
          36.759157149347416,
          0.05497,
          0.33983,
          0.13117,
          0.05302,
          0.7842,
          0.04113,
          0.03548,
          0.10084,
          0.06724
         ],
         "yaxis": "y"
        }
       ],
       "layout": {
        "legend": {
         "tracegroupgap": 0
        },
        "template": {
         "data": {
          "bar": [
           {
            "error_x": {
             "color": "#2a3f5f"
            },
            "error_y": {
             "color": "#2a3f5f"
            },
            "marker": {
             "line": {
              "color": "#E5ECF6",
              "width": 0.5
             },
             "pattern": {
              "fillmode": "overlay",
              "size": 10,
              "solidity": 0.2
             }
            },
            "type": "bar"
           }
          ],
          "barpolar": [
           {
            "marker": {
             "line": {
              "color": "#E5ECF6",
              "width": 0.5
             },
             "pattern": {
              "fillmode": "overlay",
              "size": 10,
              "solidity": 0.2
             }
            },
            "type": "barpolar"
           }
          ],
          "carpet": [
           {
            "aaxis": {
             "endlinecolor": "#2a3f5f",
             "gridcolor": "white",
             "linecolor": "white",
             "minorgridcolor": "white",
             "startlinecolor": "#2a3f5f"
            },
            "baxis": {
             "endlinecolor": "#2a3f5f",
             "gridcolor": "white",
             "linecolor": "white",
             "minorgridcolor": "white",
             "startlinecolor": "#2a3f5f"
            },
            "type": "carpet"
           }
          ],
          "choropleth": [
           {
            "colorbar": {
             "outlinewidth": 0,
             "ticks": ""
            },
            "type": "choropleth"
           }
          ],
          "contour": [
           {
            "colorbar": {
             "outlinewidth": 0,
             "ticks": ""
            },
            "colorscale": [
             [
              0,
              "#0d0887"
             ],
             [
              0.1111111111111111,
              "#46039f"
             ],
             [
              0.2222222222222222,
              "#7201a8"
             ],
             [
              0.3333333333333333,
              "#9c179e"
             ],
             [
              0.4444444444444444,
              "#bd3786"
             ],
             [
              0.5555555555555556,
              "#d8576b"
             ],
             [
              0.6666666666666666,
              "#ed7953"
             ],
             [
              0.7777777777777778,
              "#fb9f3a"
             ],
             [
              0.8888888888888888,
              "#fdca26"
             ],
             [
              1,
              "#f0f921"
             ]
            ],
            "type": "contour"
           }
          ],
          "contourcarpet": [
           {
            "colorbar": {
             "outlinewidth": 0,
             "ticks": ""
            },
            "type": "contourcarpet"
           }
          ],
          "heatmap": [
           {
            "colorbar": {
             "outlinewidth": 0,
             "ticks": ""
            },
            "colorscale": [
             [
              0,
              "#0d0887"
             ],
             [
              0.1111111111111111,
              "#46039f"
             ],
             [
              0.2222222222222222,
              "#7201a8"
             ],
             [
              0.3333333333333333,
              "#9c179e"
             ],
             [
              0.4444444444444444,
              "#bd3786"
             ],
             [
              0.5555555555555556,
              "#d8576b"
             ],
             [
              0.6666666666666666,
              "#ed7953"
             ],
             [
              0.7777777777777778,
              "#fb9f3a"
             ],
             [
              0.8888888888888888,
              "#fdca26"
             ],
             [
              1,
              "#f0f921"
             ]
            ],
            "type": "heatmap"
           }
          ],
          "heatmapgl": [
           {
            "colorbar": {
             "outlinewidth": 0,
             "ticks": ""
            },
            "colorscale": [
             [
              0,
              "#0d0887"
             ],
             [
              0.1111111111111111,
              "#46039f"
             ],
             [
              0.2222222222222222,
              "#7201a8"
             ],
             [
              0.3333333333333333,
              "#9c179e"
             ],
             [
              0.4444444444444444,
              "#bd3786"
             ],
             [
              0.5555555555555556,
              "#d8576b"
             ],
             [
              0.6666666666666666,
              "#ed7953"
             ],
             [
              0.7777777777777778,
              "#fb9f3a"
             ],
             [
              0.8888888888888888,
              "#fdca26"
             ],
             [
              1,
              "#f0f921"
             ]
            ],
            "type": "heatmapgl"
           }
          ],
          "histogram": [
           {
            "marker": {
             "pattern": {
              "fillmode": "overlay",
              "size": 10,
              "solidity": 0.2
             }
            },
            "type": "histogram"
           }
          ],
          "histogram2d": [
           {
            "colorbar": {
             "outlinewidth": 0,
             "ticks": ""
            },
            "colorscale": [
             [
              0,
              "#0d0887"
             ],
             [
              0.1111111111111111,
              "#46039f"
             ],
             [
              0.2222222222222222,
              "#7201a8"
             ],
             [
              0.3333333333333333,
              "#9c179e"
             ],
             [
              0.4444444444444444,
              "#bd3786"
             ],
             [
              0.5555555555555556,
              "#d8576b"
             ],
             [
              0.6666666666666666,
              "#ed7953"
             ],
             [
              0.7777777777777778,
              "#fb9f3a"
             ],
             [
              0.8888888888888888,
              "#fdca26"
             ],
             [
              1,
              "#f0f921"
             ]
            ],
            "type": "histogram2d"
           }
          ],
          "histogram2dcontour": [
           {
            "colorbar": {
             "outlinewidth": 0,
             "ticks": ""
            },
            "colorscale": [
             [
              0,
              "#0d0887"
             ],
             [
              0.1111111111111111,
              "#46039f"
             ],
             [
              0.2222222222222222,
              "#7201a8"
             ],
             [
              0.3333333333333333,
              "#9c179e"
             ],
             [
              0.4444444444444444,
              "#bd3786"
             ],
             [
              0.5555555555555556,
              "#d8576b"
             ],
             [
              0.6666666666666666,
              "#ed7953"
             ],
             [
              0.7777777777777778,
              "#fb9f3a"
             ],
             [
              0.8888888888888888,
              "#fdca26"
             ],
             [
              1,
              "#f0f921"
             ]
            ],
            "type": "histogram2dcontour"
           }
          ],
          "mesh3d": [
           {
            "colorbar": {
             "outlinewidth": 0,
             "ticks": ""
            },
            "type": "mesh3d"
           }
          ],
          "parcoords": [
           {
            "line": {
             "colorbar": {
              "outlinewidth": 0,
              "ticks": ""
             }
            },
            "type": "parcoords"
           }
          ],
          "pie": [
           {
            "automargin": true,
            "type": "pie"
           }
          ],
          "scatter": [
           {
            "fillpattern": {
             "fillmode": "overlay",
             "size": 10,
             "solidity": 0.2
            },
            "type": "scatter"
           }
          ],
          "scatter3d": [
           {
            "line": {
             "colorbar": {
              "outlinewidth": 0,
              "ticks": ""
             }
            },
            "marker": {
             "colorbar": {
              "outlinewidth": 0,
              "ticks": ""
             }
            },
            "type": "scatter3d"
           }
          ],
          "scattercarpet": [
           {
            "marker": {
             "colorbar": {
              "outlinewidth": 0,
              "ticks": ""
             }
            },
            "type": "scattercarpet"
           }
          ],
          "scattergeo": [
           {
            "marker": {
             "colorbar": {
              "outlinewidth": 0,
              "ticks": ""
             }
            },
            "type": "scattergeo"
           }
          ],
          "scattergl": [
           {
            "marker": {
             "colorbar": {
              "outlinewidth": 0,
              "ticks": ""
             }
            },
            "type": "scattergl"
           }
          ],
          "scattermapbox": [
           {
            "marker": {
             "colorbar": {
              "outlinewidth": 0,
              "ticks": ""
             }
            },
            "type": "scattermapbox"
           }
          ],
          "scatterpolar": [
           {
            "marker": {
             "colorbar": {
              "outlinewidth": 0,
              "ticks": ""
             }
            },
            "type": "scatterpolar"
           }
          ],
          "scatterpolargl": [
           {
            "marker": {
             "colorbar": {
              "outlinewidth": 0,
              "ticks": ""
             }
            },
            "type": "scatterpolargl"
           }
          ],
          "scatterternary": [
           {
            "marker": {
             "colorbar": {
              "outlinewidth": 0,
              "ticks": ""
             }
            },
            "type": "scatterternary"
           }
          ],
          "surface": [
           {
            "colorbar": {
             "outlinewidth": 0,
             "ticks": ""
            },
            "colorscale": [
             [
              0,
              "#0d0887"
             ],
             [
              0.1111111111111111,
              "#46039f"
             ],
             [
              0.2222222222222222,
              "#7201a8"
             ],
             [
              0.3333333333333333,
              "#9c179e"
             ],
             [
              0.4444444444444444,
              "#bd3786"
             ],
             [
              0.5555555555555556,
              "#d8576b"
             ],
             [
              0.6666666666666666,
              "#ed7953"
             ],
             [
              0.7777777777777778,
              "#fb9f3a"
             ],
             [
              0.8888888888888888,
              "#fdca26"
             ],
             [
              1,
              "#f0f921"
             ]
            ],
            "type": "surface"
           }
          ],
          "table": [
           {
            "cells": {
             "fill": {
              "color": "#EBF0F8"
             },
             "line": {
              "color": "white"
             }
            },
            "header": {
             "fill": {
              "color": "#C8D4E3"
             },
             "line": {
              "color": "white"
             }
            },
            "type": "table"
           }
          ]
         },
         "layout": {
          "annotationdefaults": {
           "arrowcolor": "#2a3f5f",
           "arrowhead": 0,
           "arrowwidth": 1
          },
          "autotypenumbers": "strict",
          "coloraxis": {
           "colorbar": {
            "outlinewidth": 0,
            "ticks": ""
           }
          },
          "colorscale": {
           "diverging": [
            [
             0,
             "#8e0152"
            ],
            [
             0.1,
             "#c51b7d"
            ],
            [
             0.2,
             "#de77ae"
            ],
            [
             0.3,
             "#f1b6da"
            ],
            [
             0.4,
             "#fde0ef"
            ],
            [
             0.5,
             "#f7f7f7"
            ],
            [
             0.6,
             "#e6f5d0"
            ],
            [
             0.7,
             "#b8e186"
            ],
            [
             0.8,
             "#7fbc41"
            ],
            [
             0.9,
             "#4d9221"
            ],
            [
             1,
             "#276419"
            ]
           ],
           "sequential": [
            [
             0,
             "#0d0887"
            ],
            [
             0.1111111111111111,
             "#46039f"
            ],
            [
             0.2222222222222222,
             "#7201a8"
            ],
            [
             0.3333333333333333,
             "#9c179e"
            ],
            [
             0.4444444444444444,
             "#bd3786"
            ],
            [
             0.5555555555555556,
             "#d8576b"
            ],
            [
             0.6666666666666666,
             "#ed7953"
            ],
            [
             0.7777777777777778,
             "#fb9f3a"
            ],
            [
             0.8888888888888888,
             "#fdca26"
            ],
            [
             1,
             "#f0f921"
            ]
           ],
           "sequentialminus": [
            [
             0,
             "#0d0887"
            ],
            [
             0.1111111111111111,
             "#46039f"
            ],
            [
             0.2222222222222222,
             "#7201a8"
            ],
            [
             0.3333333333333333,
             "#9c179e"
            ],
            [
             0.4444444444444444,
             "#bd3786"
            ],
            [
             0.5555555555555556,
             "#d8576b"
            ],
            [
             0.6666666666666666,
             "#ed7953"
            ],
            [
             0.7777777777777778,
             "#fb9f3a"
            ],
            [
             0.8888888888888888,
             "#fdca26"
            ],
            [
             1,
             "#f0f921"
            ]
           ]
          },
          "colorway": [
           "#636efa",
           "#EF553B",
           "#00cc96",
           "#ab63fa",
           "#FFA15A",
           "#19d3f3",
           "#FF6692",
           "#B6E880",
           "#FF97FF",
           "#FECB52"
          ],
          "font": {
           "color": "#2a3f5f"
          },
          "geo": {
           "bgcolor": "white",
           "lakecolor": "white",
           "landcolor": "#E5ECF6",
           "showlakes": true,
           "showland": true,
           "subunitcolor": "white"
          },
          "hoverlabel": {
           "align": "left"
          },
          "hovermode": "closest",
          "mapbox": {
           "style": "light"
          },
          "paper_bgcolor": "white",
          "plot_bgcolor": "#E5ECF6",
          "polar": {
           "angularaxis": {
            "gridcolor": "white",
            "linecolor": "white",
            "ticks": ""
           },
           "bgcolor": "#E5ECF6",
           "radialaxis": {
            "gridcolor": "white",
            "linecolor": "white",
            "ticks": ""
           }
          },
          "scene": {
           "xaxis": {
            "backgroundcolor": "#E5ECF6",
            "gridcolor": "white",
            "gridwidth": 2,
            "linecolor": "white",
            "showbackground": true,
            "ticks": "",
            "zerolinecolor": "white"
           },
           "yaxis": {
            "backgroundcolor": "#E5ECF6",
            "gridcolor": "white",
            "gridwidth": 2,
            "linecolor": "white",
            "showbackground": true,
            "ticks": "",
            "zerolinecolor": "white"
           },
           "zaxis": {
            "backgroundcolor": "#E5ECF6",
            "gridcolor": "white",
            "gridwidth": 2,
            "linecolor": "white",
            "showbackground": true,
            "ticks": "",
            "zerolinecolor": "white"
           }
          },
          "shapedefaults": {
           "line": {
            "color": "#2a3f5f"
           }
          },
          "ternary": {
           "aaxis": {
            "gridcolor": "white",
            "linecolor": "white",
            "ticks": ""
           },
           "baxis": {
            "gridcolor": "white",
            "linecolor": "white",
            "ticks": ""
           },
           "bgcolor": "#E5ECF6",
           "caxis": {
            "gridcolor": "white",
            "linecolor": "white",
            "ticks": ""
           }
          },
          "title": {
           "x": 0.05
          },
          "xaxis": {
           "automargin": true,
           "gridcolor": "white",
           "linecolor": "white",
           "ticks": "",
           "title": {
            "standoff": 15
           },
           "zerolinecolor": "white",
           "zerolinewidth": 2
          },
          "yaxis": {
           "automargin": true,
           "gridcolor": "white",
           "linecolor": "white",
           "ticks": "",
           "title": {
            "standoff": 15
           },
           "zerolinecolor": "white",
           "zerolinewidth": 2
          }
         }
        },
        "title": {
         "text": "Tasa de criminalidad por % de población de menor estatus socioeconómico"
        },
        "xaxis": {
         "anchor": "y",
         "domain": [
          0,
          1
         ],
         "title": {
          "text": "Porcentaje de población de menor estatus socioeconómico"
         }
        },
        "yaxis": {
         "anchor": "x",
         "domain": [
          0,
          1
         ],
         "title": {
          "text": "Tasa de criminalidad per cápita por ciudad"
         }
        }
       }
      }
     },
     "metadata": {},
     "output_type": "display_data"
    }
   ],
   "source": [
    "fig = px.scatter(x=X_train_imputado_df['LSTAT'], y=X_train_imputado_df['CRIM'], \n",
    "                title='Tasa de criminalidad por % de población de menor estatus socioeconómico'\n",
    "                , labels={'x':'Porcentaje de población de menor estatus socioeconómico',\n",
    "                            'y':'Tasa de criminalidad per cápita por ciudad'})\n",
    "fig.show()\n"
   ]
  },
  {
   "cell_type": "code",
   "execution_count": 53,
   "metadata": {},
   "outputs": [
    {
     "data": {
      "application/vnd.plotly.v1+json": {
       "config": {
        "plotlyServerURL": "https://plot.ly"
       },
       "data": [
        {
         "hovertemplate": "CHAS=0.0<br>Concentración de óxidos de nitrógeno/10M=%{x}<br>Proporción de acres de negocios no minoristas por ciudad=%{y}<extra></extra>",
         "legendgroup": "0.0",
         "marker": {
          "color": "#636efa",
          "symbol": "circle"
         },
         "mode": "markers",
         "name": "0.0",
         "orientation": "v",
         "showlegend": true,
         "type": "scatter",
         "x": [
          0.405,
          0.544,
          0.713,
          0.4,
          0.871,
          0.547,
          0.713,
          0.515,
          0.431,
          0.605,
          0.8221692468723252,
          0.437,
          0.445,
          0.7,
          0.77,
          0.693,
          0.507,
          0.458,
          0.51,
          0.58,
          0.631,
          0.411,
          0.544,
          0.585,
          0.4782965644223388,
          0.431,
          0.493,
          0.624,
          0.447,
          0.7504013913799813,
          0.411,
          0.504,
          0.493,
          0.4429,
          0.74,
          0.713,
          0.469,
          0.52,
          0.426,
          0.51,
          0.449,
          0.404,
          0.507,
          0.77,
          0.713,
          0.489,
          0.392,
          0.713,
          0.713,
          0.524,
          0.713,
          0.405,
          0.581,
          0.609,
          0.671,
          0.7,
          0.624,
          0.713,
          0.538,
          0.718,
          0.609,
          0.74,
          0.573,
          0.401,
          0.597,
          0.6546728883439508,
          0.573,
          0.77,
          0.679,
          0.7229606947596592,
          0.4,
          0.583,
          0.647,
          0.655,
          0.448,
          0.442,
          0.437,
          0.655,
          0.7,
          0.472,
          0.493,
          0.51,
          0.52,
          0.448,
          0.693,
          0.524,
          0.532,
          0.488,
          0.448,
          0.6254933895508696,
          0.447,
          0.647,
          0.605,
          0.581,
          0.6136851052826168,
          0.493,
          0.597,
          0.573,
          0.713,
          0.584,
          0.547,
          0.532,
          0.493,
          0.453,
          0.585,
          0.429,
          0.439,
          0.437,
          0.713,
          0.524,
          0.538,
          0.464,
          0.631,
          0.429,
          0.515,
          0.538,
          0.488,
          0.647,
          0.58,
          0.544,
          0.413,
          0.411,
          0.524,
          0.453,
          0.624,
          0.6849368181424936,
          0.7,
          0.488,
          0.8215291362683108,
          0.693,
          0.532,
          0.585,
          0.504,
          0.6913231818390418,
          0.488,
          0.871,
          0.507,
          0.404,
          0.445,
          0.431,
          0.547,
          0.499,
          0.428,
          0.7,
          0.464,
          0.488,
          0.585,
          0.464,
          0.411,
          0.448,
          0.871,
          0.584,
          0.624,
          0.515,
          0.4429,
          0.538,
          0.871,
          0.713,
          0.575,
          0.871,
          0.713,
          0.532,
          0.489,
          0.429,
          0.74,
          0.484,
          0.544,
          0.411,
          0.524,
          0.409,
          0.4429,
          0.614,
          0.413,
          0.871,
          0.659,
          0.655,
          0.538,
          0.547,
          0.544,
          0.4624902918103059,
          0.647,
          0.538,
          0.544,
          0.647,
          0.605,
          0.488,
          0.52,
          0.74,
          0.597,
          0.585,
          0.448,
          0.504,
          0.449,
          0.74,
          0.605,
          0.8391612333545906,
          0.5204514590515297,
          0.403,
          0.484,
          0.723264831962899,
          0.426,
          0.413,
          0.41,
          0.538,
          0.515,
          0.74,
          0.597,
          0.584,
          0.398,
          0.713,
          0.605,
          0.403,
          0.458,
          0.647,
          0.605,
          0.52,
          0.624,
          0.7,
          0.614,
          0.524,
          0.538,
          0.605,
          0.671,
          0.4338,
          0.448,
          0.398,
          0.46,
          0.507,
          0.605,
          0.584,
          0.52,
          0.504,
          0.58,
          0.4161,
          0.449,
          0.439,
          0.504,
          0.647,
          0.428,
          0.426,
          0.437,
          0.74,
          0.413,
          0.7,
          0.464,
          0.718,
          0.472,
          0.597,
          0.431,
          0.624,
          0.437,
          0.538,
          0.524,
          0.489,
          0.469,
          0.431,
          0.437,
          0.6923378888457619,
          0.499,
          0.437,
          0.385,
          0.679,
          0.453,
          0.448,
          0.718,
          0.515,
          0.671,
          0.871,
          0.679,
          0.6429819733042967,
          0.431,
          0.7,
          0.538,
          0.713,
          0.6891405248889492,
          0.52,
          0.693,
          0.52,
          0.489,
          0.573,
          0.583,
          0.538,
          0.7,
          0.605,
          0.695329355868506,
          0.597,
          0.413,
          0.6295421821858811,
          0.624,
          0.718,
          0.624,
          0.405,
          0.4058,
          0.4,
          0.4,
          0.713,
          0.515,
          0.8590666831404782,
          0.51,
          0.515,
          0.693,
          0.624,
          0.504,
          0.4882083750151412,
          0.489,
          0.41,
          0.431,
          0.679,
          0.538,
          0.74,
          0.428,
          0.7,
          0.472,
          0.7475686374821411,
          0.693,
          0.52,
          0.5579058905715946,
          0.585,
          0.46,
          0.493,
          0.624,
          0.4161,
          0.439,
          0.614,
          0.871,
          0.583,
          0.584,
          0.74,
          0.74,
          0.428,
          0.411,
          0.437,
          0.624,
          0.442,
          0.693,
          0.442,
          0.6735945601363931,
          0.433,
          0.394,
          0.51,
          0.433,
          0.538,
          0.51,
          0.547,
          0.6517999999999999,
          0.544,
          0.52,
          0.671,
          0.74,
          0.437,
          0.668,
          0.518,
          0.453,
          0.679,
          0.77,
          0.458,
          0.489,
          0.6963554316437446,
          0.464,
          0.453,
          0.573,
          0.538,
          0.624,
          0.679,
          0.7,
          0.605,
          0.428,
          0.422,
          0.437,
          0.614,
          0.428,
          0.581,
          0.413,
          0.631,
          0.437,
          0.671,
          0.581,
          0.5884474357856453,
          0.693,
          0.4379,
          0.431,
          0.624,
          0.415,
          0.584,
          0.437,
          0.581,
          0.544,
          0.499,
          0.437,
          0.584,
          0.538,
          0.415,
          0.4205791971926084,
          0.488,
          0.871,
          0.403,
          0.605,
          0.404,
          0.409,
          0.547,
          0.6649921389519318,
          0.515,
          0.431,
          0.52,
          0.489,
          0.538,
          0.426,
          0.392,
          0.547,
          0.46
         ],
         "xaxis": "x",
         "y": [
          5.32,
          9.9,
          18.1,
          2.24,
          19.58,
          10.01,
          18.1,
          5.19,
          5.86,
          19.58,
          21.762445646801627,
          13.92,
          2.89,
          18.1,
          18.1,
          18.1,
          6.2,
          2.18,
          4.05,
          18.1,
          18.1,
          1.69,
          9.9,
          9.69,
          6.456379117063311,
          5.86,
          7.38,
          21.89,
          6.41,
          21.532517121972877,
          4.95,
          6.2,
          7.38,
          3.33,
          18.1,
          18.1,
          7.07,
          8.56,
          4.86,
          4.05,
          4.49,
          1.52,
          6.2,
          18.1,
          18.1,
          3.41,
          3.64,
          18.1,
          18.1,
          7.87,
          18.1,
          5.32,
          25.65,
          27.74,
          18.1,
          18.1,
          21.89,
          18.1,
          8.14,
          18.1,
          27.74,
          18.1,
          11.93,
          2.93,
          18.1,
          0.595217427490333,
          11.93,
          18.1,
          18.1,
          15.25370545781752,
          2.24,
          18.1,
          3.97,
          18.1,
          6.91,
          4.39,
          3.44,
          18.1,
          18.1,
          2.18,
          7.38,
          4.05,
          8.56,
          6.91,
          18.1,
          7.87,
          18.1,
          2.46,
          6.91,
          5.476666818910738,
          6.41,
          3.97,
          19.58,
          25.65,
          12.740286271535728,
          7.38,
          18.1,
          11.93,
          18.1,
          18.1,
          10.01,
          18.1,
          7.38,
          5.13,
          9.69,
          1.25,
          5.64,
          13.92,
          18.1,
          7.87,
          8.14,
          15.04,
          18.1,
          1.25,
          5.19,
          8.14,
          2.46,
          3.97,
          18.1,
          9.9,
          10.81,
          1.69,
          7.87,
          5.13,
          21.89,
          12.02726339845143,
          18.1,
          2.46,
          22.30308517670541,
          18.1,
          18.1,
          9.69,
          6.2,
          3.7731244814882983,
          2.46,
          19.58,
          6.2,
          1.52,
          2.89,
          5.86,
          10.01,
          5.96,
          4.93,
          18.1,
          15.04,
          2.46,
          9.69,
          15.04,
          4.95,
          6.91,
          19.58,
          18.1,
          21.89,
          5.19,
          3.33,
          8.14,
          19.58,
          18.1,
          3.97,
          19.58,
          18.1,
          18.1,
          10.59,
          4.15,
          18.1,
          3.78,
          9.9,
          1.32,
          7.87,
          6.07,
          3.33,
          18.1,
          10.81,
          19.58,
          18.1,
          18.1,
          8.14,
          10.01,
          9.9,
          1.0407090245766608,
          3.97,
          8.14,
          9.9,
          3.97,
          19.58,
          2.46,
          8.56,
          18.1,
          18.1,
          9.69,
          6.91,
          6.2,
          4.49,
          18.1,
          19.58,
          12.427680176914055,
          4.788241017551879,
          1.22,
          3.78,
          15.523638251066878,
          4.86,
          10.81,
          4,
          8.14,
          5.19,
          18.1,
          18.1,
          18.1,
          3.37,
          18.1,
          19.58,
          1.47,
          2.18,
          3.97,
          19.58,
          8.56,
          21.89,
          18.1,
          18.1,
          7.87,
          8.14,
          19.58,
          18.1,
          4.674,
          6.91,
          3.37,
          3.24,
          6.2,
          19.58,
          18.1,
          8.56,
          6.2,
          18.1,
          2.68,
          4.49,
          5.64,
          6.2,
          3.97,
          2.95,
          4.86,
          3.44,
          18.1,
          1.91,
          18.1,
          6.96,
          18.1,
          2.18,
          18.1,
          5.86,
          21.89,
          12.83,
          2.31,
          7.87,
          10.59,
          7.07,
          5.86,
          3.44,
          17.76547305106791,
          5.96,
          3.44,
          1.76,
          18.1,
          5.13,
          6.91,
          18.1,
          5.19,
          18.1,
          19.58,
          18.1,
          3.889001167819463,
          5.86,
          18.1,
          8.14,
          18.1,
          11.30580297425885,
          8.56,
          18.1,
          8.56,
          10.59,
          11.93,
          18.1,
          8.14,
          18.1,
          19.58,
          7.577293682733395,
          18.1,
          1.91,
          10.91348946472158,
          21.89,
          18.1,
          21.89,
          5.32,
          4.296,
          2.24,
          2.97,
          18.1,
          5.19,
          21.00648508424244,
          4.05,
          5.19,
          18.1,
          21.89,
          6.2,
          4.839805720897243,
          10.59,
          2.02,
          5.86,
          18.1,
          8.14,
          18.1,
          4.93,
          18.1,
          2.18,
          8.827191396089255,
          18.1,
          8.56,
          11.031395656166152,
          9.69,
          3.24,
          7.38,
          21.89,
          2.68,
          5.64,
          18.1,
          19.58,
          18.1,
          18.1,
          18.1,
          18.1,
          2.95,
          4.95,
          12.83,
          21.89,
          4.39,
          18.1,
          1.52,
          7.590568494155573,
          6.09,
          3.75,
          4.05,
          6.09,
          8.14,
          4.05,
          10.01,
          4.532716043571289,
          9.9,
          8.56,
          18.1,
          18.1,
          13.92,
          18.1,
          1.89,
          5.13,
          18.1,
          18.1,
          2.18,
          10.59,
          15.099883819815622,
          6.96,
          5.13,
          11.93,
          8.14,
          21.89,
          18.1,
          18.1,
          19.58,
          4.93,
          0.46,
          12.83,
          18.1,
          4.93,
          25.65,
          10.81,
          18.1,
          3.44,
          18.1,
          25.65,
          18.544841072755432,
          18.1,
          6.06,
          5.86,
          21.89,
          2.03,
          18.1,
          12.83,
          25.65,
          9.9,
          5.96,
          3.44,
          18.1,
          8.14,
          2.03,
          4.987914725680765,
          2.46,
          19.58,
          1.47,
          19.58,
          1.52,
          6.07,
          10.01,
          14.40420536377717,
          5.19,
          5.86,
          8.56,
          3.41,
          8.14,
          4.86,
          3.64,
          10.01,
          3.24
         ],
         "yaxis": "y"
        },
        {
         "hovertemplate": "CHAS=1.0<br>Concentración de óxidos de nitrógeno/10M=%{x}<br>Proporción de acres de negocios no minoristas por ciudad=%{y}<extra></extra>",
         "legendgroup": "1.0",
         "marker": {
          "color": "#EF553B",
          "symbol": "circle"
         },
         "mode": "markers",
         "name": "1.0",
         "orientation": "v",
         "showlegend": true,
         "type": "scatter",
         "x": [
          0.7177963401507288,
          0.5903568914867559,
          0.489,
          0.507,
          0.8138963671992945,
          0.871,
          0.55,
          0.507,
          0.7653498435261611,
          0.871,
          0.77,
          0.489,
          0.631,
          0.871,
          0.447,
          0.55,
          0.4302830569923303,
          0.871,
          0.507,
          0.668,
          0.631,
          0.7620582337715829,
          0.507,
          0.447,
          0.489,
          0.447,
          0.4429,
          0.489,
          0.6338790202919784,
          0.77,
          0.6554413441138955,
          0.6039584297488867,
          0.605,
          0.5608116467543166
         ],
         "xaxis": "x",
         "y": [
          23.6763847131168,
          15.551495127478924,
          10.59,
          6.2,
          3.0477751253806336,
          19.58,
          13.89,
          6.2,
          8.937345891048,
          19.58,
          18.1,
          10.59,
          18.1,
          19.58,
          6.41,
          13.89,
          20.9543335783885,
          19.58,
          6.2,
          18.1,
          18.1,
          12.832007623473157,
          6.2,
          6.41,
          10.59,
          6.41,
          3.33,
          10.59,
          26.402542225783943,
          18.1,
          13.613965926417151,
          12.533122316771896,
          19.58,
          20.366936252259304
         ],
         "yaxis": "y"
        }
       ],
       "layout": {
        "legend": {
         "title": {
          "text": "CHAS"
         },
         "tracegroupgap": 0
        },
        "template": {
         "data": {
          "bar": [
           {
            "error_x": {
             "color": "#2a3f5f"
            },
            "error_y": {
             "color": "#2a3f5f"
            },
            "marker": {
             "line": {
              "color": "#E5ECF6",
              "width": 0.5
             },
             "pattern": {
              "fillmode": "overlay",
              "size": 10,
              "solidity": 0.2
             }
            },
            "type": "bar"
           }
          ],
          "barpolar": [
           {
            "marker": {
             "line": {
              "color": "#E5ECF6",
              "width": 0.5
             },
             "pattern": {
              "fillmode": "overlay",
              "size": 10,
              "solidity": 0.2
             }
            },
            "type": "barpolar"
           }
          ],
          "carpet": [
           {
            "aaxis": {
             "endlinecolor": "#2a3f5f",
             "gridcolor": "white",
             "linecolor": "white",
             "minorgridcolor": "white",
             "startlinecolor": "#2a3f5f"
            },
            "baxis": {
             "endlinecolor": "#2a3f5f",
             "gridcolor": "white",
             "linecolor": "white",
             "minorgridcolor": "white",
             "startlinecolor": "#2a3f5f"
            },
            "type": "carpet"
           }
          ],
          "choropleth": [
           {
            "colorbar": {
             "outlinewidth": 0,
             "ticks": ""
            },
            "type": "choropleth"
           }
          ],
          "contour": [
           {
            "colorbar": {
             "outlinewidth": 0,
             "ticks": ""
            },
            "colorscale": [
             [
              0,
              "#0d0887"
             ],
             [
              0.1111111111111111,
              "#46039f"
             ],
             [
              0.2222222222222222,
              "#7201a8"
             ],
             [
              0.3333333333333333,
              "#9c179e"
             ],
             [
              0.4444444444444444,
              "#bd3786"
             ],
             [
              0.5555555555555556,
              "#d8576b"
             ],
             [
              0.6666666666666666,
              "#ed7953"
             ],
             [
              0.7777777777777778,
              "#fb9f3a"
             ],
             [
              0.8888888888888888,
              "#fdca26"
             ],
             [
              1,
              "#f0f921"
             ]
            ],
            "type": "contour"
           }
          ],
          "contourcarpet": [
           {
            "colorbar": {
             "outlinewidth": 0,
             "ticks": ""
            },
            "type": "contourcarpet"
           }
          ],
          "heatmap": [
           {
            "colorbar": {
             "outlinewidth": 0,
             "ticks": ""
            },
            "colorscale": [
             [
              0,
              "#0d0887"
             ],
             [
              0.1111111111111111,
              "#46039f"
             ],
             [
              0.2222222222222222,
              "#7201a8"
             ],
             [
              0.3333333333333333,
              "#9c179e"
             ],
             [
              0.4444444444444444,
              "#bd3786"
             ],
             [
              0.5555555555555556,
              "#d8576b"
             ],
             [
              0.6666666666666666,
              "#ed7953"
             ],
             [
              0.7777777777777778,
              "#fb9f3a"
             ],
             [
              0.8888888888888888,
              "#fdca26"
             ],
             [
              1,
              "#f0f921"
             ]
            ],
            "type": "heatmap"
           }
          ],
          "heatmapgl": [
           {
            "colorbar": {
             "outlinewidth": 0,
             "ticks": ""
            },
            "colorscale": [
             [
              0,
              "#0d0887"
             ],
             [
              0.1111111111111111,
              "#46039f"
             ],
             [
              0.2222222222222222,
              "#7201a8"
             ],
             [
              0.3333333333333333,
              "#9c179e"
             ],
             [
              0.4444444444444444,
              "#bd3786"
             ],
             [
              0.5555555555555556,
              "#d8576b"
             ],
             [
              0.6666666666666666,
              "#ed7953"
             ],
             [
              0.7777777777777778,
              "#fb9f3a"
             ],
             [
              0.8888888888888888,
              "#fdca26"
             ],
             [
              1,
              "#f0f921"
             ]
            ],
            "type": "heatmapgl"
           }
          ],
          "histogram": [
           {
            "marker": {
             "pattern": {
              "fillmode": "overlay",
              "size": 10,
              "solidity": 0.2
             }
            },
            "type": "histogram"
           }
          ],
          "histogram2d": [
           {
            "colorbar": {
             "outlinewidth": 0,
             "ticks": ""
            },
            "colorscale": [
             [
              0,
              "#0d0887"
             ],
             [
              0.1111111111111111,
              "#46039f"
             ],
             [
              0.2222222222222222,
              "#7201a8"
             ],
             [
              0.3333333333333333,
              "#9c179e"
             ],
             [
              0.4444444444444444,
              "#bd3786"
             ],
             [
              0.5555555555555556,
              "#d8576b"
             ],
             [
              0.6666666666666666,
              "#ed7953"
             ],
             [
              0.7777777777777778,
              "#fb9f3a"
             ],
             [
              0.8888888888888888,
              "#fdca26"
             ],
             [
              1,
              "#f0f921"
             ]
            ],
            "type": "histogram2d"
           }
          ],
          "histogram2dcontour": [
           {
            "colorbar": {
             "outlinewidth": 0,
             "ticks": ""
            },
            "colorscale": [
             [
              0,
              "#0d0887"
             ],
             [
              0.1111111111111111,
              "#46039f"
             ],
             [
              0.2222222222222222,
              "#7201a8"
             ],
             [
              0.3333333333333333,
              "#9c179e"
             ],
             [
              0.4444444444444444,
              "#bd3786"
             ],
             [
              0.5555555555555556,
              "#d8576b"
             ],
             [
              0.6666666666666666,
              "#ed7953"
             ],
             [
              0.7777777777777778,
              "#fb9f3a"
             ],
             [
              0.8888888888888888,
              "#fdca26"
             ],
             [
              1,
              "#f0f921"
             ]
            ],
            "type": "histogram2dcontour"
           }
          ],
          "mesh3d": [
           {
            "colorbar": {
             "outlinewidth": 0,
             "ticks": ""
            },
            "type": "mesh3d"
           }
          ],
          "parcoords": [
           {
            "line": {
             "colorbar": {
              "outlinewidth": 0,
              "ticks": ""
             }
            },
            "type": "parcoords"
           }
          ],
          "pie": [
           {
            "automargin": true,
            "type": "pie"
           }
          ],
          "scatter": [
           {
            "fillpattern": {
             "fillmode": "overlay",
             "size": 10,
             "solidity": 0.2
            },
            "type": "scatter"
           }
          ],
          "scatter3d": [
           {
            "line": {
             "colorbar": {
              "outlinewidth": 0,
              "ticks": ""
             }
            },
            "marker": {
             "colorbar": {
              "outlinewidth": 0,
              "ticks": ""
             }
            },
            "type": "scatter3d"
           }
          ],
          "scattercarpet": [
           {
            "marker": {
             "colorbar": {
              "outlinewidth": 0,
              "ticks": ""
             }
            },
            "type": "scattercarpet"
           }
          ],
          "scattergeo": [
           {
            "marker": {
             "colorbar": {
              "outlinewidth": 0,
              "ticks": ""
             }
            },
            "type": "scattergeo"
           }
          ],
          "scattergl": [
           {
            "marker": {
             "colorbar": {
              "outlinewidth": 0,
              "ticks": ""
             }
            },
            "type": "scattergl"
           }
          ],
          "scattermapbox": [
           {
            "marker": {
             "colorbar": {
              "outlinewidth": 0,
              "ticks": ""
             }
            },
            "type": "scattermapbox"
           }
          ],
          "scatterpolar": [
           {
            "marker": {
             "colorbar": {
              "outlinewidth": 0,
              "ticks": ""
             }
            },
            "type": "scatterpolar"
           }
          ],
          "scatterpolargl": [
           {
            "marker": {
             "colorbar": {
              "outlinewidth": 0,
              "ticks": ""
             }
            },
            "type": "scatterpolargl"
           }
          ],
          "scatterternary": [
           {
            "marker": {
             "colorbar": {
              "outlinewidth": 0,
              "ticks": ""
             }
            },
            "type": "scatterternary"
           }
          ],
          "surface": [
           {
            "colorbar": {
             "outlinewidth": 0,
             "ticks": ""
            },
            "colorscale": [
             [
              0,
              "#0d0887"
             ],
             [
              0.1111111111111111,
              "#46039f"
             ],
             [
              0.2222222222222222,
              "#7201a8"
             ],
             [
              0.3333333333333333,
              "#9c179e"
             ],
             [
              0.4444444444444444,
              "#bd3786"
             ],
             [
              0.5555555555555556,
              "#d8576b"
             ],
             [
              0.6666666666666666,
              "#ed7953"
             ],
             [
              0.7777777777777778,
              "#fb9f3a"
             ],
             [
              0.8888888888888888,
              "#fdca26"
             ],
             [
              1,
              "#f0f921"
             ]
            ],
            "type": "surface"
           }
          ],
          "table": [
           {
            "cells": {
             "fill": {
              "color": "#EBF0F8"
             },
             "line": {
              "color": "white"
             }
            },
            "header": {
             "fill": {
              "color": "#C8D4E3"
             },
             "line": {
              "color": "white"
             }
            },
            "type": "table"
           }
          ]
         },
         "layout": {
          "annotationdefaults": {
           "arrowcolor": "#2a3f5f",
           "arrowhead": 0,
           "arrowwidth": 1
          },
          "autotypenumbers": "strict",
          "coloraxis": {
           "colorbar": {
            "outlinewidth": 0,
            "ticks": ""
           }
          },
          "colorscale": {
           "diverging": [
            [
             0,
             "#8e0152"
            ],
            [
             0.1,
             "#c51b7d"
            ],
            [
             0.2,
             "#de77ae"
            ],
            [
             0.3,
             "#f1b6da"
            ],
            [
             0.4,
             "#fde0ef"
            ],
            [
             0.5,
             "#f7f7f7"
            ],
            [
             0.6,
             "#e6f5d0"
            ],
            [
             0.7,
             "#b8e186"
            ],
            [
             0.8,
             "#7fbc41"
            ],
            [
             0.9,
             "#4d9221"
            ],
            [
             1,
             "#276419"
            ]
           ],
           "sequential": [
            [
             0,
             "#0d0887"
            ],
            [
             0.1111111111111111,
             "#46039f"
            ],
            [
             0.2222222222222222,
             "#7201a8"
            ],
            [
             0.3333333333333333,
             "#9c179e"
            ],
            [
             0.4444444444444444,
             "#bd3786"
            ],
            [
             0.5555555555555556,
             "#d8576b"
            ],
            [
             0.6666666666666666,
             "#ed7953"
            ],
            [
             0.7777777777777778,
             "#fb9f3a"
            ],
            [
             0.8888888888888888,
             "#fdca26"
            ],
            [
             1,
             "#f0f921"
            ]
           ],
           "sequentialminus": [
            [
             0,
             "#0d0887"
            ],
            [
             0.1111111111111111,
             "#46039f"
            ],
            [
             0.2222222222222222,
             "#7201a8"
            ],
            [
             0.3333333333333333,
             "#9c179e"
            ],
            [
             0.4444444444444444,
             "#bd3786"
            ],
            [
             0.5555555555555556,
             "#d8576b"
            ],
            [
             0.6666666666666666,
             "#ed7953"
            ],
            [
             0.7777777777777778,
             "#fb9f3a"
            ],
            [
             0.8888888888888888,
             "#fdca26"
            ],
            [
             1,
             "#f0f921"
            ]
           ]
          },
          "colorway": [
           "#636efa",
           "#EF553B",
           "#00cc96",
           "#ab63fa",
           "#FFA15A",
           "#19d3f3",
           "#FF6692",
           "#B6E880",
           "#FF97FF",
           "#FECB52"
          ],
          "font": {
           "color": "#2a3f5f"
          },
          "geo": {
           "bgcolor": "white",
           "lakecolor": "white",
           "landcolor": "#E5ECF6",
           "showlakes": true,
           "showland": true,
           "subunitcolor": "white"
          },
          "hoverlabel": {
           "align": "left"
          },
          "hovermode": "closest",
          "mapbox": {
           "style": "light"
          },
          "paper_bgcolor": "white",
          "plot_bgcolor": "#E5ECF6",
          "polar": {
           "angularaxis": {
            "gridcolor": "white",
            "linecolor": "white",
            "ticks": ""
           },
           "bgcolor": "#E5ECF6",
           "radialaxis": {
            "gridcolor": "white",
            "linecolor": "white",
            "ticks": ""
           }
          },
          "scene": {
           "xaxis": {
            "backgroundcolor": "#E5ECF6",
            "gridcolor": "white",
            "gridwidth": 2,
            "linecolor": "white",
            "showbackground": true,
            "ticks": "",
            "zerolinecolor": "white"
           },
           "yaxis": {
            "backgroundcolor": "#E5ECF6",
            "gridcolor": "white",
            "gridwidth": 2,
            "linecolor": "white",
            "showbackground": true,
            "ticks": "",
            "zerolinecolor": "white"
           },
           "zaxis": {
            "backgroundcolor": "#E5ECF6",
            "gridcolor": "white",
            "gridwidth": 2,
            "linecolor": "white",
            "showbackground": true,
            "ticks": "",
            "zerolinecolor": "white"
           }
          },
          "shapedefaults": {
           "line": {
            "color": "#2a3f5f"
           }
          },
          "ternary": {
           "aaxis": {
            "gridcolor": "white",
            "linecolor": "white",
            "ticks": ""
           },
           "baxis": {
            "gridcolor": "white",
            "linecolor": "white",
            "ticks": ""
           },
           "bgcolor": "#E5ECF6",
           "caxis": {
            "gridcolor": "white",
            "linecolor": "white",
            "ticks": ""
           }
          },
          "title": {
           "x": 0.05
          },
          "xaxis": {
           "automargin": true,
           "gridcolor": "white",
           "linecolor": "white",
           "ticks": "",
           "title": {
            "standoff": 15
           },
           "zerolinecolor": "white",
           "zerolinewidth": 2
          },
          "yaxis": {
           "automargin": true,
           "gridcolor": "white",
           "linecolor": "white",
           "ticks": "",
           "title": {
            "standoff": 15
           },
           "zerolinecolor": "white",
           "zerolinewidth": 2
          }
         }
        },
        "title": {
         "text": "Concentración de óxidos de nitrógeno por proporción de acres de negrocios no minoristas"
        },
        "xaxis": {
         "anchor": "y",
         "domain": [
          0,
          1
         ],
         "title": {
          "text": "Concentración de óxidos de nitrógeno/10M"
         }
        },
        "yaxis": {
         "anchor": "x",
         "domain": [
          0,
          1
         ],
         "title": {
          "text": "Proporción de acres de negocios no minoristas por ciudad"
         }
        }
       }
      }
     },
     "metadata": {},
     "output_type": "display_data"
    }
   ],
   "source": [
    "fig = px.scatter(x=X_train_imputado_df['NOX'], y=X_train_imputado_df['INDUS'], \n",
    "                title='Concentración de óxidos de nitrógeno por proporción de acres de negrocios no minoristas'\n",
    "                , labels={'x':'Concentración de óxidos de nitrógeno/10M',\n",
    "                            'y':'Proporción de acres de negocios no minoristas por ciudad',\n",
    "                            'color':'CHAS'},\n",
    "                            color=X_train_imputado_df['CHAS'])\n",
    "fig.show()"
   ]
  },
  {
   "cell_type": "code",
   "execution_count": 60,
   "metadata": {},
   "outputs": [
    {
     "data": {
      "image/png": "[encoded data removed]",
      "text/plain": [
       "<Figure size 500x500 with 1 Axes>"
      ]
     },
     "metadata": {},
     "output_type": "display_data"
    }
   ],
   "source": [
    "sns.displot(X_train_imputado_df['AGE'], kde=True, rug=False)\n",
    "plt.title('Proporcion de la cantidad de casas habitadas por sus propietarios construidas antes de 1940')\n",
    "plt.ylabel('proprocion de casas')\n",
    "plt.xlabel('proporcion de casas')\n",
    "plt.show()"
   ]
  },
  {
   "cell_type": "code",
   "execution_count": 43,
   "metadata": {},
   "outputs": [
    {
     "data": {
      "image/png": "[encoded data removed]",
      "text/plain": [
       "<Figure size 640x480 with 1 Axes>"
      ]
     },
     "metadata": {},
     "output_type": "display_data"
    }
   ],
   "source": [
    "#sns.scatterplot(X_train, x='NOX', y='RAD')\n",
    "\n",
    "plt.show()"
   ]
  },
  {
   "cell_type": "code",
   "execution_count": 71,
   "metadata": {},
   "outputs": [
    {
     "data": {
      "application/vnd.plotly.v1+json": {
       "config": {
        "plotlyServerURL": "https://plot.ly"
       },
       "data": [
        {
         "autobinx": false,
         "histnorm": "probability density",
         "legendgroup": "displot",
         "marker": {
          "color": "rgb(31, 119, 180)"
         },
         "name": "displot",
         "opacity": 0.7,
         "type": "histogram",
         "x": [
          45.6,
          90.4,
          87.9,
          10,
          100,
          84.2,
          99.3,
          37.3,
          49.1,
          79.2,
          9.771598798765217,
          31.1,
          57.8,
          100,
          88,
          100,
          70.4,
          58.7,
          33.1,
          84,
          100,
          18.5,
          77.7,
          65.3,
          94.82427244296892,
          6.8,
          40.1,
          97.9,
          32.1,
          82.76794637792877,
          27.9,
          79.9,
          14.7,
          64.5,
          93.3,
          95,
          61.1,
          91.9,
          46.7,
          74.4,
          48,
          36.6,
          73.3,
          91.1,
          80.3,
          73.9,
          32,
          90,
          89.9,
          85.9,
          83.7,
          31.3,
          69.7,
          92.7,
          93.3,
          98.1,
          98.4,
          94.1,
          91.7,
          87.9,
          98,
          96.4,
          76.7,
          18.8,
          100,
          46.72336151409269,
          54.992220220974126,
          80.8,
          96.2,
          20.299500138052053,
          100,
          82.71275715046782,
          88.6,
          20.1,
          77.7,
          53.2,
          86.9,
          48.2,
          33.3,
          48.5,
          38.9,
          84.7,
          100,
          71.9,
          52.3,
          47.2,
          54.4,
          2.9,
          42.00509642424838,
          94.7,
          94.3,
          90.7,
          92.2,
          6.6,
          85.69144870436345,
          42.8,
          91.5,
          97.3,
          84.1,
          22.542423537494603,
          100,
          43.7,
          100,
          69.1,
          98.3,
          94.3,
          82.6,
          64.7,
          49.9,
          43.4,
          54,
          56,
          34.5,
          45.7,
          42.3,
          87.9,
          39,
          84.5,
          28.9,
          76.5,
          100,
          44.4,
          58.5,
          94.1,
          62.2,
          62.8,
          56.7,
          87.3,
          6.6,
          35.9,
          100,
          47.2,
          97.7,
          98.53185281518012,
          97,
          83.3,
          64.33408130214161,
          92.6,
          77,
          70.6,
          21.4,
          72.48770574184505,
          58.4,
          98.5,
          80.8,
          34.1,
          57.740884382644325,
          36.9,
          17.5,
          65.2,
          68.2,
          52.9,
          100,
          53.6,
          89.8,
          28.8,
          77.3,
          23.4,
          62,
          94,
          70.6,
          93.6,
          34.5,
          32.2,
          88.8,
          100,
          84.4,
          67,
          88,
          97.8,
          88.4,
          97.4,
          53.8,
          74.9,
          32.3,
          27.7,
          87.9,
          56.4,
          71.7,
          40.5,
          97.5,
          96.1,
          21.4,
          96,
          37.2,
          88,
          32.9,
          6.2,
          94.9,
          100,
          65.4,
          56.5,
          92.9,
          67.2,
          52.5842724429689,
          89.4,
          89.2,
          82.8,
          92.4,
          84.6,
          96.2,
          53.6,
          79.9,
          97.2,
          97.9,
          73.5,
          85.5,
          17,
          56.1,
          94.8,
          44.2978648859331,
          97.4,
          45.31161237714774,
          97.52136221484452,
          82.6,
          21.9,
          28.1,
          35.54036672196615,
          32.2,
          7.8,
          47.6,
          66.5,
          36.6,
          38.5,
          100,
          100,
          74.8,
          31.1,
          91.8,
          95.2,
          15.3,
          89.6,
          96.8,
          54.2,
          91.6,
          100,
          97.1,
          97.9,
          89.5,
          67.6,
          82.9,
          29.3,
          91.8,
          97.9,
          40.059999999999995,
          95.3,
          17.8,
          25.8,
          61.5,
          93,
          95.4,
          96.7,
          86.5,
          75,
          31.9,
          45.1,
          21.4,
          68.1,
          100,
          15.8,
          70.4,
          46.03723098323329,
          30.8,
          100,
          21.9,
          82.5,
          16.3,
          95.3,
          58.1,
          100,
          79.2,
          91.3,
          94.7,
          45,
          27.6,
          65.2,
          100,
          66.6,
          42.4,
          78.9,
          76.5,
          29.1,
          65.79450905594851,
          41.5,
          49,
          21.5,
          31.5,
          95.6,
          67.8,
          40,
          76.5,
          59.6,
          98.8,
          100,
          78.7,
          35.16243260617871,
          8.9,
          97,
          98.1,
          92.6,
          84.52205396161224,
          87.4,
          100,
          71.3,
          9.8,
          91,
          41.9,
          61.8,
          98.9,
          49.7,
          92.1,
          96.1,
          40.94409103227065,
          100,
          19.5,
          36.01744952017257,
          98.54,
          91.4,
          100,
          22.9,
          36.3,
          41.83973188964385,
          47.4,
          20.8,
          98.7,
          38.1,
          70.78009822202202,
          68.7,
          46.3,
          100,
          98.8,
          76.9,
          89,
          74.62757152738897,
          52.5,
          36.1,
          8.4,
          26.19073369254249,
          100,
          100,
          100,
          7.8,
          100,
          70.3,
          23.5934052130453,
          96,
          90,
          56.28051003722116,
          66.85314784904563,
          72.9,
          32.2,
          92.6,
          54.3,
          95.4,
          33.2,
          63,
          93.6,
          95.7,
          79.8,
          94.5,
          92.4,
          94.6,
          21.8,
          27.7,
          6,
          98.2,
          52.3,
          85.4,
          49.3,
          53.28999910943776,
          17.7,
          34.2,
          88.5,
          18.4,
          94.1,
          73.4,
          88.2,
          69.51518129172004,
          76.7,
          91.2,
          100,
          96.6,
          18.4,
          100,
          59.7,
          93.4,
          78.1,
          81.3,
          45.8,
          72.7,
          31.479282758689862,
          58.7,
          29.2,
          89.3,
          87.3,
          98.4,
          89.1,
          91.2,
          90.8,
          54.3,
          32,
          74.5,
          96.7,
          65.1,
          92.9,
          17.5,
          100,
          26.3,
          96.2,
          97,
          92.17840687157693,
          100,
          28.4,
          13,
          98.2,
          15.7,
          97.4,
          36.6,
          88.4,
          37.8,
          61.4,
          41.1,
          86.1,
          85.7,
          38.4,
          49.05181484580381,
          68.8,
          97.3,
          13.9,
          94.6,
          38.3,
          36.8,
          95.4,
          95.59203435788464,
          54.17325466434177,
          45.4,
          34.9,
          85.2,
          63.1,
          81.7,
          33.5,
          19.1,
          81.6,
          17.2
         ],
         "xaxis": "x",
         "xbins": {
          "end": 100,
          "size": 10,
          "start": 2.9
         },
         "yaxis": "y"
        },
        {
         "legendgroup": "displot",
         "marker": {
          "color": "rgb(31, 119, 180)"
         },
         "mode": "lines",
         "name": "displot",
         "showlegend": false,
         "type": "scatter",
         "x": [
          2.9,
          3.0942,
          3.2883999999999998,
          3.4825999999999997,
          3.6768,
          3.871,
          4.0652,
          4.259399999999999,
          4.4536,
          4.6478,
          4.842,
          5.036199999999999,
          5.2303999999999995,
          5.4246,
          5.6188,
          5.813,
          6.007199999999999,
          6.2014,
          6.3956,
          6.589799999999999,
          6.784,
          6.978199999999999,
          7.1724,
          7.3666,
          7.560799999999999,
          7.755000000000001,
          7.949199999999999,
          8.1434,
          8.3376,
          8.531799999999999,
          8.725999999999999,
          8.9202,
          9.1144,
          9.3086,
          9.502799999999999,
          9.697,
          9.8912,
          10.0854,
          10.279599999999999,
          10.473799999999999,
          10.668,
          10.8622,
          11.0564,
          11.2506,
          11.444799999999999,
          11.639000000000001,
          11.8332,
          12.0274,
          12.221599999999999,
          12.415799999999999,
          12.610000000000001,
          12.8042,
          12.9984,
          13.192599999999999,
          13.3868,
          13.581,
          13.7752,
          13.9694,
          14.163599999999999,
          14.3578,
          14.552,
          14.7462,
          14.9404,
          15.134599999999999,
          15.3288,
          15.523,
          15.7172,
          15.9114,
          16.1056,
          16.299799999999998,
          16.494,
          16.6882,
          16.8824,
          17.0766,
          17.270799999999998,
          17.465,
          17.6592,
          17.8534,
          18.0476,
          18.241799999999998,
          18.436,
          18.6302,
          18.8244,
          19.018599999999996,
          19.212799999999998,
          19.407,
          19.6012,
          19.795399999999997,
          19.989599999999996,
          20.183799999999998,
          20.378,
          20.5722,
          20.766399999999997,
          20.960599999999996,
          21.154799999999998,
          21.349,
          21.543199999999995,
          21.737399999999997,
          21.931599999999996,
          22.125799999999998,
          22.32,
          22.514199999999995,
          22.708399999999997,
          22.902599999999996,
          23.096799999999998,
          23.290999999999997,
          23.485199999999995,
          23.679399999999998,
          23.873599999999996,
          24.0678,
          24.261999999999997,
          24.456199999999995,
          24.650399999999998,
          24.844599999999996,
          25.0388,
          25.232999999999997,
          25.427199999999996,
          25.621399999999998,
          25.815599999999996,
          26.0098,
          26.203999999999997,
          26.398199999999996,
          26.592399999999998,
          26.786599999999996,
          26.9808,
          27.174999999999997,
          27.369199999999996,
          27.563399999999998,
          27.757599999999996,
          27.9518,
          28.145999999999997,
          28.340199999999996,
          28.534399999999998,
          28.728599999999997,
          28.9228,
          29.116999999999997,
          29.311199999999996,
          29.505399999999998,
          29.699599999999997,
          29.8938,
          30.087999999999997,
          30.282199999999996,
          30.476399999999998,
          30.670599999999997,
          30.8648,
          31.058999999999997,
          31.253199999999996,
          31.447399999999995,
          31.641599999999997,
          31.8358,
          32.03,
          32.224199999999996,
          32.4184,
          32.6126,
          32.8068,
          33.001,
          33.1952,
          33.389399999999995,
          33.5836,
          33.7778,
          33.972,
          34.166199999999996,
          34.3604,
          34.5546,
          34.7488,
          34.943,
          35.13719999999999,
          35.331399999999995,
          35.5256,
          35.71979999999999,
          35.914,
          36.1082,
          36.3024,
          36.496599999999994,
          36.690799999999996,
          36.885,
          37.07919999999999,
          37.2734,
          37.4676,
          37.66179999999999,
          37.856,
          38.0502,
          38.2444,
          38.438599999999994,
          38.632799999999996,
          38.827,
          39.02119999999999,
          39.2154,
          39.4096,
          39.60379999999999,
          39.798,
          39.9922,
          40.18639999999999,
          40.380599999999994,
          40.574799999999996,
          40.769,
          40.96319999999999,
          41.157399999999996,
          41.3516,
          41.54579999999999,
          41.74,
          41.9342,
          42.12839999999999,
          42.322599999999994,
          42.516799999999996,
          42.711,
          42.905199999999994,
          43.099399999999996,
          43.2936,
          43.48779999999999,
          43.681999999999995,
          43.8762,
          44.07039999999999,
          44.264599999999994,
          44.4588,
          44.653,
          44.847199999999994,
          45.041399999999996,
          45.2356,
          45.42979999999999,
          45.623999999999995,
          45.8182,
          46.01239999999999,
          46.206599999999995,
          46.4008,
          46.595,
          46.789199999999994,
          46.983399999999996,
          47.1776,
          47.37179999999999,
          47.565999999999995,
          47.7602,
          47.95439999999999,
          48.148599999999995,
          48.3428,
          48.537,
          48.731199999999994,
          48.925399999999996,
          49.1196,
          49.31379999999999,
          49.507999999999996,
          49.7022,
          49.89639999999999,
          50.090599999999995,
          50.2848,
          50.479,
          50.673199999999994,
          50.86739999999999,
          51.0616,
          51.255799999999994,
          51.449999999999996,
          51.6442,
          51.83839999999999,
          52.032599999999995,
          52.2268,
          52.421,
          52.615199999999994,
          52.80939999999999,
          53.0036,
          53.197799999999994,
          53.391999999999996,
          53.5862,
          53.78039999999999,
          53.974599999999995,
          54.1688,
          54.363,
          54.557199999999995,
          54.75139999999999,
          54.9456,
          55.139799999999994,
          55.333999999999996,
          55.5282,
          55.72239999999999,
          55.916599999999995,
          56.1108,
          56.305,
          56.499199999999995,
          56.69339999999999,
          56.8876,
          57.081799999999994,
          57.275999999999996,
          57.4702,
          57.66439999999999,
          57.858599999999996,
          58.0528,
          58.247,
          58.441199999999995,
          58.63539999999999,
          58.8296,
          59.023799999999994,
          59.217999999999996,
          59.4122,
          59.606399999999994,
          59.800599999999996,
          59.99479999999999,
          60.189,
          60.383199999999995,
          60.57739999999999,
          60.7716,
          60.965799999999994,
          61.16,
          61.3542,
          61.548399999999994,
          61.742599999999996,
          61.93679999999999,
          62.131,
          62.325199999999995,
          62.51939999999999,
          62.7136,
          62.907799999999995,
          63.102,
          63.2962,
          63.490399999999994,
          63.684599999999996,
          63.87879999999999,
          64.07300000000001,
          64.2672,
          64.4614,
          64.6556,
          64.8498,
          65.044,
          65.2382,
          65.4324,
          65.6266,
          65.82079999999999,
          66.015,
          66.2092,
          66.40339999999999,
          66.5976,
          66.7918,
          66.986,
          67.1802,
          67.3744,
          67.5686,
          67.7628,
          67.957,
          68.1512,
          68.3454,
          68.5396,
          68.7338,
          68.92800000000001,
          69.1222,
          69.3164,
          69.5106,
          69.7048,
          69.899,
          70.0932,
          70.2874,
          70.4816,
          70.67580000000001,
          70.87,
          71.0642,
          71.2584,
          71.4526,
          71.64680000000001,
          71.84100000000001,
          72.0352,
          72.2294,
          72.4236,
          72.6178,
          72.81200000000001,
          73.0062,
          73.2004,
          73.3946,
          73.5888,
          73.783,
          73.9772,
          74.1714,
          74.3656,
          74.55980000000001,
          74.754,
          74.9482,
          75.1424,
          75.33659999999999,
          75.53080000000001,
          75.72500000000001,
          75.9192,
          76.1134,
          76.3076,
          76.5018,
          76.69600000000001,
          76.89020000000001,
          77.0844,
          77.2786,
          77.47279999999999,
          77.667,
          77.8612,
          78.0554,
          78.2496,
          78.4438,
          78.638,
          78.8322,
          79.0264,
          79.22059999999999,
          79.4148,
          79.60900000000001,
          79.8032,
          79.9974,
          80.1916,
          80.38579999999999,
          80.58000000000001,
          80.77420000000001,
          80.9684,
          81.1626,
          81.35679999999999,
          81.551,
          81.7452,
          81.9394,
          82.1336,
          82.3278,
          82.522,
          82.7162,
          82.9104,
          83.10459999999999,
          83.2988,
          83.49300000000001,
          83.6872,
          83.8814,
          84.0756,
          84.26979999999999,
          84.464,
          84.65820000000001,
          84.8524,
          85.0466,
          85.2408,
          85.435,
          85.6292,
          85.8234,
          86.0176,
          86.2118,
          86.406,
          86.6002,
          86.7944,
          86.98859999999999,
          87.1828,
          87.37700000000001,
          87.5712,
          87.7654,
          87.9596,
          88.15379999999999,
          88.348,
          88.54220000000001,
          88.7364,
          88.9306,
          89.1248,
          89.319,
          89.5132,
          89.7074,
          89.9016,
          90.0958,
          90.29,
          90.4842,
          90.6784,
          90.87259999999999,
          91.0668,
          91.26100000000001,
          91.4552,
          91.6494,
          91.8436,
          92.03779999999999,
          92.232,
          92.42620000000001,
          92.6204,
          92.8146,
          93.0088,
          93.203,
          93.3972,
          93.5914,
          93.7856,
          93.9798,
          94.174,
          94.3682,
          94.5624,
          94.75659999999999,
          94.9508,
          95.14500000000001,
          95.3392,
          95.5334,
          95.7276,
          95.92179999999999,
          96.116,
          96.31020000000001,
          96.5044,
          96.6986,
          96.8928,
          97.087,
          97.2812,
          97.4754,
          97.6696,
          97.8638,
          98.058,
          98.2522,
          98.4464,
          98.64059999999999,
          98.83479999999999,
          99.02900000000001,
          99.2232,
          99.4174,
          99.6116,
          99.80579999999999
         ],
         "xaxis": "x",
         "y": [
          0.0018426373823762171,
          0.0018843850015437512,
          0.0019265200527295067,
          0.0019690326216420394,
          0.002011912647046034,
          0.0020551499334175464,
          0.0020987341634526595,
          0.002142654910402046,
          0.0021869016502065117,
          0.0022314637734114316,
          0.002276330596840877,
          0.002321491375015197,
          0.002366935311298869,
          0.0024126515687685245,
          0.002458629280794057,
          0.0025048575613288776,
          0.002551325514908292,
          0.002598022246357952,
          0.0026449368702171506,
          0.002692058519884427,
          0.00273937635649544,
          0.002786879577545526,
          0.002834557425271415,
          0.0028823991948085342,
          0.002930394242142073,
          0.002978531991871304,
          0.0030268019448078075,
          0.0030751936854292103,
          0.0031236968892103248,
          0.0031723013298540705,
          0.003220996886444183,
          0.003269773550541439,
          0.0033186214332442602,
          0.0033675307722334648,
          0.003416491938819471,
          0.003465495445008521,
          0.003514531950602399,
          0.0035635922703437725,
          0.0036126673811165775,
          0.0036617484292080157,
          0.003710826737635543,
          0.0037598938135388915,
          0.003808941355633547,
          0.003857961261718456,
          0.003906945636226856,
          0.003955886797805171,
          0.004004777286900929,
          0.004053609873336636,
          0.004102377563842487,
          0.004151073609516902,
          0.004199691513179909,
          0.004248225036580702,
          0.004296668207417164,
          0.004345015326121661,
          0.00439326097236433,
          0.004441400011222338,
          0.004489427598960807,
          0.004537339188369196,
          0.004585130533594891,
          0.004632797694414455,
          0.0046803370398820435,
          0.00472774525129394,
          0.004775019324408125,
          0.004822156570858316,
          0.004869154618702896,
          0.004916011412050601,
          0.00496272520970691,
          0.005009294582787661,
          0.005055718411249471,
          0.005101995879290237,
          0.0051481264695769436,
          0.0051941099562629114,
          0.005239946396761495,
          0.005285636122248915,
          0.005331179726874891,
          0.00537657805566623,
          0.005421832191115116,
          0.005466943438451171,
          0.005511913309603639,
          0.005556743505867645,
          0.005601435899296512,
          0.0056459925128499264,
          0.005690415499335916,
          0.0057347071191928755,
          0.005778869717165763,
          0.005822905697938955,
          0.005866817500796043,
          0.005910607573384695,
          0.005954278344672318,
          0.005997832197185496,
          0.0060412714386331645,
          0.006084598273020026,
          0.00612781477136285,
          0.006170922842127879,
          0.0062139242015127214,
          0.00625682034370064,
          0.006299612511218902,
          0.006342301665536231,
          0.006384888458036985,
          0.006427373201511203,
          0.00646975584230122,
          0.006512035933245406,
          0.006554212607559457,
          0.006596284553794183,
          0.00663824999200693,
          0.006680106651280603,
          0.006721851748721056,
          0.006763481970058734,
          0.006804993451975749,
          0.00684638176627322,
          0.0068876419059874855,
          0.00692876827355605,
          0.006969754671126661,
          0.007010594293093683,
          0.007051279720937441,
          0.007091802920432097,
          0.007132155241277544,
          0.007172327419200276,
          0.007212309580557349,
          0.007252091249466084,
          0.00729166135747092,
          0.007331008255746963,
          0.007370119729828136,
          0.007408983016836171,
          0.007447584825174374,
          0.007485911356639088,
          0.007523948330889711,
          0.0075616810122069705,
          0.007599094238458197,
          0.00763617245217744,
          0.0076728997336581745,
          0.007709259835946428,
          0.00774523622161276,
          0.007780812101173057,
          0.007815970473019561,
          0.007850694164716688,
          0.007884965875508783,
          0.007918768219881587,
          0.007952083772013445,
          0.007984895110948307,
          0.008017184866318649,
          0.008048935764443868,
          0.008080130674627888,
          0.008110752655478361,
          0.008140785001070197,
          0.008170211286776368,
          0.008199015414590885,
          0.008227181657771036,
          0.00825469470462936,
          0.008281539701309695,
          0.008307702293386881,
          0.00833316866613467,
          0.008357925583313308,
          0.00838196042433483,
          0.008405261219672002,
          0.008427816684384703,
          0.008449616249646746,
          0.008470650092164989,
          0.008490909161392427,
          0.008510385204447085,
          0.00852907078865886,
          0.008546959321676924,
          0.008564045069081682,
          0.00858032316945581,
          0.008595789646880183,
          0.008610441420831784,
          0.008624276313471747,
          0.008637293054322728,
          0.008649491282345538,
          0.00866087154543634,
          0.008671435297375333,
          0.008681184892268722,
          0.00869012357653549,
          0.008698255478499744,
          0.00870558559565871,
          0.008712119779705142,
          0.0087178647193905,
          0.00872282792132365,
          0.008727017688806018,
          0.008730443098811009,
          0.008733113977221586,
          0.008735040872444099,
          0.008736235027522448,
          0.008736708350879203,
          0.00873647338581458,
          0.008735543278896075,
          0.00873393174737409,
          0.008731653045759602,
          0.008728721931701211,
          0.00872515363129807,
          0.008720963803985661,
          0.008716168507129196,
          0.008710784160458097,
          0.008704827510472834,
          0.008698315594951744,
          0.008691265707683143,
          0.008683695363543067,
          0.008675622264035407,
          0.008667064263405938,
          0.008658039335436827,
          0.008648565541022921,
          0.008638660996624335,
          0.00862834384368515,
          0.008617632219100349,
          0.008606544226807386,
          0.008595097910571376,
          0.008583311228026785,
          0.008571202026030567,
          0.008558788017375276,
          0.008546086758903214,
          0.008533115631055828,
          0.00851989181888496,
          0.008506432294546267,
          0.008492753801287261,
          0.008478872838936493,
          0.00846480565089299,
          0.008450568212608913,
          0.008436176221551933,
          0.008421645088627992,
          0.008406989931038656,
          0.00839222556654213,
          0.008377366509082058,
          0.008362426965741878,
          0.008347420834979236,
          0.00833236170608977,
          0.008317262859845563,
          0.008302137270250117,
          0.008286997607347992,
          0.008271856241024495,
          0.008256725245728016,
          0.008241616406045474,
          0.008226541223059046,
          0.008211510921411322,
          0.008196536457004472,
          0.008181628525258292,
          0.008166797569851525,
          0.008152053791871013,
          0.00813740715929308,
          0.00812286741672237,
          0.008108444095314403,
          0.008094146522809341,
          0.008079983833605761,
          0.008065964978805738,
          0.008052098736164097,
          0.008038393719877647,
          0.008024858390152885,
          0.008011501062493324,
          0.007998329916651553,
          0.007985353005193974,
          0.007972578261630022,
          0.00796001350806214,
          0.007947666462315811,
          0.007935544744514213,
          0.007923655883065699,
          0.007912007320037204,
          0.007900606415891286,
          0.00788946045356865,
          0.007878576641903546,
          0.007867962118363546,
          0.007857623951110407,
          0.007847569140383273,
          0.007837804619210123,
          0.0078283372534587,
          0.0078191738412422,
          0.0078103211116994494,
          0.0078017857231746516,
          0.007793574260825216,
          0.007785693233690496,
          0.007778149071258984,
          0.007770948119574237,
          0.007764096636924492,
          0.007757600789163338,
          0.0077514666447129985,
          0.007745700169303537,
          0.00774030722050477,
          0.0077352935421098655,
          0.007730664758431011,
          0.007726426368569848,
          0.007722583740726946,
          0.007719142106614504,
          0.007716106556038539,
          0.007713482031716211,
          0.007711273324394212,
          0.007709485068333898,
          0.0077081217372279714,
          0.00770718764061216,
          0.007706686920834671,
          0.007706623550643208,
          0.007707001331448423,
          0.0077078238923191395,
          0.007709094689762353,
          0.007710817008337733,
          0.007712993962153016,
          0.007715628497282374,
          0.0077187233951463464,
          0.007722281276887365,
          0.007726304608770196,
          0.007730795708631767,
          0.007735756753400291,
          0.007741189787697558,
          0.007747096733533631,
          0.007753479401097309,
          0.007760339500639986,
          0.0077676786554449475,
          0.007775498415868565,
          0.007783800274433286,
          0.007792585681947484,
          0.007801856064620363,
          0.007811612842135145,
          0.007821857446637518,
          0.007832591342590962,
          0.007843816047444888,
          0.007855533153056302,
          0.007867744347800418,
          0.007880451439300613,
          0.007893656377703532,
          0.007907361279420207,
          0.007921568451250333,
          0.007936280414802148,
          0.007951499931117219,
          0.00796723002540583,
          0.007983474011795423,
          0.008000235517991982,
          0.008017518509751822,
          0.008035327315059206,
          0.008053666647903444,
          0.00807254163154797,
          0.00809195782118279,
          0.008111921225851453,
          0.008132438329543131,
          0.008153516111340811,
          0.00817516206451735,
          0.008197384214471826,
          0.008220191135399952,
          0.008243591965594228,
          0.008267596421271381,
          0.008292214808827008,
          0.008317458035420024,
          0.008343337617792683,
          0.008369865689234993,
          0.008397055004606262,
          0.008424918943330072,
          0.008453471510283483,
          0.00848272733450513,
          0.008512701665652165,
          0.008543410368140126,
          0.00857486991290538,
          0.008607097366734491,
          0.008640110379110664,
          0.008673927166532518,
          0.008708566494266259,
          0.008744047655498011,
          0.008780390447858865,
          0.008817615147301021,
          0.008855742479309446,
          0.008894793587439538,
          0.008934789999177248,
          0.008975753589124046,
          0.009017706539515604,
          0.009060671298088853,
          0.009104670533318229,
          0.00914972708704815,
          0.009195863924554702,
          0.009243104082075711,
          0.009291470611854398,
          0.009340986524747453,
          0.009391674730455187,
          0.009443557975436402,
          0.009496658778577123,
          0.009550999364688204,
          0.009606601595912152,
          0.009663486901126056,
          0.009721676203432568,
          0.00978118984583714,
          0.00984204751521511,
          0.009904268164677923,
          0.009967869934453769,
          0.010032870071402699,
          0.010099284847293185,
          0.010167129475970892,
          0.010236418029557876,
          0.010307163353824268,
          0.01037937698288088,
          0.010453069053346623,
          0.010528248218149155,
          0.01060492156012399,
          0.010683094505580772,
          0.010762770738012475,
          0.010843952112127202,
          0.010926638568387647,
          0.011010828048248803,
          0.011096516410288502,
          0.011183697347431028,
          0.01127236230546804,
          0.011362500403085741,
          0.01145409835361144,
          0.011547140388696968,
          0.011641608184159763,
          0.01173748078820643,
          0.011834734552266534,
          0.011933343064667647,
          0.012033277087384917,
          0.012134504496101003,
          0.012236990223813247,
          0.0123406962082272,
          0.012445581343175924,
          0.012551601434304335,
          0.01265870915925832,
          0.012766854032616752,
          0.012875982375803108,
          0.012986037292211546,
          0.013096958647777806,
          0.013208683057223388,
          0.013321143876195497,
          0.013434271199519595,
          0.013547991865776175,
          0.01366222946840497,
          0.013776904373532128,
          0.013891933744706259,
          0.014007231574719597,
          0.014122708724679226,
          0.014238272970479996,
          0.014353829056819657,
          0.014469278758880358,
          0.014584520951786598,
          0.01469945168793239,
          0.014813964282254646,
          0.014927949405509254,
          0.015041295185588483,
          0.015153887316897922,
          0.015265609177789215,
          0.015376341956022692,
          0.01548596478221246,
          0.015594354871181035,
          0.015701387671126894,
          0.01580693702048336,
          0.01591087531232112,
          0.01601307366612126,
          0.01611340210671758,
          0.01621172975018156,
          0.016307924996395853,
          0.016401855728033453,
          0.016493389515634883,
          0.0165823938284463,
          0.016668736250654945,
          0.016752284702633354,
          0.016832907666774505,
          0.016910474417477207,
          0.01698485525481439,
          0.01705592174139393,
          0.017123546941897307,
          0.0171876056647605,
          0.017247974705440223,
          0.017304533090689057,
          0.017357162323244846,
          0.017405746626324166,
          0.017450173187294027,
          0.017490332399883648,
          0.017526118104287166,
          0.01755742782449917,
          0.01758416300221831,
          0.01760622922664964,
          0.017623536459534385,
          0.017635999254735576,
          0.017643536971710727,
          0.017646073982208466,
          0.017643539869532477,
          0.017635869619726994,
          0.017623003804051213,
          0.017604888752123998,
          0.017581476715139283,
          0.01755272601857296,
          0.017518601203823612,
          0.01747907315825701,
          0.01743411923314977,
          0.01738372334905955,
          0.017327876088180556,
          0.017266574773277636,
          0.01719982353282929,
          0.017127633352048137,
          0.017050022109487535,
          0.01696701459898473,
          0.016878642536735468,
          0.01678494455333792,
          0.016685966170691107,
          0.01658175976367929,
          0.016472384506621186,
          0.016357906304511553,
          0.01623839770913081,
          0.016113937820147892,
          0.01598461217138893,
          0.0158505126024945,
          0.01571173711623508,
          0.015568389721802573,
          0.015420580264441286,
          0.015268424241828768,
          0.015112042607660135,
          0.014951561562932019,
          0.014787112335464482,
          0.014618830948238057
         ],
         "yaxis": "y"
        },
        {
         "legendgroup": "displot",
         "marker": {
          "color": "rgb(31, 119, 180)",
          "symbol": "line-ns-open"
         },
         "mode": "markers",
         "name": "displot",
         "showlegend": false,
         "type": "scatter",
         "x": [
          45.6,
          90.4,
          87.9,
          10,
          100,
          84.2,
          99.3,
          37.3,
          49.1,
          79.2,
          9.771598798765217,
          31.1,
          57.8,
          100,
          88,
          100,
          70.4,
          58.7,
          33.1,
          84,
          100,
          18.5,
          77.7,
          65.3,
          94.82427244296892,
          6.8,
          40.1,
          97.9,
          32.1,
          82.76794637792877,
          27.9,
          79.9,
          14.7,
          64.5,
          93.3,
          95,
          61.1,
          91.9,
          46.7,
          74.4,
          48,
          36.6,
          73.3,
          91.1,
          80.3,
          73.9,
          32,
          90,
          89.9,
          85.9,
          83.7,
          31.3,
          69.7,
          92.7,
          93.3,
          98.1,
          98.4,
          94.1,
          91.7,
          87.9,
          98,
          96.4,
          76.7,
          18.8,
          100,
          46.72336151409269,
          54.992220220974126,
          80.8,
          96.2,
          20.299500138052053,
          100,
          82.71275715046782,
          88.6,
          20.1,
          77.7,
          53.2,
          86.9,
          48.2,
          33.3,
          48.5,
          38.9,
          84.7,
          100,
          71.9,
          52.3,
          47.2,
          54.4,
          2.9,
          42.00509642424838,
          94.7,
          94.3,
          90.7,
          92.2,
          6.6,
          85.69144870436345,
          42.8,
          91.5,
          97.3,
          84.1,
          22.542423537494603,
          100,
          43.7,
          100,
          69.1,
          98.3,
          94.3,
          82.6,
          64.7,
          49.9,
          43.4,
          54,
          56,
          34.5,
          45.7,
          42.3,
          87.9,
          39,
          84.5,
          28.9,
          76.5,
          100,
          44.4,
          58.5,
          94.1,
          62.2,
          62.8,
          56.7,
          87.3,
          6.6,
          35.9,
          100,
          47.2,
          97.7,
          98.53185281518012,
          97,
          83.3,
          64.33408130214161,
          92.6,
          77,
          70.6,
          21.4,
          72.48770574184505,
          58.4,
          98.5,
          80.8,
          34.1,
          57.740884382644325,
          36.9,
          17.5,
          65.2,
          68.2,
          52.9,
          100,
          53.6,
          89.8,
          28.8,
          77.3,
          23.4,
          62,
          94,
          70.6,
          93.6,
          34.5,
          32.2,
          88.8,
          100,
          84.4,
          67,
          88,
          97.8,
          88.4,
          97.4,
          53.8,
          74.9,
          32.3,
          27.7,
          87.9,
          56.4,
          71.7,
          40.5,
          97.5,
          96.1,
          21.4,
          96,
          37.2,
          88,
          32.9,
          6.2,
          94.9,
          100,
          65.4,
          56.5,
          92.9,
          67.2,
          52.5842724429689,
          89.4,
          89.2,
          82.8,
          92.4,
          84.6,
          96.2,
          53.6,
          79.9,
          97.2,
          97.9,
          73.5,
          85.5,
          17,
          56.1,
          94.8,
          44.2978648859331,
          97.4,
          45.31161237714774,
          97.52136221484452,
          82.6,
          21.9,
          28.1,
          35.54036672196615,
          32.2,
          7.8,
          47.6,
          66.5,
          36.6,
          38.5,
          100,
          100,
          74.8,
          31.1,
          91.8,
          95.2,
          15.3,
          89.6,
          96.8,
          54.2,
          91.6,
          100,
          97.1,
          97.9,
          89.5,
          67.6,
          82.9,
          29.3,
          91.8,
          97.9,
          40.059999999999995,
          95.3,
          17.8,
          25.8,
          61.5,
          93,
          95.4,
          96.7,
          86.5,
          75,
          31.9,
          45.1,
          21.4,
          68.1,
          100,
          15.8,
          70.4,
          46.03723098323329,
          30.8,
          100,
          21.9,
          82.5,
          16.3,
          95.3,
          58.1,
          100,
          79.2,
          91.3,
          94.7,
          45,
          27.6,
          65.2,
          100,
          66.6,
          42.4,
          78.9,
          76.5,
          29.1,
          65.79450905594851,
          41.5,
          49,
          21.5,
          31.5,
          95.6,
          67.8,
          40,
          76.5,
          59.6,
          98.8,
          100,
          78.7,
          35.16243260617871,
          8.9,
          97,
          98.1,
          92.6,
          84.52205396161224,
          87.4,
          100,
          71.3,
          9.8,
          91,
          41.9,
          61.8,
          98.9,
          49.7,
          92.1,
          96.1,
          40.94409103227065,
          100,
          19.5,
          36.01744952017257,
          98.54,
          91.4,
          100,
          22.9,
          36.3,
          41.83973188964385,
          47.4,
          20.8,
          98.7,
          38.1,
          70.78009822202202,
          68.7,
          46.3,
          100,
          98.8,
          76.9,
          89,
          74.62757152738897,
          52.5,
          36.1,
          8.4,
          26.19073369254249,
          100,
          100,
          100,
          7.8,
          100,
          70.3,
          23.5934052130453,
          96,
          90,
          56.28051003722116,
          66.85314784904563,
          72.9,
          32.2,
          92.6,
          54.3,
          95.4,
          33.2,
          63,
          93.6,
          95.7,
          79.8,
          94.5,
          92.4,
          94.6,
          21.8,
          27.7,
          6,
          98.2,
          52.3,
          85.4,
          49.3,
          53.28999910943776,
          17.7,
          34.2,
          88.5,
          18.4,
          94.1,
          73.4,
          88.2,
          69.51518129172004,
          76.7,
          91.2,
          100,
          96.6,
          18.4,
          100,
          59.7,
          93.4,
          78.1,
          81.3,
          45.8,
          72.7,
          31.479282758689862,
          58.7,
          29.2,
          89.3,
          87.3,
          98.4,
          89.1,
          91.2,
          90.8,
          54.3,
          32,
          74.5,
          96.7,
          65.1,
          92.9,
          17.5,
          100,
          26.3,
          96.2,
          97,
          92.17840687157693,
          100,
          28.4,
          13,
          98.2,
          15.7,
          97.4,
          36.6,
          88.4,
          37.8,
          61.4,
          41.1,
          86.1,
          85.7,
          38.4,
          49.05181484580381,
          68.8,
          97.3,
          13.9,
          94.6,
          38.3,
          36.8,
          95.4,
          95.59203435788464,
          54.17325466434177,
          45.4,
          34.9,
          85.2,
          63.1,
          81.7,
          33.5,
          19.1,
          81.6,
          17.2
         ],
         "xaxis": "x",
         "y": [
          "displot",
          "displot",
          "displot",
          "displot",
          "displot",
          "displot",
          "displot",
          "displot",
          "displot",
          "displot",
          "displot",
          "displot",
          "displot",
          "displot",
          "displot",
          "displot",
          "displot",
          "displot",
          "displot",
          "displot",
          "displot",
          "displot",
          "displot",
          "displot",
          "displot",
          "displot",
          "displot",
          "displot",
          "displot",
          "displot",
          "displot",
          "displot",
          "displot",
          "displot",
          "displot",
          "displot",
          "displot",
          "displot",
          "displot",
          "displot",
          "displot",
          "displot",
          "displot",
          "displot",
          "displot",
          "displot",
          "displot",
          "displot",
          "displot",
          "displot",
          "displot",
          "displot",
          "displot",
          "displot",
          "displot",
          "displot",
          "displot",
          "displot",
          "displot",
          "displot",
          "displot",
          "displot",
          "displot",
          "displot",
          "displot",
          "displot",
          "displot",
          "displot",
          "displot",
          "displot",
          "displot",
          "displot",
          "displot",
          "displot",
          "displot",
          "displot",
          "displot",
          "displot",
          "displot",
          "displot",
          "displot",
          "displot",
          "displot",
          "displot",
          "displot",
          "displot",
          "displot",
          "displot",
          "displot",
          "displot",
          "displot",
          "displot",
          "displot",
          "displot",
          "displot",
          "displot",
          "displot",
          "displot",
          "displot",
          "displot",
          "displot",
          "displot",
          "displot",
          "displot",
          "displot",
          "displot",
          "displot",
          "displot",
          "displot",
          "displot",
          "displot",
          "displot",
          "displot",
          "displot",
          "displot",
          "displot",
          "displot",
          "displot",
          "displot",
          "displot",
          "displot",
          "displot",
          "displot",
          "displot",
          "displot",
          "displot",
          "displot",
          "displot",
          "displot",
          "displot",
          "displot",
          "displot",
          "displot",
          "displot",
          "displot",
          "displot",
          "displot",
          "displot",
          "displot",
          "displot",
          "displot",
          "displot",
          "displot",
          "displot",
          "displot",
          "displot",
          "displot",
          "displot",
          "displot",
          "displot",
          "displot",
          "displot",
          "displot",
          "displot",
          "displot",
          "displot",
          "displot",
          "displot",
          "displot",
          "displot",
          "displot",
          "displot",
          "displot",
          "displot",
          "displot",
          "displot",
          "displot",
          "displot",
          "displot",
          "displot",
          "displot",
          "displot",
          "displot",
          "displot",
          "displot",
          "displot",
          "displot",
          "displot",
          "displot",
          "displot",
          "displot",
          "displot",
          "displot",
          "displot",
          "displot",
          "displot",
          "displot",
          "displot",
          "displot",
          "displot",
          "displot",
          "displot",
          "displot",
          "displot",
          "displot",
          "displot",
          "displot",
          "displot",
          "displot",
          "displot",
          "displot",
          "displot",
          "displot",
          "displot",
          "displot",
          "displot",
          "displot",
          "displot",
          "displot",
          "displot",
          "displot",
          "displot",
          "displot",
          "displot",
          "displot",
          "displot",
          "displot",
          "displot",
          "displot",
          "displot",
          "displot",
          "displot",
          "displot",
          "displot",
          "displot",
          "displot",
          "displot",
          "displot",
          "displot",
          "displot",
          "displot",
          "displot",
          "displot",
          "displot",
          "displot",
          "displot",
          "displot",
          "displot",
          "displot",
          "displot",
          "displot",
          "displot",
          "displot",
          "displot",
          "displot",
          "displot",
          "displot",
          "displot",
          "displot",
          "displot",
          "displot",
          "displot",
          "displot",
          "displot",
          "displot",
          "displot",
          "displot",
          "displot",
          "displot",
          "displot",
          "displot",
          "displot",
          "displot",
          "displot",
          "displot",
          "displot",
          "displot",
          "displot",
          "displot",
          "displot",
          "displot",
          "displot",
          "displot",
          "displot",
          "displot",
          "displot",
          "displot",
          "displot",
          "displot",
          "displot",
          "displot",
          "displot",
          "displot",
          "displot",
          "displot",
          "displot",
          "displot",
          "displot",
          "displot",
          "displot",
          "displot",
          "displot",
          "displot",
          "displot",
          "displot",
          "displot",
          "displot",
          "displot",
          "displot",
          "displot",
          "displot",
          "displot",
          "displot",
          "displot",
          "displot",
          "displot",
          "displot",
          "displot",
          "displot",
          "displot",
          "displot",
          "displot",
          "displot",
          "displot",
          "displot",
          "displot",
          "displot",
          "displot",
          "displot",
          "displot",
          "displot",
          "displot",
          "displot",
          "displot",
          "displot",
          "displot",
          "displot",
          "displot",
          "displot",
          "displot",
          "displot",
          "displot",
          "displot",
          "displot",
          "displot",
          "displot",
          "displot",
          "displot",
          "displot",
          "displot",
          "displot",
          "displot",
          "displot",
          "displot",
          "displot",
          "displot",
          "displot",
          "displot",
          "displot",
          "displot",
          "displot",
          "displot",
          "displot",
          "displot",
          "displot",
          "displot",
          "displot",
          "displot",
          "displot",
          "displot",
          "displot",
          "displot",
          "displot",
          "displot",
          "displot",
          "displot",
          "displot",
          "displot",
          "displot",
          "displot",
          "displot",
          "displot",
          "displot",
          "displot",
          "displot",
          "displot",
          "displot",
          "displot",
          "displot",
          "displot",
          "displot",
          "displot",
          "displot",
          "displot",
          "displot",
          "displot",
          "displot",
          "displot",
          "displot",
          "displot",
          "displot",
          "displot",
          "displot",
          "displot",
          "displot",
          "displot",
          "displot",
          "displot",
          "displot",
          "displot",
          "displot",
          "displot",
          "displot",
          "displot",
          "displot",
          "displot",
          "displot",
          "displot",
          "displot",
          "displot",
          "displot",
          "displot",
          "displot",
          "displot",
          "displot",
          "displot",
          "displot",
          "displot",
          "displot",
          "displot",
          "displot",
          "displot",
          "displot",
          "displot",
          "displot",
          "displot",
          "displot",
          "displot",
          "displot",
          "displot",
          "displot",
          "displot",
          "displot",
          "displot",
          "displot",
          "displot",
          "displot",
          "displot",
          "displot",
          "displot",
          "displot",
          "displot",
          "displot",
          "displot"
         ],
         "yaxis": "y2"
        }
       ],
       "layout": {
        "barmode": "overlay",
        "hovermode": "closest",
        "legend": {
         "traceorder": "reversed"
        },
        "template": {
         "data": {
          "bar": [
           {
            "error_x": {
             "color": "#2a3f5f"
            },
            "error_y": {
             "color": "#2a3f5f"
            },
            "marker": {
             "line": {
              "color": "#E5ECF6",
              "width": 0.5
             },
             "pattern": {
              "fillmode": "overlay",
              "size": 10,
              "solidity": 0.2
             }
            },
            "type": "bar"
           }
          ],
          "barpolar": [
           {
            "marker": {
             "line": {
              "color": "#E5ECF6",
              "width": 0.5
             },
             "pattern": {
              "fillmode": "overlay",
              "size": 10,
              "solidity": 0.2
             }
            },
            "type": "barpolar"
           }
          ],
          "carpet": [
           {
            "aaxis": {
             "endlinecolor": "#2a3f5f",
             "gridcolor": "white",
             "linecolor": "white",
             "minorgridcolor": "white",
             "startlinecolor": "#2a3f5f"
            },
            "baxis": {
             "endlinecolor": "#2a3f5f",
             "gridcolor": "white",
             "linecolor": "white",
             "minorgridcolor": "white",
             "startlinecolor": "#2a3f5f"
            },
            "type": "carpet"
           }
          ],
          "choropleth": [
           {
            "colorbar": {
             "outlinewidth": 0,
             "ticks": ""
            },
            "type": "choropleth"
           }
          ],
          "contour": [
           {
            "colorbar": {
             "outlinewidth": 0,
             "ticks": ""
            },
            "colorscale": [
             [
              0,
              "#0d0887"
             ],
             [
              0.1111111111111111,
              "#46039f"
             ],
             [
              0.2222222222222222,
              "#7201a8"
             ],
             [
              0.3333333333333333,
              "#9c179e"
             ],
             [
              0.4444444444444444,
              "#bd3786"
             ],
             [
              0.5555555555555556,
              "#d8576b"
             ],
             [
              0.6666666666666666,
              "#ed7953"
             ],
             [
              0.7777777777777778,
              "#fb9f3a"
             ],
             [
              0.8888888888888888,
              "#fdca26"
             ],
             [
              1,
              "#f0f921"
             ]
            ],
            "type": "contour"
           }
          ],
          "contourcarpet": [
           {
            "colorbar": {
             "outlinewidth": 0,
             "ticks": ""
            },
            "type": "contourcarpet"
           }
          ],
          "heatmap": [
           {
            "colorbar": {
             "outlinewidth": 0,
             "ticks": ""
            },
            "colorscale": [
             [
              0,
              "#0d0887"
             ],
             [
              0.1111111111111111,
              "#46039f"
             ],
             [
              0.2222222222222222,
              "#7201a8"
             ],
             [
              0.3333333333333333,
              "#9c179e"
             ],
             [
              0.4444444444444444,
              "#bd3786"
             ],
             [
              0.5555555555555556,
              "#d8576b"
             ],
             [
              0.6666666666666666,
              "#ed7953"
             ],
             [
              0.7777777777777778,
              "#fb9f3a"
             ],
             [
              0.8888888888888888,
              "#fdca26"
             ],
             [
              1,
              "#f0f921"
             ]
            ],
            "type": "heatmap"
           }
          ],
          "heatmapgl": [
           {
            "colorbar": {
             "outlinewidth": 0,
             "ticks": ""
            },
            "colorscale": [
             [
              0,
              "#0d0887"
             ],
             [
              0.1111111111111111,
              "#46039f"
             ],
             [
              0.2222222222222222,
              "#7201a8"
             ],
             [
              0.3333333333333333,
              "#9c179e"
             ],
             [
              0.4444444444444444,
              "#bd3786"
             ],
             [
              0.5555555555555556,
              "#d8576b"
             ],
             [
              0.6666666666666666,
              "#ed7953"
             ],
             [
              0.7777777777777778,
              "#fb9f3a"
             ],
             [
              0.8888888888888888,
              "#fdca26"
             ],
             [
              1,
              "#f0f921"
             ]
            ],
            "type": "heatmapgl"
           }
          ],
          "histogram": [
           {
            "marker": {
             "pattern": {
              "fillmode": "overlay",
              "size": 10,
              "solidity": 0.2
             }
            },
            "type": "histogram"
           }
          ],
          "histogram2d": [
           {
            "colorbar": {
             "outlinewidth": 0,
             "ticks": ""
            },
            "colorscale": [
             [
              0,
              "#0d0887"
             ],
             [
              0.1111111111111111,
              "#46039f"
             ],
             [
              0.2222222222222222,
              "#7201a8"
             ],
             [
              0.3333333333333333,
              "#9c179e"
             ],
             [
              0.4444444444444444,
              "#bd3786"
             ],
             [
              0.5555555555555556,
              "#d8576b"
             ],
             [
              0.6666666666666666,
              "#ed7953"
             ],
             [
              0.7777777777777778,
              "#fb9f3a"
             ],
             [
              0.8888888888888888,
              "#fdca26"
             ],
             [
              1,
              "#f0f921"
             ]
            ],
            "type": "histogram2d"
           }
          ],
          "histogram2dcontour": [
           {
            "colorbar": {
             "outlinewidth": 0,
             "ticks": ""
            },
            "colorscale": [
             [
              0,
              "#0d0887"
             ],
             [
              0.1111111111111111,
              "#46039f"
             ],
             [
              0.2222222222222222,
              "#7201a8"
             ],
             [
              0.3333333333333333,
              "#9c179e"
             ],
             [
              0.4444444444444444,
              "#bd3786"
             ],
             [
              0.5555555555555556,
              "#d8576b"
             ],
             [
              0.6666666666666666,
              "#ed7953"
             ],
             [
              0.7777777777777778,
              "#fb9f3a"
             ],
             [
              0.8888888888888888,
              "#fdca26"
             ],
             [
              1,
              "#f0f921"
             ]
            ],
            "type": "histogram2dcontour"
           }
          ],
          "mesh3d": [
           {
            "colorbar": {
             "outlinewidth": 0,
             "ticks": ""
            },
            "type": "mesh3d"
           }
          ],
          "parcoords": [
           {
            "line": {
             "colorbar": {
              "outlinewidth": 0,
              "ticks": ""
             }
            },
            "type": "parcoords"
           }
          ],
          "pie": [
           {
            "automargin": true,
            "type": "pie"
           }
          ],
          "scatter": [
           {
            "fillpattern": {
             "fillmode": "overlay",
             "size": 10,
             "solidity": 0.2
            },
            "type": "scatter"
           }
          ],
          "scatter3d": [
           {
            "line": {
             "colorbar": {
              "outlinewidth": 0,
              "ticks": ""
             }
            },
            "marker": {
             "colorbar": {
              "outlinewidth": 0,
              "ticks": ""
             }
            },
            "type": "scatter3d"
           }
          ],
          "scattercarpet": [
           {
            "marker": {
             "colorbar": {
              "outlinewidth": 0,
              "ticks": ""
             }
            },
            "type": "scattercarpet"
           }
          ],
          "scattergeo": [
           {
            "marker": {
             "colorbar": {
              "outlinewidth": 0,
              "ticks": ""
             }
            },
            "type": "scattergeo"
           }
          ],
          "scattergl": [
           {
            "marker": {
             "colorbar": {
              "outlinewidth": 0,
              "ticks": ""
             }
            },
            "type": "scattergl"
           }
          ],
          "scattermapbox": [
           {
            "marker": {
             "colorbar": {
              "outlinewidth": 0,
              "ticks": ""
             }
            },
            "type": "scattermapbox"
           }
          ],
          "scatterpolar": [
           {
            "marker": {
             "colorbar": {
              "outlinewidth": 0,
              "ticks": ""
             }
            },
            "type": "scatterpolar"
           }
          ],
          "scatterpolargl": [
           {
            "marker": {
             "colorbar": {
              "outlinewidth": 0,
              "ticks": ""
             }
            },
            "type": "scatterpolargl"
           }
          ],
          "scatterternary": [
           {
            "marker": {
             "colorbar": {
              "outlinewidth": 0,
              "ticks": ""
             }
            },
            "type": "scatterternary"
           }
          ],
          "surface": [
           {
            "colorbar": {
             "outlinewidth": 0,
             "ticks": ""
            },
            "colorscale": [
             [
              0,
              "#0d0887"
             ],
             [
              0.1111111111111111,
              "#46039f"
             ],
             [
              0.2222222222222222,
              "#7201a8"
             ],
             [
              0.3333333333333333,
              "#9c179e"
             ],
             [
              0.4444444444444444,
              "#bd3786"
             ],
             [
              0.5555555555555556,
              "#d8576b"
             ],
             [
              0.6666666666666666,
              "#ed7953"
             ],
             [
              0.7777777777777778,
              "#fb9f3a"
             ],
             [
              0.8888888888888888,
              "#fdca26"
             ],
             [
              1,
              "#f0f921"
             ]
            ],
            "type": "surface"
           }
          ],
          "table": [
           {
            "cells": {
             "fill": {
              "color": "#EBF0F8"
             },
             "line": {
              "color": "white"
             }
            },
            "header": {
             "fill": {
              "color": "#C8D4E3"
             },
             "line": {
              "color": "white"
             }
            },
            "type": "table"
           }
          ]
         },
         "layout": {
          "annotationdefaults": {
           "arrowcolor": "#2a3f5f",
           "arrowhead": 0,
           "arrowwidth": 1
          },
          "autotypenumbers": "strict",
          "coloraxis": {
           "colorbar": {
            "outlinewidth": 0,
            "ticks": ""
           }
          },
          "colorscale": {
           "diverging": [
            [
             0,
             "#8e0152"
            ],
            [
             0.1,
             "#c51b7d"
            ],
            [
             0.2,
             "#de77ae"
            ],
            [
             0.3,
             "#f1b6da"
            ],
            [
             0.4,
             "#fde0ef"
            ],
            [
             0.5,
             "#f7f7f7"
            ],
            [
             0.6,
             "#e6f5d0"
            ],
            [
             0.7,
             "#b8e186"
            ],
            [
             0.8,
             "#7fbc41"
            ],
            [
             0.9,
             "#4d9221"
            ],
            [
             1,
             "#276419"
            ]
           ],
           "sequential": [
            [
             0,
             "#0d0887"
            ],
            [
             0.1111111111111111,
             "#46039f"
            ],
            [
             0.2222222222222222,
             "#7201a8"
            ],
            [
             0.3333333333333333,
             "#9c179e"
            ],
            [
             0.4444444444444444,
             "#bd3786"
            ],
            [
             0.5555555555555556,
             "#d8576b"
            ],
            [
             0.6666666666666666,
             "#ed7953"
            ],
            [
             0.7777777777777778,
             "#fb9f3a"
            ],
            [
             0.8888888888888888,
             "#fdca26"
            ],
            [
             1,
             "#f0f921"
            ]
           ],
           "sequentialminus": [
            [
             0,
             "#0d0887"
            ],
            [
             0.1111111111111111,
             "#46039f"
            ],
            [
             0.2222222222222222,
             "#7201a8"
            ],
            [
             0.3333333333333333,
             "#9c179e"
            ],
            [
             0.4444444444444444,
             "#bd3786"
            ],
            [
             0.5555555555555556,
             "#d8576b"
            ],
            [
             0.6666666666666666,
             "#ed7953"
            ],
            [
             0.7777777777777778,
             "#fb9f3a"
            ],
            [
             0.8888888888888888,
             "#fdca26"
            ],
            [
             1,
             "#f0f921"
            ]
           ]
          },
          "colorway": [
           "#636efa",
           "#EF553B",
           "#00cc96",
           "#ab63fa",
           "#FFA15A",
           "#19d3f3",
           "#FF6692",
           "#B6E880",
           "#FF97FF",
           "#FECB52"
          ],
          "font": {
           "color": "#2a3f5f"
          },
          "geo": {
           "bgcolor": "white",
           "lakecolor": "white",
           "landcolor": "#E5ECF6",
           "showlakes": true,
           "showland": true,
           "subunitcolor": "white"
          },
          "hoverlabel": {
           "align": "left"
          },
          "hovermode": "closest",
          "mapbox": {
           "style": "light"
          },
          "paper_bgcolor": "white",
          "plot_bgcolor": "#E5ECF6",
          "polar": {
           "angularaxis": {
            "gridcolor": "white",
            "linecolor": "white",
            "ticks": ""
           },
           "bgcolor": "#E5ECF6",
           "radialaxis": {
            "gridcolor": "white",
            "linecolor": "white",
            "ticks": ""
           }
          },
          "scene": {
           "xaxis": {
            "backgroundcolor": "#E5ECF6",
            "gridcolor": "white",
            "gridwidth": 2,
            "linecolor": "white",
            "showbackground": true,
            "ticks": "",
            "zerolinecolor": "white"
           },
           "yaxis": {
            "backgroundcolor": "#E5ECF6",
            "gridcolor": "white",
            "gridwidth": 2,
            "linecolor": "white",
            "showbackground": true,
            "ticks": "",
            "zerolinecolor": "white"
           },
           "zaxis": {
            "backgroundcolor": "#E5ECF6",
            "gridcolor": "white",
            "gridwidth": 2,
            "linecolor": "white",
            "showbackground": true,
            "ticks": "",
            "zerolinecolor": "white"
           }
          },
          "shapedefaults": {
           "line": {
            "color": "#2a3f5f"
           }
          },
          "ternary": {
           "aaxis": {
            "gridcolor": "white",
            "linecolor": "white",
            "ticks": ""
           },
           "baxis": {
            "gridcolor": "white",
            "linecolor": "white",
            "ticks": ""
           },
           "bgcolor": "#E5ECF6",
           "caxis": {
            "gridcolor": "white",
            "linecolor": "white",
            "ticks": ""
           }
          },
          "title": {
           "x": 0.05
          },
          "xaxis": {
           "automargin": true,
           "gridcolor": "white",
           "linecolor": "white",
           "ticks": "",
           "title": {
            "standoff": 15
           },
           "zerolinecolor": "white",
           "zerolinewidth": 2
          },
          "yaxis": {
           "automargin": true,
           "gridcolor": "white",
           "linecolor": "white",
           "ticks": "",
           "title": {
            "standoff": 15
           },
           "zerolinecolor": "white",
           "zerolinewidth": 2
          }
         }
        },
        "xaxis": {
         "anchor": "y2",
         "domain": [
          0,
          1
         ],
         "zeroline": false
        },
        "yaxis": {
         "anchor": "free",
         "domain": [
          0.35,
          1
         ],
         "position": 0
        },
        "yaxis2": {
         "anchor": "x",
         "domain": [
          0,
          0.25
         ],
         "dtick": 1,
         "showticklabels": false
        }
       }
      }
     },
     "metadata": {},
     "output_type": "display_data"
    }
   ],
   "source": [
    "import plotly.figure_factory as ff\n",
    "\n",
    "hist_data = [X_train_imputado_df['AGE'].tolist()]\n",
    "group_labels = ['displot']\n",
    "fig = ff.create_distplot(hist_data, group_labels, bin_size=10)\n",
    "\n",
    "fig.show()"
   ]
  },
  {
   "cell_type": "code",
   "execution_count": 64,
   "metadata": {},
   "outputs": [
    {
     "data": {
      "image/png": "[encoded data removed]",
      "text/plain": [
       "<Figure size 1000x1000 with 2 Axes>"
      ]
     },
     "metadata": {},
     "output_type": "display_data"
    }
   ],
   "source": [
    "df_numeric = X_train[['CRIM','ZN','INDUS','CHAS','NOX','RM','AGE','DIS','RAD','TAX','PTRATIO','B','LSTAT']]\n",
    "corrmat = df_numeric.corr()\n",
    "fig, ax = plt.subplots(figsize=(10,10))\n",
    "sns.heatmap(corrmat, vmax=1,vmin=-1, annot=True, linewidths=.5, ax=ax, cmap='vlag')\n",
    "plt.show()"
   ]
  },
  {
   "cell_type": "code",
   "execution_count": 73,
   "metadata": {},
   "outputs": [
    {
     "data": {
      "text/html": [
       "<div>\n",
       "<style scoped>\n",
       "    .dataframe tbody tr th:only-of-type {\n",
       "        vertical-align: middle;\n",
       "    }\n",
       "\n",
       "    .dataframe tbody tr th {\n",
       "        vertical-align: top;\n",
       "    }\n",
       "\n",
       "    .dataframe thead th {\n",
       "        text-align: right;\n",
       "    }\n",
       "</style>\n",
       "<table border=\"1\" class=\"dataframe\">\n",
       "  <thead>\n",
       "    <tr style=\"text-align: right;\">\n",
       "      <th></th>\n",
       "      <th>CRIM</th>\n",
       "      <th>ZN</th>\n",
       "      <th>INDUS</th>\n",
       "      <th>NOX</th>\n",
       "      <th>RM</th>\n",
       "      <th>AGE</th>\n",
       "      <th>DIS</th>\n",
       "      <th>RAD</th>\n",
       "      <th>TAX</th>\n",
       "      <th>PTRATIO</th>\n",
       "      <th>B</th>\n",
       "      <th>LSTAT</th>\n",
       "    </tr>\n",
       "  </thead>\n",
       "  <tbody>\n",
       "    <tr>\n",
       "      <th>count</th>\n",
       "      <td>444.000000</td>\n",
       "      <td>444.000000</td>\n",
       "      <td>444.000000</td>\n",
       "      <td>444.000000</td>\n",
       "      <td>444.000000</td>\n",
       "      <td>444.000000</td>\n",
       "      <td>444.000000</td>\n",
       "      <td>444.000000</td>\n",
       "      <td>444.000000</td>\n",
       "      <td>444.000000</td>\n",
       "      <td>444.000000</td>\n",
       "      <td>444.000000</td>\n",
       "    </tr>\n",
       "    <tr>\n",
       "      <th>mean</th>\n",
       "      <td>6.799924</td>\n",
       "      <td>15.590984</td>\n",
       "      <td>11.058813</td>\n",
       "      <td>0.561241</td>\n",
       "      <td>6.291735</td>\n",
       "      <td>66.539648</td>\n",
       "      <td>4.048447</td>\n",
       "      <td>9.556306</td>\n",
       "      <td>411.469537</td>\n",
       "      <td>18.352888</td>\n",
       "      <td>341.491154</td>\n",
       "      <td>13.013760</td>\n",
       "    </tr>\n",
       "    <tr>\n",
       "      <th>std</th>\n",
       "      <td>14.735007</td>\n",
       "      <td>26.455970</td>\n",
       "      <td>6.817424</td>\n",
       "      <td>0.119968</td>\n",
       "      <td>0.771264</td>\n",
       "      <td>28.436427</td>\n",
       "      <td>2.291034</td>\n",
       "      <td>8.444159</td>\n",
       "      <td>164.036953</td>\n",
       "      <td>2.197839</td>\n",
       "      <td>103.080440</td>\n",
       "      <td>7.562543</td>\n",
       "    </tr>\n",
       "    <tr>\n",
       "      <th>min</th>\n",
       "      <td>0.006320</td>\n",
       "      <td>0.000000</td>\n",
       "      <td>0.460000</td>\n",
       "      <td>0.385000</td>\n",
       "      <td>3.561000</td>\n",
       "      <td>2.900000</td>\n",
       "      <td>1.129600</td>\n",
       "      <td>1.000000</td>\n",
       "      <td>187.000000</td>\n",
       "      <td>12.600000</td>\n",
       "      <td>0.320000</td>\n",
       "      <td>1.730000</td>\n",
       "    </tr>\n",
       "    <tr>\n",
       "      <th>25%</th>\n",
       "      <td>0.081960</td>\n",
       "      <td>0.000000</td>\n",
       "      <td>5.130000</td>\n",
       "      <td>0.453000</td>\n",
       "      <td>5.883604</td>\n",
       "      <td>41.754799</td>\n",
       "      <td>2.167725</td>\n",
       "      <td>4.000000</td>\n",
       "      <td>281.161404</td>\n",
       "      <td>16.850330</td>\n",
       "      <td>357.160000</td>\n",
       "      <td>7.187500</td>\n",
       "    </tr>\n",
       "    <tr>\n",
       "      <th>50%</th>\n",
       "      <td>0.330960</td>\n",
       "      <td>0.000000</td>\n",
       "      <td>9.690000</td>\n",
       "      <td>0.538000</td>\n",
       "      <td>6.217669</td>\n",
       "      <td>73.350000</td>\n",
       "      <td>3.394250</td>\n",
       "      <td>5.000000</td>\n",
       "      <td>354.732814</td>\n",
       "      <td>18.702387</td>\n",
       "      <td>389.780000</td>\n",
       "      <td>11.475000</td>\n",
       "    </tr>\n",
       "    <tr>\n",
       "      <th>75%</th>\n",
       "      <td>5.821865</td>\n",
       "      <td>22.000000</td>\n",
       "      <td>18.100000</td>\n",
       "      <td>0.647000</td>\n",
       "      <td>6.679250</td>\n",
       "      <td>92.900000</td>\n",
       "      <td>5.491700</td>\n",
       "      <td>16.250000</td>\n",
       "      <td>613.743776</td>\n",
       "      <td>20.200000</td>\n",
       "      <td>395.690000</td>\n",
       "      <td>17.187500</td>\n",
       "    </tr>\n",
       "    <tr>\n",
       "      <th>max</th>\n",
       "      <td>88.924127</td>\n",
       "      <td>100.000000</td>\n",
       "      <td>27.740000</td>\n",
       "      <td>0.871000</td>\n",
       "      <td>8.748910</td>\n",
       "      <td>100.000000</td>\n",
       "      <td>12.126500</td>\n",
       "      <td>24.000000</td>\n",
       "      <td>711.000000</td>\n",
       "      <td>22.000000</td>\n",
       "      <td>396.900000</td>\n",
       "      <td>36.980000</td>\n",
       "    </tr>\n",
       "  </tbody>\n",
       "</table>\n",
       "</div>"
      ],
      "text/plain": [
       "             CRIM          ZN       INDUS         NOX          RM         AGE  \\\n",
       "count  444.000000  444.000000  444.000000  444.000000  444.000000  444.000000   \n",
       "mean     6.799924   15.590984   11.058813    0.561241    6.291735   66.539648   \n",
       "std     14.735007   26.455970    6.817424    0.119968    0.771264   28.436427   \n",
       "min      0.006320    0.000000    0.460000    0.385000    3.561000    2.900000   \n",
       "25%      0.081960    0.000000    5.130000    0.453000    5.883604   41.754799   \n",
       "50%      0.330960    0.000000    9.690000    0.538000    6.217669   73.350000   \n",
       "75%      5.821865   22.000000   18.100000    0.647000    6.679250   92.900000   \n",
       "max     88.924127  100.000000   27.740000    0.871000    8.748910  100.000000   \n",
       "\n",
       "              DIS         RAD         TAX     PTRATIO           B       LSTAT  \n",
       "count  444.000000  444.000000  444.000000  444.000000  444.000000  444.000000  \n",
       "mean     4.048447    9.556306  411.469537   18.352888  341.491154   13.013760  \n",
       "std      2.291034    8.444159  164.036953    2.197839  103.080440    7.562543  \n",
       "min      1.129600    1.000000  187.000000   12.600000    0.320000    1.730000  \n",
       "25%      2.167725    4.000000  281.161404   16.850330  357.160000    7.187500  \n",
       "50%      3.394250    5.000000  354.732814   18.702387  389.780000   11.475000  \n",
       "75%      5.491700   16.250000  613.743776   20.200000  395.690000   17.187500  \n",
       "max     12.126500   24.000000  711.000000   22.000000  396.900000   36.980000  "
      ]
     },
     "execution_count": 73,
     "metadata": {},
     "output_type": "execute_result"
    }
   ],
   "source": [
    "X_train_imputado_df.describe()"
   ]
  },
  {
   "cell_type": "code",
   "execution_count": 77,
   "metadata": {},
   "outputs": [
    {
     "data": {
      "text/html": [
       "<div>\n",
       "<style scoped>\n",
       "    .dataframe tbody tr th:only-of-type {\n",
       "        vertical-align: middle;\n",
       "    }\n",
       "\n",
       "    .dataframe tbody tr th {\n",
       "        vertical-align: top;\n",
       "    }\n",
       "\n",
       "    .dataframe thead th {\n",
       "        text-align: right;\n",
       "    }\n",
       "</style>\n",
       "<table border=\"1\" class=\"dataframe\">\n",
       "  <thead>\n",
       "    <tr style=\"text-align: right;\">\n",
       "      <th></th>\n",
       "      <th>CRIM</th>\n",
       "      <th>ZN</th>\n",
       "      <th>INDUS</th>\n",
       "      <th>CHAS</th>\n",
       "      <th>NOX</th>\n",
       "      <th>RM</th>\n",
       "      <th>AGE</th>\n",
       "      <th>DIS</th>\n",
       "      <th>RAD</th>\n",
       "      <th>TAX</th>\n",
       "      <th>PTRATIO</th>\n",
       "      <th>B</th>\n",
       "      <th>LSTAT</th>\n",
       "    </tr>\n",
       "  </thead>\n",
       "  <tbody>\n",
       "    <tr>\n",
       "      <th>count</th>\n",
       "      <td>444.000000</td>\n",
       "      <td>444.00000</td>\n",
       "      <td>444.000000</td>\n",
       "      <td>444.000000</td>\n",
       "      <td>444.000000</td>\n",
       "      <td>444.000000</td>\n",
       "      <td>444.000000</td>\n",
       "      <td>444.000000</td>\n",
       "      <td>444.000000</td>\n",
       "      <td>444.000000</td>\n",
       "      <td>444.000000</td>\n",
       "      <td>444.000000</td>\n",
       "      <td>444.000000</td>\n",
       "    </tr>\n",
       "    <tr>\n",
       "      <th>mean</th>\n",
       "      <td>0.076403</td>\n",
       "      <td>0.15591</td>\n",
       "      <td>0.388520</td>\n",
       "      <td>0.076577</td>\n",
       "      <td>0.362635</td>\n",
       "      <td>0.526365</td>\n",
       "      <td>0.655403</td>\n",
       "      <td>0.265425</td>\n",
       "      <td>0.372013</td>\n",
       "      <td>0.428377</td>\n",
       "      <td>0.612009</td>\n",
       "      <td>0.860283</td>\n",
       "      <td>0.320107</td>\n",
       "    </tr>\n",
       "    <tr>\n",
       "      <th>std</th>\n",
       "      <td>0.165715</td>\n",
       "      <td>0.26456</td>\n",
       "      <td>0.249906</td>\n",
       "      <td>0.266218</td>\n",
       "      <td>0.246848</td>\n",
       "      <td>0.148666</td>\n",
       "      <td>0.292857</td>\n",
       "      <td>0.208335</td>\n",
       "      <td>0.367137</td>\n",
       "      <td>0.313048</td>\n",
       "      <td>0.233813</td>\n",
       "      <td>0.259923</td>\n",
       "      <td>0.214540</td>\n",
       "    </tr>\n",
       "    <tr>\n",
       "      <th>min</th>\n",
       "      <td>0.000000</td>\n",
       "      <td>0.00000</td>\n",
       "      <td>0.000000</td>\n",
       "      <td>0.000000</td>\n",
       "      <td>0.000000</td>\n",
       "      <td>0.000000</td>\n",
       "      <td>0.000000</td>\n",
       "      <td>0.000000</td>\n",
       "      <td>0.000000</td>\n",
       "      <td>0.000000</td>\n",
       "      <td>0.000000</td>\n",
       "      <td>0.000000</td>\n",
       "      <td>0.000000</td>\n",
       "    </tr>\n",
       "    <tr>\n",
       "      <th>25%</th>\n",
       "      <td>0.000851</td>\n",
       "      <td>0.00000</td>\n",
       "      <td>0.171188</td>\n",
       "      <td>0.000000</td>\n",
       "      <td>0.139918</td>\n",
       "      <td>0.447695</td>\n",
       "      <td>0.400152</td>\n",
       "      <td>0.094402</td>\n",
       "      <td>0.130435</td>\n",
       "      <td>0.179697</td>\n",
       "      <td>0.452163</td>\n",
       "      <td>0.899793</td>\n",
       "      <td>0.154823</td>\n",
       "    </tr>\n",
       "    <tr>\n",
       "      <th>50%</th>\n",
       "      <td>0.003651</td>\n",
       "      <td>0.00000</td>\n",
       "      <td>0.338343</td>\n",
       "      <td>0.000000</td>\n",
       "      <td>0.314815</td>\n",
       "      <td>0.512089</td>\n",
       "      <td>0.725541</td>\n",
       "      <td>0.205935</td>\n",
       "      <td>0.173913</td>\n",
       "      <td>0.320101</td>\n",
       "      <td>0.649190</td>\n",
       "      <td>0.982046</td>\n",
       "      <td>0.276454</td>\n",
       "    </tr>\n",
       "    <tr>\n",
       "      <th>75%</th>\n",
       "      <td>0.065404</td>\n",
       "      <td>0.22000</td>\n",
       "      <td>0.646628</td>\n",
       "      <td>0.000000</td>\n",
       "      <td>0.539095</td>\n",
       "      <td>0.601061</td>\n",
       "      <td>0.926880</td>\n",
       "      <td>0.396666</td>\n",
       "      <td>0.663043</td>\n",
       "      <td>0.814397</td>\n",
       "      <td>0.808511</td>\n",
       "      <td>0.996949</td>\n",
       "      <td>0.438511</td>\n",
       "    </tr>\n",
       "    <tr>\n",
       "      <th>max</th>\n",
       "      <td>1.000000</td>\n",
       "      <td>1.00000</td>\n",
       "      <td>1.000000</td>\n",
       "      <td>1.000000</td>\n",
       "      <td>1.000000</td>\n",
       "      <td>1.000000</td>\n",
       "      <td>1.000000</td>\n",
       "      <td>1.000000</td>\n",
       "      <td>1.000000</td>\n",
       "      <td>1.000000</td>\n",
       "      <td>1.000000</td>\n",
       "      <td>1.000000</td>\n",
       "      <td>1.000000</td>\n",
       "    </tr>\n",
       "  </tbody>\n",
       "</table>\n",
       "</div>"
      ],
      "text/plain": [
       "             CRIM         ZN       INDUS        CHAS         NOX          RM  \\\n",
       "count  444.000000  444.00000  444.000000  444.000000  444.000000  444.000000   \n",
       "mean     0.076403    0.15591    0.388520    0.076577    0.362635    0.526365   \n",
       "std      0.165715    0.26456    0.249906    0.266218    0.246848    0.148666   \n",
       "min      0.000000    0.00000    0.000000    0.000000    0.000000    0.000000   \n",
       "25%      0.000851    0.00000    0.171188    0.000000    0.139918    0.447695   \n",
       "50%      0.003651    0.00000    0.338343    0.000000    0.314815    0.512089   \n",
       "75%      0.065404    0.22000    0.646628    0.000000    0.539095    0.601061   \n",
       "max      1.000000    1.00000    1.000000    1.000000    1.000000    1.000000   \n",
       "\n",
       "              AGE         DIS         RAD         TAX     PTRATIO           B  \\\n",
       "count  444.000000  444.000000  444.000000  444.000000  444.000000  444.000000   \n",
       "mean     0.655403    0.265425    0.372013    0.428377    0.612009    0.860283   \n",
       "std      0.292857    0.208335    0.367137    0.313048    0.233813    0.259923   \n",
       "min      0.000000    0.000000    0.000000    0.000000    0.000000    0.000000   \n",
       "25%      0.400152    0.094402    0.130435    0.179697    0.452163    0.899793   \n",
       "50%      0.725541    0.205935    0.173913    0.320101    0.649190    0.982046   \n",
       "75%      0.926880    0.396666    0.663043    0.814397    0.808511    0.996949   \n",
       "max      1.000000    1.000000    1.000000    1.000000    1.000000    1.000000   \n",
       "\n",
       "            LSTAT  \n",
       "count  444.000000  \n",
       "mean     0.320107  \n",
       "std      0.214540  \n",
       "min      0.000000  \n",
       "25%      0.154823  \n",
       "50%      0.276454  \n",
       "75%      0.438511  \n",
       "max      1.000000  "
      ]
     },
     "execution_count": 77,
     "metadata": {},
     "output_type": "execute_result"
    }
   ],
   "source": [
    "scaler = MinMaxScaler()\n",
    "X_train_escalado = scaler.fit_transform(X_train_imputado_df)\n",
    "X_train_escalado_df = pd.DataFrame(X_train_escalado,columns=X_train_imputado_df.columns)\n",
    "X_train_escalado_df.describe()"
   ]
  },
  {
   "cell_type": "code",
   "execution_count": 83,
   "metadata": {},
   "outputs": [
    {
     "data": {
      "image/png": "[encoded data removed]",
      "text/plain": [
       "<Figure size 640x480 with 1 Axes>"
      ]
     },
     "metadata": {},
     "output_type": "display_data"
    }
   ],
   "source": [
    "sns.histplot(X_train_escalado_df)\n",
    "plt.show()"
   ]
  },
  {
   "cell_type": "code",
   "execution_count": null,
   "metadata": {},
   "outputs": [],
   "source": []
  },
  {
   "cell_type": "code",
   "execution_count": null,
   "metadata": {},
   "outputs": [],
   "source": []
  },
  {
   "cell_type": "code",
   "execution_count": null,
   "metadata": {},
   "outputs": [],
   "source": []
  },
  {
   "cell_type": "code",
   "execution_count": null,
   "metadata": {},
   "outputs": [],
   "source": [
    "#sabes cual es el iglu de la gentre negra? un nigglu..."
   ]
  }
 ],
 "metadata": {
  "kernelspec": {
   "display_name": "Python 3",
   "language": "python",
   "name": "python3"
  },
  "language_info": {
   "codemirror_mode": {
    "name": "ipython",
    "version": 3
   },
   "file_extension": ".py",
   "mimetype": "text/x-python",
   "name": "python",
   "nbconvert_exporter": "python",
   "pygments_lexer": "ipython3",
   "version": "3.10.9"
  }
 },
 "nbformat": 4,
 "nbformat_minor": 2
}
